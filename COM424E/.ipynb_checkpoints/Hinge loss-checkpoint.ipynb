{
 "cells": [
  {
   "cell_type": "code",
   "execution_count": 3,
   "id": "b932fd14-f757-484d-8076-57d4f52d92a7",
   "metadata": {},
   "outputs": [
    {
     "name": "stdout",
     "output_type": "stream",
     "text": [
      "Hinge Loss: 0.6499999999999999\n"
     ]
    }
   ],
   "source": [
    "import numpy as np\n",
    "\n",
    "def hinge_loss(y_true, y_pred):\n",
    "    return np.mean(np.maximum(0, 1 - y_true * y_pred))\n",
    "\n",
    "# Example\n",
    "y_true = np.array([1, -1, 1, -1])    # true labels\n",
    "y_pred = np.array([0.8, -0.5, 0.3, 0.2])  # raw scores\n",
    "\n",
    "loss = hinge_loss(y_true, y_pred)\n",
    "print(\"Hinge Loss:\", loss)\n"
   ]
  },
  {
   "cell_type": "code",
   "execution_count": null,
   "id": "bb86a37e-cca4-4c55-8c28-da7d01187284",
   "metadata": {},
   "outputs": [],
   "source": []
  }
 ],
 "metadata": {
  "kernelspec": {
   "display_name": "Python 3 (ipykernel)",
   "language": "python",
   "name": "python3"
  },
  "language_info": {
   "codemirror_mode": {
    "name": "ipython",
    "version": 3
   },
   "file_extension": ".py",
   "mimetype": "text/x-python",
   "name": "python",
   "nbconvert_exporter": "python",
   "pygments_lexer": "ipython3",
   "version": "3.13.3"
  }
 },
 "nbformat": 4,
 "nbformat_minor": 5
}
