{
 "cells": [
  {
   "cell_type": "code",
   "execution_count": 2,
   "id": "646a0a97-7a09-4698-93d8-39f5963f2a23",
   "metadata": {},
   "outputs": [],
   "source": [
    "import numpy as np\n",
    "import nnfs\n",
    "from nnfs.datasets import spiral_data\n",
    "nnfs.init()"
   ]
  },
  {
   "cell_type": "code",
   "execution_count": 3,
   "id": "49891adf-18ee-474e-8c0f-52191afb3ab6",
   "metadata": {},
   "outputs": [
    {
     "name": "stdout",
     "output_type": "stream",
     "text": [
      "[[0.         0.         0.        ]\n",
      " [0.         0.00113954 0.        ]\n",
      " [0.         0.00317292 0.        ]\n",
      " [0.         0.00526663 0.        ]\n",
      " [0.         0.00714014 0.        ]] \n",
      "\n",
      "\n",
      "[[0.33333334 0.33333334 0.33333334]\n",
      " [0.33331734 0.3333183  0.33336434]\n",
      " [0.3332888  0.33329153 0.33341965]\n",
      " [0.33325943 0.33326396 0.33347666]\n",
      " [0.33323312 0.33323926 0.33352762]]\n"
     ]
    }
   ],
   "source": [
    "class Layer_Dense:\n",
    "  def __init__(self, n_inputs, n_neurons):\n",
    "        self.weights = 0.10 * np.random.randn(n_inputs, n_neurons)\n",
    "        self.biases = np.zeros((1, n_neurons))\n",
    "  def forward(self, inputs):\n",
    "      self.output = np.dot(inputs, self.weights) + self.biases\n",
    "\n",
    "class Activation_ReLU:\n",
    "  def forward(self, inputs):\n",
    "    self.output = np.maximum(0, inputs)\n",
    "\n",
    "class Activation_Softmax:\n",
    "  def forward(self, inputs):\n",
    "    exp_values = np.exp(inputs - np.max(inputs, axis=1, keepdims=True))\n",
    "    probablities = exp_values / np.sum(exp_values, axis=1, keepdims=True)\n",
    "      \n",
    "    self.output = probablities\n",
    "\n",
    "X, y = spiral_data(100, 3)\n",
    "\n",
    "dense1 = Layer_Dense(2, 3)\n",
    "activation1 = Activation_ReLU()\n",
    "\n",
    "dense2 = Layer_Dense(3, 3)\n",
    "activation2 = Activation_Softmax()\n",
    "\n",
    "dense1.forward(X)\n",
    "activation1.forward(dense1.output)\n",
    "print(activation1.output[:5],\"\\n\\n\")\n",
    "dense2.forward(activation1.output)\n",
    "activation2.forward(dense2.output)\n",
    "print(activation2.output[:5])"
   ]
  },
  {
   "cell_type": "code",
   "execution_count": 4,
   "id": "2281ac65-d552-41aa-9fd0-231451406ece",
   "metadata": {},
   "outputs": [
    {
     "data": {
      "text/plain": [
       "array([[0.0320586 , 0.08714432, 0.23688282, 0.64391426]])"
      ]
     },
     "execution_count": 4,
     "metadata": {},
     "output_type": "execute_result"
    }
   ],
   "source": [
    "activation2.forward([[4,5,6, 7]])\n",
    "activation2.output"
   ]
  },
  {
   "cell_type": "code",
   "execution_count": 5,
   "id": "17229d85-6f9d-446b-900f-f65604bb4c75",
   "metadata": {},
   "outputs": [
    {
     "data": {
      "text/plain": [
       "array([[0.0320586 , 0.08714432, 0.23688282, 0.64391426]])"
      ]
     },
     "execution_count": 5,
     "metadata": {},
     "output_type": "execute_result"
    }
   ],
   "source": [
    "inputs2 = [[2, 3, 4, 5]]\n",
    "activation2.forward(inputs2)\n",
    "activation2.output"
   ]
  },
  {
   "cell_type": "code",
   "execution_count": 6,
   "id": "c7d02f11-44dc-4e50-854f-7816ac7e36d0",
   "metadata": {},
   "outputs": [],
   "source": [
    "inputs= [[4.5, 6.2, 5.5, 29]]"
   ]
  },
  {
   "cell_type": "code",
   "execution_count": 7,
   "id": "1e4c8b9e-c8ca-4deb-a62b-fa461aab472a",
   "metadata": {},
   "outputs": [
    {
     "name": "stderr",
     "output_type": "stream",
     "text": [
      "/tmp/ipykernel_118251/3556616054.py:8: RuntimeWarning: overflow encountered in exp\n",
      "  np_inputs_exp_sum = np.exp(np_inputs_exp)\n"
     ]
    },
    {
     "data": {
      "text/plain": [
       "3931334297184.0815"
      ]
     },
     "execution_count": 7,
     "metadata": {},
     "output_type": "execute_result"
    }
   ],
   "source": [
    "#Manual Exponential\n",
    "E = 2.71828182846\n",
    "inputs = [4.5, 6.2, 5.5, 29]\n",
    "np_inputs = np.array(inputs)\n",
    "np_inputs\n",
    "np_inputs_exp = np.exp(np_inputs)\n",
    "np_inputs_exp\n",
    "np_inputs_exp_sum = np.exp(np_inputs_exp)\n",
    "np_inputs_exp_sum\n",
    "\n",
    "for input in inputs:\n",
    "    exp_values = E ** input\n",
    "    \n",
    "    \n",
    "exp_values\n"
   ]
  },
  {
   "cell_type": "code",
   "execution_count": 10,
   "id": "70f48085-2204-4335-8718-38866c0a6f29",
   "metadata": {},
   "outputs": [
    {
     "ename": "AxisError",
     "evalue": "axis 1 is out of bounds for array of dimension 1",
     "output_type": "error",
     "traceback": [
      "\u001b[31m---------------------------------------------------------------------------\u001b[39m",
      "\u001b[31mAxisError\u001b[39m                                 Traceback (most recent call last)",
      "\u001b[36mCell\u001b[39m\u001b[36m \u001b[39m\u001b[32mIn[10]\u001b[39m\u001b[32m, line 2\u001b[39m\n\u001b[32m      1\u001b[39m exp_values = np.exp(inputs - np.max(inputs))\n\u001b[32m----> \u001b[39m\u001b[32m2\u001b[39m probabilities = \u001b[43mnp\u001b[49m\u001b[43m.\u001b[49m\u001b[43msum\u001b[49m\u001b[43m(\u001b[49m\u001b[43mexp_values\u001b[49m\u001b[43m,\u001b[49m\u001b[43m \u001b[49m\u001b[43maxis\u001b[49m\u001b[43m=\u001b[49m\u001b[32;43m1\u001b[39;49m\u001b[43m,\u001b[49m\u001b[43m \u001b[49m\u001b[43mkeepdims\u001b[49m\u001b[43m=\u001b[49m\u001b[38;5;28;43;01mTrue\u001b[39;49;00m\u001b[43m)\u001b[49m\n\u001b[32m      3\u001b[39m probabilities\n",
      "\u001b[36mFile \u001b[39m\u001b[32m~/conda3/lib/python3.13/site-packages/numpy/_core/fromnumeric.py:2466\u001b[39m, in \u001b[36msum\u001b[39m\u001b[34m(a, axis, dtype, out, keepdims, initial, where)\u001b[39m\n\u001b[32m   2463\u001b[39m         \u001b[38;5;28;01mreturn\u001b[39;00m out\n\u001b[32m   2464\u001b[39m     \u001b[38;5;28;01mreturn\u001b[39;00m res\n\u001b[32m-> \u001b[39m\u001b[32m2466\u001b[39m \u001b[38;5;28;01mreturn\u001b[39;00m \u001b[43m_wrapreduction\u001b[49m\u001b[43m(\u001b[49m\n\u001b[32m   2467\u001b[39m \u001b[43m    \u001b[49m\u001b[43ma\u001b[49m\u001b[43m,\u001b[49m\u001b[43m \u001b[49m\u001b[43mnp\u001b[49m\u001b[43m.\u001b[49m\u001b[43madd\u001b[49m\u001b[43m,\u001b[49m\u001b[43m \u001b[49m\u001b[33;43m'\u001b[39;49m\u001b[33;43msum\u001b[39;49m\u001b[33;43m'\u001b[39;49m\u001b[43m,\u001b[49m\u001b[43m \u001b[49m\u001b[43maxis\u001b[49m\u001b[43m,\u001b[49m\u001b[43m \u001b[49m\u001b[43mdtype\u001b[49m\u001b[43m,\u001b[49m\u001b[43m \u001b[49m\u001b[43mout\u001b[49m\u001b[43m,\u001b[49m\n\u001b[32m   2468\u001b[39m \u001b[43m    \u001b[49m\u001b[43mkeepdims\u001b[49m\u001b[43m=\u001b[49m\u001b[43mkeepdims\u001b[49m\u001b[43m,\u001b[49m\u001b[43m \u001b[49m\u001b[43minitial\u001b[49m\u001b[43m=\u001b[49m\u001b[43minitial\u001b[49m\u001b[43m,\u001b[49m\u001b[43m \u001b[49m\u001b[43mwhere\u001b[49m\u001b[43m=\u001b[49m\u001b[43mwhere\u001b[49m\n\u001b[32m   2469\u001b[39m \u001b[43m\u001b[49m\u001b[43m)\u001b[49m\n",
      "\u001b[36mFile \u001b[39m\u001b[32m~/conda3/lib/python3.13/site-packages/numpy/_core/fromnumeric.py:86\u001b[39m, in \u001b[36m_wrapreduction\u001b[39m\u001b[34m(obj, ufunc, method, axis, dtype, out, **kwargs)\u001b[39m\n\u001b[32m     83\u001b[39m         \u001b[38;5;28;01melse\u001b[39;00m:\n\u001b[32m     84\u001b[39m             \u001b[38;5;28;01mreturn\u001b[39;00m reduction(axis=axis, out=out, **passkwargs)\n\u001b[32m---> \u001b[39m\u001b[32m86\u001b[39m \u001b[38;5;28;01mreturn\u001b[39;00m \u001b[43mufunc\u001b[49m\u001b[43m.\u001b[49m\u001b[43mreduce\u001b[49m\u001b[43m(\u001b[49m\u001b[43mobj\u001b[49m\u001b[43m,\u001b[49m\u001b[43m \u001b[49m\u001b[43maxis\u001b[49m\u001b[43m,\u001b[49m\u001b[43m \u001b[49m\u001b[43mdtype\u001b[49m\u001b[43m,\u001b[49m\u001b[43m \u001b[49m\u001b[43mout\u001b[49m\u001b[43m,\u001b[49m\u001b[43m \u001b[49m\u001b[43m*\u001b[49m\u001b[43m*\u001b[49m\u001b[43mpasskwargs\u001b[49m\u001b[43m)\u001b[49m\n",
      "\u001b[31mAxisError\u001b[39m: axis 1 is out of bounds for array of dimension 1"
     ]
    }
   ],
   "source": [
    "exp_values = np.exp(inputs - np.max(inputs))\n",
    "probabilities = np.sum(exp_values, axis=1, keepdims=True)\n",
    "probabilities"
   ]
  },
  {
   "cell_type": "code",
   "execution_count": 13,
   "id": "1c157300-d120-4571-85d0-68567aaea1ab",
   "metadata": {},
   "outputs": [
    {
     "name": "stdout",
     "output_type": "stream",
     "text": [
      "[9.00171313e+01 4.92749041e+02 2.44691932e+02 3.93133430e+12] \n",
      "\n",
      "3931334297971.5\n",
      "3931334297981.5\n",
      "2.289734845163615e-11\n",
      "1.4823622928593872e-10\n",
      "2.1047767550191612e-10\n",
      "1.0\n",
      "The result is 1.0\n"
     ]
    }
   ],
   "source": [
    "inputs = np.array([4.5, 6.2, 5.5, 29])\n",
    "exp = np.exp(inputs)\n",
    "print(exp, \"\\n\")\n",
    "summed = np.sum(exp)\n",
    "print(summed)\n",
    "print( 10 + summed) \n",
    "softmax = 0\n",
    "for input,index in exp:\n",
    "    softmax += input/summed\n",
    "    print(input/summed)\n",
    "    print(softmax)\n",
    "\n",
    "print(\"The result is\", softmax)"
   ]
  },
  {
   "cell_type": "code",
   "execution_count": null,
   "id": "f947e2ab-5ff6-4186-924f-45a574accc7c",
   "metadata": {},
   "outputs": [],
   "source": []
  }
 ],
 "metadata": {
  "kernelspec": {
   "display_name": "Python 3 (ipykernel)",
   "language": "python",
   "name": "python3"
  },
  "language_info": {
   "codemirror_mode": {
    "name": "ipython",
    "version": 3
   },
   "file_extension": ".py",
   "mimetype": "text/x-python",
   "name": "python",
   "nbconvert_exporter": "python",
   "pygments_lexer": "ipython3",
   "version": "3.13.3"
  }
 },
 "nbformat": 4,
 "nbformat_minor": 5
}
