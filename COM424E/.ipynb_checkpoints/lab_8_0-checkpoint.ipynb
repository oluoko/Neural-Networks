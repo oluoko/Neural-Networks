{
 "cells": [
  {
   "cell_type": "code",
   "execution_count": 1,
   "id": "e1cf0049-dc9b-42de-998d-17d1b55cac28",
   "metadata": {},
   "outputs": [],
   "source": [
    "import torch"
   ]
  },
  {
   "cell_type": "markdown",
   "id": "f816f040-41e7-4559-a7ef-e25be093130c",
   "metadata": {},
   "source": [
    "## Tensors"
   ]
  },
  {
   "cell_type": "markdown",
   "id": "3dfe8939-bf90-465e-961a-a9eb91a39114",
   "metadata": {},
   "source": [
    "### Scalar"
   ]
  },
  {
   "cell_type": "code",
   "execution_count": 3,
   "id": "28c1f47b-c8b1-45a9-955e-be101aff0882",
   "metadata": {},
   "outputs": [
    {
     "data": {
      "text/plain": [
       "torch.Size([])"
      ]
     },
     "execution_count": 3,
     "metadata": {},
     "output_type": "execute_result"
    }
   ],
   "source": [
    "# A Holds a single scalar value\n",
    "a = torch.tensor(3.0)\n",
    "a.shape"
   ]
  },
  {
   "cell_type": "markdown",
   "id": "491ab5e3-abb6-4ee4-b7b0-56fe674e786f",
   "metadata": {},
   "source": [
    "### Vector"
   ]
  },
  {
   "cell_type": "code",
   "execution_count": 4,
   "id": "b617e469-dd48-4bbb-80c7-5618533c31fb",
   "metadata": {},
   "outputs": [
    {
     "data": {
      "text/plain": [
       "torch.Size([4])"
      ]
     },
     "execution_count": 4,
     "metadata": {},
     "output_type": "execute_result"
    }
   ],
   "source": [
    "# Holds a number of values in a list-like format of 1-dimesion\n",
    "b = torch.tensor([3.2,4.5,6.4,3.3])\n",
    "b.shape"
   ]
  },
  {
   "cell_type": "markdown",
   "id": "e5589167-9693-432e-8809-5784f227becb",
   "metadata": {},
   "source": [
    "### Matrix "
   ]
  },
  {
   "cell_type": "code",
   "execution_count": 9,
   "id": "0cc6f03c-f4f5-4371-a82c-b660f453de52",
   "metadata": {},
   "outputs": [
    {
     "data": {
      "text/plain": [
       "torch.Size([4, 3])"
      ]
     },
     "execution_count": 9,
     "metadata": {},
     "output_type": "execute_result"
    }
   ],
   "source": [
    "# Has the shape of a 2-dimensional aray\n",
    "c = torch.tensor([[4.0,3.2,5.6], [3.3, 4.8, 9.0], [60.5,20.3, 44.5], [42.3, 66.1, 0.6]])\n",
    "c.shape"
   ]
  },
  {
   "cell_type": "markdown",
   "id": "106a230c-a371-4945-ac4a-b29a5bb248de",
   "metadata": {},
   "source": [
    "### Tensor"
   ]
  },
  {
   "cell_type": "code",
   "execution_count": 10,
   "id": "e4eefe3e-5a15-4898-9c8f-727049b37f35",
   "metadata": {},
   "outputs": [
    {
     "data": {
      "text/plain": [
       "torch.Size([2, 2, 3])"
      ]
     },
     "execution_count": 10,
     "metadata": {},
     "output_type": "execute_result"
    }
   ],
   "source": [
    "# A rank n tensor (n>2) e.g 3D, 4D ...(nD e.t.c)\n",
    "d = torch.tensor([[[3.0,1.1, 3.2],[4.4,3.3,2.5]], [[44.5,6,4.4], [6.1,32.2,4]]])\n",
    "d.shape"
   ]
  },
  {
   "cell_type": "code",
   "execution_count": 11,
   "id": "fba8c71f-a2a0-42a5-9c84-302be36a19eb",
   "metadata": {},
   "outputs": [
    {
     "name": "stdout",
     "output_type": "stream",
     "text": [
      "N shape torch.Size([2, 2, 4, 2])\n",
      "tensor([[[[-0.6343,  0.3840],\n",
      "          [ 1.6304, -0.8249],\n",
      "          [ 0.4925,  0.0853],\n",
      "          [ 2.0578, -1.1322]],\n",
      "\n",
      "         [[ 2.4679, -0.7362],\n",
      "          [ 1.5129,  1.1671],\n",
      "          [ 0.4070, -0.2831],\n",
      "          [-0.1039, -0.4682]]],\n",
      "\n",
      "\n",
      "        [[[ 0.2292,  0.4997],\n",
      "          [-3.7987, -0.3142],\n",
      "          [ 0.9792,  1.5376],\n",
      "          [-0.3235,  0.1918]],\n",
      "\n",
      "         [[ 1.0711, -1.3334],\n",
      "          [-1.2034,  1.4929],\n",
      "          [ 1.1174, -0.6807],\n",
      "          [ 0.7394,  2.1025]]]])\n"
     ]
    }
   ],
   "source": [
    "n = torch.randn([2,2,4,2])\n",
    "print(f\"N shape {n.shape}\")\n",
    "print(n)"
   ]
  },
  {
   "cell_type": "code",
   "execution_count": 13,
   "id": "40ef4869-2b71-4b49-a33f-6420ebb989d4",
   "metadata": {},
   "outputs": [
    {
     "name": "stdout",
     "output_type": "stream",
     "text": [
      "tensor([[[[-6.3431e-01,  3.8399e-01],\n",
      "          [ 1.6304e+00, -8.2488e-01],\n",
      "          [ 4.9250e-01,  8.5330e-02],\n",
      "          [ 2.0578e+00, -1.1322e+00]],\n",
      "\n",
      "         [[ 2.4679e+00, -7.3621e-01],\n",
      "          [ 1.5129e+00,  1.1671e+00],\n",
      "          [ 4.0703e-01, -2.8309e-01],\n",
      "          [-1.0391e-01,  1.0000e+02]]],\n",
      "\n",
      "\n",
      "        [[[ 2.2918e-01,  4.9973e-01],\n",
      "          [-3.7987e+00, -3.1420e-01],\n",
      "          [ 9.7915e-01,  1.5376e+00],\n",
      "          [-3.2349e-01,  1.9180e-01]],\n",
      "\n",
      "         [[ 1.0711e+00, -1.3334e+00],\n",
      "          [-1.2034e+00,  1.4929e+00],\n",
      "          [ 1.1174e+00, -6.8074e-01],\n",
      "          [ 7.3942e-01,  2.1025e+00]]]])\n"
     ]
    }
   ],
   "source": [
    "n[0][1][3][1] = 100\n",
    "print(n)"
   ]
  },
  {
   "cell_type": "markdown",
   "id": "0df2b9e1-b80c-4c42-a106-0ff82fa7f719",
   "metadata": {},
   "source": [
    "## Storing Gradients"
   ]
  },
  {
   "cell_type": "markdown",
   "id": "e45037ac-fd0d-44c0-ac1d-003bd2c3f397",
   "metadata": {},
   "source": [
    "### Example 1:"
   ]
  },
  {
   "cell_type": "code",
   "execution_count": 146,
   "id": "5e5cceb5-6058-4c6a-8685-6c59176b8848",
   "metadata": {},
   "outputs": [],
   "source": [
    "import torch.nn as nn\n",
    "from torchviz import make_dot\n",
    "import numpy as np\n",
    "import torch.optim as optim\n",
    "import pandas as pd"
   ]
  },
  {
   "cell_type": "code",
   "execution_count": 74,
   "id": "f3936b22-3ecf-4d4e-8280-61fbd584c421",
   "metadata": {},
   "outputs": [
    {
     "name": "stdout",
     "output_type": "stream",
     "text": [
      "tensor(3.1400, requires_grad=True)\n"
     ]
    }
   ],
   "source": [
    "a = torch.tensor(3.14, requires_grad=True)\n",
    "print(a)"
   ]
  },
  {
   "cell_type": "code",
   "execution_count": 75,
   "id": "6d087082-5773-4b5e-a0e8-8f2215a18956",
   "metadata": {},
   "outputs": [
    {
     "name": "stdout",
     "output_type": "stream",
     "text": [
      "tensor([1., 2., 3.])\n"
     ]
    }
   ],
   "source": [
    "b = torch.tensor([1.0,2.0,3.0])\n",
    "print(b)"
   ]
  },
  {
   "cell_type": "markdown",
   "id": "1ecb90ae-d269-4a4c-b1a5-edfb4b8e962b",
   "metadata": {},
   "source": [
    "### Example 2:"
   ]
  },
  {
   "cell_type": "code",
   "execution_count": 76,
   "id": "6ab69a34-b623-4e9e-aedd-fefcc7cb73a3",
   "metadata": {},
   "outputs": [
    {
     "name": "stdout",
     "output_type": "stream",
     "text": [
      "Prediction z: tensor([1.9000], grad_fn=<AddBackward0>)\n",
      "dL/dw: -0.5599997639656067\n",
      "dL/db: -0.39999985694885254\n"
     ]
    },
    {
     "data": {
      "image/svg+xml": [
       "<?xml version=\"1.0\" encoding=\"UTF-8\" standalone=\"no\"?>\n",
       "<!DOCTYPE svg PUBLIC \"-//W3C//DTD SVG 1.1//EN\"\n",
       " \"http://www.w3.org/Graphics/SVG/1.1/DTD/svg11.dtd\">\n",
       "<!-- Generated by graphviz version 2.42.4 (0)\n",
       " -->\n",
       "<!-- Pages: 1 -->\n",
       "<svg width=\"222pt\" height=\"448pt\"\n",
       " viewBox=\"0.00 0.00 222.00 448.00\" xmlns=\"http://www.w3.org/2000/svg\" xmlns:xlink=\"http://www.w3.org/1999/xlink\">\n",
       "<g id=\"graph0\" class=\"graph\" transform=\"scale(1 1) rotate(0) translate(4 444)\">\n",
       "<polygon fill=\"white\" stroke=\"transparent\" points=\"-4,4 -4,-444 218,-444 218,4 -4,4\"/>\n",
       "<!-- 139847517362112 -->\n",
       "<g id=\"node1\" class=\"node\">\n",
       "<title>139847517362112</title>\n",
       "<polygon fill=\"#caff70\" stroke=\"black\" points=\"133.5,-31 79.5,-31 79.5,0 133.5,0 133.5,-31\"/>\n",
       "<text text-anchor=\"middle\" x=\"106.5\" y=\"-7\" font-family=\"monospace\" font-size=\"10.00\"> ()</text>\n",
       "</g>\n",
       "<!-- 139847517081168 -->\n",
       "<g id=\"node2\" class=\"node\">\n",
       "<title>139847517081168</title>\n",
       "<polygon fill=\"lightgrey\" stroke=\"black\" points=\"151,-86 62,-86 62,-67 151,-67 151,-86\"/>\n",
       "<text text-anchor=\"middle\" x=\"106.5\" y=\"-74\" font-family=\"monospace\" font-size=\"10.00\">SumBackward0</text>\n",
       "</g>\n",
       "<!-- 139847517081168&#45;&gt;139847517362112 -->\n",
       "<g id=\"edge9\" class=\"edge\">\n",
       "<title>139847517081168&#45;&gt;139847517362112</title>\n",
       "<path fill=\"none\" stroke=\"black\" d=\"M106.5,-66.79C106.5,-60.07 106.5,-50.4 106.5,-41.34\"/>\n",
       "<polygon fill=\"black\" stroke=\"black\" points=\"110,-41.19 106.5,-31.19 103,-41.19 110,-41.19\"/>\n",
       "</g>\n",
       "<!-- 139847517088656 -->\n",
       "<g id=\"node3\" class=\"node\">\n",
       "<title>139847517088656</title>\n",
       "<polygon fill=\"lightgrey\" stroke=\"black\" points=\"151,-141 62,-141 62,-122 151,-122 151,-141\"/>\n",
       "<text text-anchor=\"middle\" x=\"106.5\" y=\"-129\" font-family=\"monospace\" font-size=\"10.00\">PowBackward0</text>\n",
       "</g>\n",
       "<!-- 139847517088656&#45;&gt;139847517081168 -->\n",
       "<g id=\"edge1\" class=\"edge\">\n",
       "<title>139847517088656&#45;&gt;139847517081168</title>\n",
       "<path fill=\"none\" stroke=\"black\" d=\"M106.5,-121.75C106.5,-114.8 106.5,-104.85 106.5,-96.13\"/>\n",
       "<polygon fill=\"black\" stroke=\"black\" points=\"110,-96.09 106.5,-86.09 103,-96.09 110,-96.09\"/>\n",
       "</g>\n",
       "<!-- 139847517089616 -->\n",
       "<g id=\"node4\" class=\"node\">\n",
       "<title>139847517089616</title>\n",
       "<polygon fill=\"lightgrey\" stroke=\"black\" points=\"151,-196 62,-196 62,-177 151,-177 151,-196\"/>\n",
       "<text text-anchor=\"middle\" x=\"106.5\" y=\"-184\" font-family=\"monospace\" font-size=\"10.00\">SubBackward0</text>\n",
       "</g>\n",
       "<!-- 139847517089616&#45;&gt;139847517088656 -->\n",
       "<g id=\"edge2\" class=\"edge\">\n",
       "<title>139847517089616&#45;&gt;139847517088656</title>\n",
       "<path fill=\"none\" stroke=\"black\" d=\"M106.5,-176.75C106.5,-169.8 106.5,-159.85 106.5,-151.13\"/>\n",
       "<polygon fill=\"black\" stroke=\"black\" points=\"110,-151.09 106.5,-141.09 103,-151.09 110,-151.09\"/>\n",
       "</g>\n",
       "<!-- 139847517092064 -->\n",
       "<g id=\"node5\" class=\"node\">\n",
       "<title>139847517092064</title>\n",
       "<polygon fill=\"lightgrey\" stroke=\"black\" points=\"151,-251 62,-251 62,-232 151,-232 151,-251\"/>\n",
       "<text text-anchor=\"middle\" x=\"106.5\" y=\"-239\" font-family=\"monospace\" font-size=\"10.00\">AddBackward0</text>\n",
       "</g>\n",
       "<!-- 139847517092064&#45;&gt;139847517089616 -->\n",
       "<g id=\"edge3\" class=\"edge\">\n",
       "<title>139847517092064&#45;&gt;139847517089616</title>\n",
       "<path fill=\"none\" stroke=\"black\" d=\"M106.5,-231.75C106.5,-224.8 106.5,-214.85 106.5,-206.13\"/>\n",
       "<polygon fill=\"black\" stroke=\"black\" points=\"110,-206.09 106.5,-196.09 103,-206.09 110,-206.09\"/>\n",
       "</g>\n",
       "<!-- 139847517091344 -->\n",
       "<g id=\"node6\" class=\"node\">\n",
       "<title>139847517091344</title>\n",
       "<polygon fill=\"lightgrey\" stroke=\"black\" points=\"95,-306 6,-306 6,-287 95,-287 95,-306\"/>\n",
       "<text text-anchor=\"middle\" x=\"50.5\" y=\"-294\" font-family=\"monospace\" font-size=\"10.00\">MulBackward0</text>\n",
       "</g>\n",
       "<!-- 139847517091344&#45;&gt;139847517092064 -->\n",
       "<g id=\"edge4\" class=\"edge\">\n",
       "<title>139847517091344&#45;&gt;139847517092064</title>\n",
       "<path fill=\"none\" stroke=\"black\" d=\"M59.5,-286.98C67.69,-279.23 80.01,-267.58 89.97,-258.14\"/>\n",
       "<polygon fill=\"black\" stroke=\"black\" points=\"92.48,-260.59 97.34,-251.17 87.67,-255.5 92.48,-260.59\"/>\n",
       "</g>\n",
       "<!-- 139847517080784 -->\n",
       "<g id=\"node7\" class=\"node\">\n",
       "<title>139847517080784</title>\n",
       "<polygon fill=\"lightgrey\" stroke=\"black\" points=\"101,-367 0,-367 0,-348 101,-348 101,-367\"/>\n",
       "<text text-anchor=\"middle\" x=\"50.5\" y=\"-355\" font-family=\"monospace\" font-size=\"10.00\">AccumulateGrad</text>\n",
       "</g>\n",
       "<!-- 139847517080784&#45;&gt;139847517091344 -->\n",
       "<g id=\"edge5\" class=\"edge\">\n",
       "<title>139847517080784&#45;&gt;139847517091344</title>\n",
       "<path fill=\"none\" stroke=\"black\" d=\"M50.5,-347.79C50.5,-339.6 50.5,-327.06 50.5,-316.55\"/>\n",
       "<polygon fill=\"black\" stroke=\"black\" points=\"54,-316.24 50.5,-306.24 47,-316.24 54,-316.24\"/>\n",
       "</g>\n",
       "<!-- 139847517365392 -->\n",
       "<g id=\"node8\" class=\"node\">\n",
       "<title>139847517365392</title>\n",
       "<polygon fill=\"lightblue\" stroke=\"black\" points=\"77.5,-440 23.5,-440 23.5,-409 77.5,-409 77.5,-440\"/>\n",
       "<text text-anchor=\"middle\" x=\"50.5\" y=\"-416\" font-family=\"monospace\" font-size=\"10.00\"> ()</text>\n",
       "</g>\n",
       "<!-- 139847517365392&#45;&gt;139847517080784 -->\n",
       "<g id=\"edge6\" class=\"edge\">\n",
       "<title>139847517365392&#45;&gt;139847517080784</title>\n",
       "<path fill=\"none\" stroke=\"black\" d=\"M50.5,-408.75C50.5,-399.39 50.5,-387.19 50.5,-377.16\"/>\n",
       "<polygon fill=\"black\" stroke=\"black\" points=\"54,-377.02 50.5,-367.02 47,-377.02 54,-377.02\"/>\n",
       "</g>\n",
       "<!-- 139847517079584 -->\n",
       "<g id=\"node9\" class=\"node\">\n",
       "<title>139847517079584</title>\n",
       "<polygon fill=\"lightgrey\" stroke=\"black\" points=\"214,-306 113,-306 113,-287 214,-287 214,-306\"/>\n",
       "<text text-anchor=\"middle\" x=\"163.5\" y=\"-294\" font-family=\"monospace\" font-size=\"10.00\">AccumulateGrad</text>\n",
       "</g>\n",
       "<!-- 139847517079584&#45;&gt;139847517092064 -->\n",
       "<g id=\"edge7\" class=\"edge\">\n",
       "<title>139847517079584&#45;&gt;139847517092064</title>\n",
       "<path fill=\"none\" stroke=\"black\" d=\"M154.34,-286.98C146,-279.23 133.47,-267.58 123.32,-258.14\"/>\n",
       "<polygon fill=\"black\" stroke=\"black\" points=\"125.53,-255.42 115.82,-251.17 120.76,-260.54 125.53,-255.42\"/>\n",
       "</g>\n",
       "<!-- 139847517365792 -->\n",
       "<g id=\"node10\" class=\"node\">\n",
       "<title>139847517365792</title>\n",
       "<polygon fill=\"lightblue\" stroke=\"black\" points=\"190.5,-373 136.5,-373 136.5,-342 190.5,-342 190.5,-373\"/>\n",
       "<text text-anchor=\"middle\" x=\"163.5\" y=\"-349\" font-family=\"monospace\" font-size=\"10.00\"> ()</text>\n",
       "</g>\n",
       "<!-- 139847517365792&#45;&gt;139847517079584 -->\n",
       "<g id=\"edge8\" class=\"edge\">\n",
       "<title>139847517365792&#45;&gt;139847517079584</title>\n",
       "<path fill=\"none\" stroke=\"black\" d=\"M163.5,-341.92C163.5,-334.22 163.5,-324.69 163.5,-316.43\"/>\n",
       "<polygon fill=\"black\" stroke=\"black\" points=\"167,-316.25 163.5,-306.25 160,-316.25 167,-316.25\"/>\n",
       "</g>\n",
       "</g>\n",
       "</svg>\n"
      ],
      "text/plain": [
       "<graphviz.graphs.Digraph at 0x7f30c9b8c270>"
      ]
     },
     "execution_count": 76,
     "metadata": {},
     "output_type": "execute_result"
    }
   ],
   "source": [
    "w = torch.tensor(1.0, requires_grad=True)\n",
    "b = torch.tensor(0.5, requires_grad=True)\n",
    "x = torch.tensor([1.4])\n",
    "y = torch.tensor([2.1])\n",
    "z = torch.add(torch.mul(w,x), b)\n",
    "print(f\"Prediction z: {z}\")\n",
    "loss = (y - z).pow(2).sum()\n",
    "loss.backward()\n",
    "print(f\"dL/dw: {w.grad}\")\n",
    "print(f\"dL/db: {b.grad}\")\n",
    "make_dot(loss)"
   ]
  },
  {
   "cell_type": "code",
   "execution_count": 77,
   "id": "de39b4d4-c5a6-47e9-8ec4-17f41bc94a45",
   "metadata": {},
   "outputs": [
    {
     "name": "stdout",
     "output_type": "stream",
     "text": [
      "W: 1.0, b: 0.5\n"
     ]
    }
   ],
   "source": [
    "print(f\"W: {w}, b: {b}\")"
   ]
  },
  {
   "cell_type": "code",
   "execution_count": 78,
   "id": "c0301d6c-ab3b-4bed-8243-a065a8e0bba2",
   "metadata": {},
   "outputs": [
    {
     "name": "stdout",
     "output_type": "stream",
     "text": [
      "W: 1.0005600452423096, b: 0.5004000067710876\n",
      "Current loss: 0.03999997302889824\n",
      "Updated loss: 0.039527732878923416\n",
      "Prediction z: tensor([1.9012])\n"
     ]
    }
   ],
   "source": [
    "lr = 0.001\n",
    "with torch.no_grad():\n",
    "    w = w - lr*w.grad # new w value after backpass\n",
    "    b = b - lr*b.grad # new b value after backpass\n",
    "    print(f\"W: {w}, b: {b}\")\n",
    "\n",
    "# Print current loss\n",
    "print(f\"Current loss: {loss}\")\n",
    "# calculate and print loss after update\n",
    "\n",
    "z = torch.add(torch.mul(w,x), b)\n",
    "loss = (y - z).pow(2).sum()\n",
    "print(f\"Updated loss: {loss}\")\n",
    "print(f\"Prediction z: {z}\")\n"
   ]
  },
  {
   "cell_type": "code",
   "execution_count": 79,
   "id": "7a290985-19a5-4bac-9859-7b07441a46c8",
   "metadata": {},
   "outputs": [
    {
     "data": {
      "image/svg+xml": [
       "<?xml version=\"1.0\" encoding=\"UTF-8\" standalone=\"no\"?>\n",
       "<!DOCTYPE svg PUBLIC \"-//W3C//DTD SVG 1.1//EN\"\n",
       " \"http://www.w3.org/Graphics/SVG/1.1/DTD/svg11.dtd\">\n",
       "<!-- Generated by graphviz version 2.42.4 (0)\n",
       " -->\n",
       "<!-- Pages: 1 -->\n",
       "<svg width=\"62pt\" height=\"39pt\"\n",
       " viewBox=\"0.00 0.00 62.00 39.00\" xmlns=\"http://www.w3.org/2000/svg\" xmlns:xlink=\"http://www.w3.org/1999/xlink\">\n",
       "<g id=\"graph0\" class=\"graph\" transform=\"scale(1 1) rotate(0) translate(4 35)\">\n",
       "<polygon fill=\"white\" stroke=\"transparent\" points=\"-4,4 -4,-35 58,-35 58,4 -4,4\"/>\n",
       "<!-- 139847517363072 -->\n",
       "<g id=\"node1\" class=\"node\">\n",
       "<title>139847517363072</title>\n",
       "<polygon fill=\"#caff70\" stroke=\"black\" points=\"54,-31 0,-31 0,0 54,0 54,-31\"/>\n",
       "<text text-anchor=\"middle\" x=\"27\" y=\"-7\" font-family=\"monospace\" font-size=\"10.00\"> ()</text>\n",
       "</g>\n",
       "</g>\n",
       "</svg>\n"
      ],
      "text/plain": [
       "<graphviz.graphs.Digraph at 0x7f30c9b8d040>"
      ]
     },
     "execution_count": 79,
     "metadata": {},
     "output_type": "execute_result"
    }
   ],
   "source": [
    "make_dot(loss)"
   ]
  },
  {
   "cell_type": "markdown",
   "id": "f0953ee4-3514-425a-9e20-950be26b5c4a",
   "metadata": {},
   "source": [
    "## Pima Indians diabetes dataset"
   ]
  },
  {
   "cell_type": "code",
   "execution_count": 81,
   "id": "d08a9cff-221d-4767-b949-f7af81071935",
   "metadata": {},
   "outputs": [
    {
     "name": "stdout",
     "output_type": "stream",
     "text": [
      "--2025-06-24 12:12:07--  https://raw.githubusercontent.com/jbrownlee/Datasets/master/pima-indians-diabetes.data.csv\n",
      "Resolving raw.githubusercontent.com (raw.githubusercontent.com)... failed: Name or service not known.\n",
      "wget: unable to resolve host address ‘raw.githubusercontent.com’\n"
     ]
    }
   ],
   "source": [
    "!wget https://raw.githubusercontent.com/jbrownlee/Datasets/master/pima-indians-diabetes.data.csv"
   ]
  },
  {
   "cell_type": "code",
   "execution_count": 201,
   "id": "3c8fcb8d-5960-406d-9c37-dcd118b6a7ce",
   "metadata": {},
   "outputs": [
    {
     "name": "stdout",
     "output_type": "stream",
     "text": [
      "numpy_dataset shape: (768, 9)\n",
      "[[  6.    148.     72.    ...   0.627  50.      1.   ]\n",
      " [  1.     85.     66.    ...   0.351  31.      0.   ]\n",
      " [  8.    183.     64.    ...   0.672  32.      1.   ]\n",
      " ...\n",
      " [  5.    121.     72.    ...   0.245  30.      0.   ]\n",
      " [  1.    126.     60.    ...   0.349  47.      1.   ]\n",
      " [  1.     93.     70.    ...   0.315  23.      0.   ]]\n",
      "pandas_dataset shape: (767, 9)\n",
      "      6  148  72  35    0  33.6  0.627  50  1\n",
      "0     1   85  66  29    0  26.6  0.351  31  0\n",
      "1     8  183  64   0    0  23.3  0.672  32  1\n",
      "2     1   89  66  23   94  28.1  0.167  21  0\n",
      "3     0  137  40  35  168  43.1  2.288  33  1\n",
      "4     5  116  74   0    0  25.6  0.201  30  0\n",
      "..   ..  ...  ..  ..  ...   ...    ...  .. ..\n",
      "762  10  101  76  48  180  32.9  0.171  63  0\n",
      "763   2  122  70  27    0  36.8  0.340  27  0\n",
      "764   5  121  72  23  112  26.2  0.245  30  0\n",
      "765   1  126  60   0    0  30.1  0.349  47  1\n",
      "766   1   93  70  31    0  30.4  0.315  23  0\n",
      "\n",
      "[767 rows x 9 columns]\n"
     ]
    }
   ],
   "source": [
    "numpy_dataset = np.loadtxt('pima-indians-diabetes.data.csv', delimiter=\",\")\n",
    "print(f\"numpy_dataset shape: {numpy_dataset.shape}\")\n",
    "print(numpy_dataset)\n",
    "pandas_dataset = pd.read_csv('pima-indians-diabetes.data.csv')\n",
    "print(f\"pandas_dataset shape: {pandas_dataset.shape}\")\n",
    "print(pandas_dataset)"
   ]
  },
  {
   "cell_type": "code",
   "execution_count": 202,
   "id": "5145df25-342c-4407-bd5c-f0bbd2b5c41b",
   "metadata": {},
   "outputs": [],
   "source": [
    "x = numpy_dataset[:,0:8]\n",
    "y = numpy_dataset[:,8]"
   ]
  },
  {
   "cell_type": "code",
   "execution_count": 203,
   "id": "be2adf58-e70c-4b5c-b0fb-fcb81d6072d7",
   "metadata": {},
   "outputs": [],
   "source": [
    "x = torch.tensor(x, dtype=torch.float32)\n",
    "y = torch.tensor(y, dtype=torch.float32).reshape(-1,1)"
   ]
  },
  {
   "cell_type": "code",
   "execution_count": 204,
   "id": "4242d85b-de25-45ff-a295-6b7afad07e89",
   "metadata": {},
   "outputs": [],
   "source": [
    "model = nn.Sequential(\n",
    "    nn.Linear(8,24),\n",
    "    nn.ReLU(),\n",
    "    nn.Linear(24,24),\n",
    "    nn.ReLU(),\n",
    "    nn.Linear(24,24),\n",
    "    nn.ReLU(),\n",
    "    nn.Linear(24,24),\n",
    "    nn.ReLU(),\n",
    "    nn.Linear(24,24),\n",
    "    nn.ReLU(),\n",
    "    nn.Linear(24,24),\n",
    "    nn.ReLU(),\n",
    "    nn.Linear(24,24),\n",
    "    nn.ReLU(),\n",
    "    nn.Linear(24,24),\n",
    "    nn.ReLU(),\n",
    "    nn.Linear(24,24),\n",
    "    nn.ReLU(),\n",
    "    nn.Linear(24,8),\n",
    "    nn.ReLU(),\n",
    "    nn.Linear(8,1),\n",
    "    nn.Sigmoid()\n",
    ")"
   ]
  },
  {
   "cell_type": "code",
   "execution_count": 210,
   "id": "a0a3c367-2b23-4c56-a526-4ad59bab11bc",
   "metadata": {},
   "outputs": [],
   "source": [
    "# optimizer = optim.Adam(model.parameters(), lr=0.01)\n",
    "optimizer = optim.SGD(model.parameters(), lr=0.001)"
   ]
  },
  {
   "cell_type": "code",
   "execution_count": 211,
   "id": "20896f93-d498-404d-a206-20244bcc5d0e",
   "metadata": {},
   "outputs": [],
   "source": [
    "loss_fn = nn.BCELoss()"
   ]
  },
  {
   "cell_type": "code",
   "execution_count": 212,
   "id": "56011059-a292-4a5a-a388-af174400a4df",
   "metadata": {},
   "outputs": [],
   "source": [
    "n_epochs = 200\n",
    "batch_size = 10"
   ]
  },
  {
   "cell_type": "code",
   "execution_count": 213,
   "id": "0f3f415c-ffa7-4f61-9b51-55bdfd980ddf",
   "metadata": {},
   "outputs": [
    {
     "name": "stdout",
     "output_type": "stream",
     "text": [
      "Finished epoch 0, latest loss 0.6585071682929993\n",
      "Finished epoch 1, latest loss 0.6560250520706177\n",
      "Finished epoch 2, latest loss 0.6536452770233154\n",
      "Finished epoch 3, latest loss 0.6513623595237732\n",
      "Finished epoch 4, latest loss 0.649171769618988\n",
      "Finished epoch 5, latest loss 0.6470687985420227\n",
      "Finished epoch 6, latest loss 0.645048975944519\n",
      "Finished epoch 7, latest loss 0.6431084275245667\n",
      "Finished epoch 8, latest loss 0.6412607431411743\n",
      "Finished epoch 9, latest loss 0.639535665512085\n",
      "Finished epoch 10, latest loss 0.6378870010375977\n",
      "Finished epoch 11, latest loss 0.636306881904602\n",
      "Finished epoch 12, latest loss 0.634787380695343\n",
      "Finished epoch 13, latest loss 0.6333193778991699\n",
      "Finished epoch 14, latest loss 0.6319030523300171\n",
      "Finished epoch 15, latest loss 0.6305356621742249\n",
      "Finished epoch 16, latest loss 0.629214882850647\n",
      "Finished epoch 17, latest loss 0.6279433965682983\n",
      "Finished epoch 18, latest loss 0.6267161965370178\n",
      "Finished epoch 19, latest loss 0.6255310773849487\n",
      "Finished epoch 20, latest loss 0.6243857741355896\n",
      "Finished epoch 21, latest loss 0.6232786178588867\n",
      "Finished epoch 22, latest loss 0.6222078204154968\n",
      "Finished epoch 23, latest loss 0.6211724281311035\n",
      "Finished epoch 24, latest loss 0.6201704740524292\n",
      "Finished epoch 25, latest loss 0.6192007064819336\n",
      "Finished epoch 26, latest loss 0.618262529373169\n",
      "Finished epoch 27, latest loss 0.6173546314239502\n",
      "Finished epoch 28, latest loss 0.6164759397506714\n",
      "Finished epoch 29, latest loss 0.6156252026557922\n",
      "Finished epoch 30, latest loss 0.6148014068603516\n",
      "Finished epoch 31, latest loss 0.6140037178993225\n",
      "Finished epoch 32, latest loss 0.6132308840751648\n",
      "Finished epoch 33, latest loss 0.6124821901321411\n",
      "Finished epoch 34, latest loss 0.611756443977356\n",
      "Finished epoch 35, latest loss 0.6110531091690063\n",
      "Finished epoch 36, latest loss 0.6103719472885132\n",
      "Finished epoch 37, latest loss 0.6097111701965332\n",
      "Finished epoch 38, latest loss 0.6090697050094604\n",
      "Finished epoch 39, latest loss 0.6084496378898621\n",
      "Finished epoch 40, latest loss 0.6078444123268127\n",
      "Finished epoch 41, latest loss 0.6072901487350464\n",
      "Finished epoch 42, latest loss 0.6067641377449036\n",
      "Finished epoch 43, latest loss 0.6062539219856262\n",
      "Finished epoch 44, latest loss 0.6057506799697876\n",
      "Finished epoch 45, latest loss 0.6052589416503906\n",
      "Finished epoch 46, latest loss 0.6047881841659546\n",
      "Finished epoch 47, latest loss 0.6043331027030945\n",
      "Finished epoch 48, latest loss 0.6038894653320312\n",
      "Finished epoch 49, latest loss 0.603458821773529\n",
      "Finished epoch 50, latest loss 0.6030409336090088\n",
      "Finished epoch 51, latest loss 0.6026336550712585\n",
      "Finished epoch 52, latest loss 0.6022382378578186\n",
      "Finished epoch 53, latest loss 0.6018522381782532\n",
      "Finished epoch 54, latest loss 0.6014770269393921\n",
      "Finished epoch 55, latest loss 0.6011113524436951\n",
      "Finished epoch 56, latest loss 0.6007548570632935\n",
      "Finished epoch 57, latest loss 0.6004077196121216\n",
      "Finished epoch 58, latest loss 0.600069522857666\n",
      "Finished epoch 59, latest loss 0.5997398495674133\n",
      "Finished epoch 60, latest loss 0.5994195938110352\n",
      "Finished epoch 61, latest loss 0.5991117358207703\n",
      "Finished epoch 62, latest loss 0.5988132953643799\n",
      "Finished epoch 63, latest loss 0.5985212326049805\n",
      "Finished epoch 64, latest loss 0.598233163356781\n",
      "Finished epoch 65, latest loss 0.5979505181312561\n",
      "Finished epoch 66, latest loss 0.5976733565330505\n",
      "Finished epoch 67, latest loss 0.5974034667015076\n",
      "Finished epoch 68, latest loss 0.5971400141716003\n",
      "Finished epoch 69, latest loss 0.5968832969665527\n",
      "Finished epoch 70, latest loss 0.59663325548172\n",
      "Finished epoch 71, latest loss 0.5963890552520752\n",
      "Finished epoch 72, latest loss 0.596150279045105\n",
      "Finished epoch 73, latest loss 0.5959173440933228\n",
      "Finished epoch 74, latest loss 0.5956904888153076\n",
      "Finished epoch 75, latest loss 0.5954676866531372\n",
      "Finished epoch 76, latest loss 0.5952506065368652\n",
      "Finished epoch 77, latest loss 0.5950385332107544\n",
      "Finished epoch 78, latest loss 0.5948318243026733\n",
      "Finished epoch 79, latest loss 0.594630241394043\n",
      "Finished epoch 80, latest loss 0.5944331884384155\n",
      "Finished epoch 81, latest loss 0.5942402482032776\n",
      "Finished epoch 82, latest loss 0.5940523147583008\n",
      "Finished epoch 83, latest loss 0.5938677191734314\n",
      "Finished epoch 84, latest loss 0.5936885476112366\n",
      "Finished epoch 85, latest loss 0.5935152173042297\n",
      "Finished epoch 86, latest loss 0.593345582485199\n",
      "Finished epoch 87, latest loss 0.5931788682937622\n",
      "Finished epoch 88, latest loss 0.5930160284042358\n",
      "Finished epoch 89, latest loss 0.5928566455841064\n",
      "Finished epoch 90, latest loss 0.5927003026008606\n",
      "Finished epoch 91, latest loss 0.5925478935241699\n",
      "Finished epoch 92, latest loss 0.5923996567726135\n",
      "Finished epoch 93, latest loss 0.592253565788269\n",
      "Finished epoch 94, latest loss 0.5921118259429932\n",
      "Finished epoch 95, latest loss 0.5919734239578247\n",
      "Finished epoch 96, latest loss 0.5918387174606323\n",
      "Finished epoch 97, latest loss 0.5917073488235474\n",
      "Finished epoch 98, latest loss 0.5915786027908325\n",
      "Finished epoch 99, latest loss 0.5914530754089355\n",
      "Finished epoch 100, latest loss 0.5913287997245789\n",
      "Finished epoch 101, latest loss 0.5912079811096191\n",
      "Finished epoch 102, latest loss 0.5910898447036743\n",
      "Finished epoch 103, latest loss 0.5909746289253235\n",
      "Finished epoch 104, latest loss 0.5908612012863159\n",
      "Finished epoch 105, latest loss 0.5907508134841919\n",
      "Finished epoch 106, latest loss 0.5906431078910828\n",
      "Finished epoch 107, latest loss 0.5905376076698303\n",
      "Finished epoch 108, latest loss 0.5904340744018555\n",
      "Finished epoch 109, latest loss 0.5903337597846985\n",
      "Finished epoch 110, latest loss 0.5902363061904907\n",
      "Finished epoch 111, latest loss 0.5901404619216919\n",
      "Finished epoch 112, latest loss 0.5900465250015259\n",
      "Finished epoch 113, latest loss 0.5899554491043091\n",
      "Finished epoch 114, latest loss 0.5898658037185669\n",
      "Finished epoch 115, latest loss 0.5897794961929321\n",
      "Finished epoch 116, latest loss 0.5896939039230347\n",
      "Finished epoch 117, latest loss 0.5896098613739014\n",
      "Finished epoch 118, latest loss 0.5895281434059143\n",
      "Finished epoch 119, latest loss 0.5894483327865601\n",
      "Finished epoch 120, latest loss 0.5893697142601013\n",
      "Finished epoch 121, latest loss 0.5892959237098694\n",
      "Finished epoch 122, latest loss 0.5892242789268494\n",
      "Finished epoch 123, latest loss 0.5891537666320801\n",
      "Finished epoch 124, latest loss 0.5890889167785645\n",
      "Finished epoch 125, latest loss 0.589020848274231\n",
      "Finished epoch 126, latest loss 0.5889560580253601\n",
      "Finished epoch 127, latest loss 0.5888965129852295\n",
      "Finished epoch 128, latest loss 0.5888435244560242\n",
      "Finished epoch 129, latest loss 0.5887850522994995\n",
      "Finished epoch 130, latest loss 0.5887280702590942\n",
      "Finished epoch 131, latest loss 0.5886684060096741\n",
      "Finished epoch 132, latest loss 0.5886089205741882\n",
      "Finished epoch 133, latest loss 0.5885512232780457\n",
      "Finished epoch 134, latest loss 0.5884957313537598\n",
      "Finished epoch 135, latest loss 0.5884404182434082\n",
      "Finished epoch 136, latest loss 0.5883851647377014\n",
      "Finished epoch 137, latest loss 0.588331937789917\n",
      "Finished epoch 138, latest loss 0.5882797837257385\n",
      "Finished epoch 139, latest loss 0.5882296562194824\n",
      "Finished epoch 140, latest loss 0.588180661201477\n",
      "Finished epoch 141, latest loss 0.5881341099739075\n",
      "Finished epoch 142, latest loss 0.5880898237228394\n",
      "Finished epoch 143, latest loss 0.5880465507507324\n",
      "Finished epoch 144, latest loss 0.5880042910575867\n",
      "Finished epoch 145, latest loss 0.5879623889923096\n",
      "Finished epoch 146, latest loss 0.5879197716712952\n",
      "Finished epoch 147, latest loss 0.5878787636756897\n",
      "Finished epoch 148, latest loss 0.5878384113311768\n",
      "Finished epoch 149, latest loss 0.5877997279167175\n",
      "Finished epoch 150, latest loss 0.5877614617347717\n",
      "Finished epoch 151, latest loss 0.5877254009246826\n",
      "Finished epoch 152, latest loss 0.5876906514167786\n",
      "Finished epoch 153, latest loss 0.5876569747924805\n",
      "Finished epoch 154, latest loss 0.5876227021217346\n",
      "Finished epoch 155, latest loss 0.5875896215438843\n",
      "Finished epoch 156, latest loss 0.5875577926635742\n",
      "Finished epoch 157, latest loss 0.5875258445739746\n",
      "Finished epoch 158, latest loss 0.5874952673912048\n",
      "Finished epoch 159, latest loss 0.5874649882316589\n",
      "Finished epoch 160, latest loss 0.5874355435371399\n",
      "Finished epoch 161, latest loss 0.5874068140983582\n",
      "Finished epoch 162, latest loss 0.587378978729248\n",
      "Finished epoch 163, latest loss 0.5873516798019409\n",
      "Finished epoch 164, latest loss 0.5873256921768188\n",
      "Finished epoch 165, latest loss 0.5873000621795654\n",
      "Finished epoch 166, latest loss 0.587275505065918\n",
      "Finished epoch 167, latest loss 0.587251603603363\n",
      "Finished epoch 168, latest loss 0.5872289538383484\n",
      "Finished epoch 169, latest loss 0.5872066020965576\n",
      "Finished epoch 170, latest loss 0.587185263633728\n",
      "Finished epoch 171, latest loss 0.5871646404266357\n",
      "Finished epoch 172, latest loss 0.587144136428833\n",
      "Finished epoch 173, latest loss 0.5871242880821228\n",
      "Finished epoch 174, latest loss 0.5871071219444275\n",
      "Finished epoch 175, latest loss 0.587089478969574\n",
      "Finished epoch 176, latest loss 0.5870729088783264\n",
      "Finished epoch 177, latest loss 0.5870555639266968\n",
      "Finished epoch 178, latest loss 0.5870387554168701\n",
      "Finished epoch 179, latest loss 0.5870225429534912\n",
      "Finished epoch 180, latest loss 0.5870078802108765\n",
      "Finished epoch 181, latest loss 0.5869941711425781\n",
      "Finished epoch 182, latest loss 0.5869801640510559\n",
      "Finished epoch 183, latest loss 0.5869659781455994\n",
      "Finished epoch 184, latest loss 0.5869508981704712\n",
      "Finished epoch 185, latest loss 0.5869362950325012\n",
      "Finished epoch 186, latest loss 0.5869223475456238\n",
      "Finished epoch 187, latest loss 0.5869091749191284\n",
      "Finished epoch 188, latest loss 0.5868960618972778\n",
      "Finished epoch 189, latest loss 0.5868829488754272\n",
      "Finished epoch 190, latest loss 0.5868711471557617\n",
      "Finished epoch 191, latest loss 0.5868607759475708\n",
      "Finished epoch 192, latest loss 0.5868502259254456\n",
      "Finished epoch 193, latest loss 0.5868388414382935\n",
      "Finished epoch 194, latest loss 0.5868262052536011\n",
      "Finished epoch 195, latest loss 0.5868140459060669\n",
      "Finished epoch 196, latest loss 0.5868016481399536\n",
      "Finished epoch 197, latest loss 0.5867905020713806\n",
      "Finished epoch 198, latest loss 0.5867795944213867\n",
      "Finished epoch 199, latest loss 0.5867688059806824\n"
     ]
    }
   ],
   "source": [
    "for epoch in range(n_epochs):\n",
    "    for i in range(0, len(x), batch_size):\n",
    "        x_batch = x[i:i+batch_size]\n",
    "        y_pred = model(x_batch)\n",
    "        y_batch = y[i:i+batch_size]\n",
    "        loss = loss_fn(y_pred, y_batch)\n",
    "        optimizer.zero_grad()\n",
    "        loss.backward()\n",
    "        optimizer.step()\n",
    "    print(f\"Finished epoch {epoch}, latest loss {loss}\")"
   ]
  },
  {
   "cell_type": "markdown",
   "id": "0b1f934a-246d-44e0-95c0-395f81f5a366",
   "metadata": {},
   "source": [
    "## Another way of defining the model"
   ]
  },
  {
   "cell_type": "code",
   "execution_count": 187,
   "id": "cdd27d88-106b-4ed2-8bcb-e5dd45dcd722",
   "metadata": {},
   "outputs": [],
   "source": [
    "class MyNeuralNet(nn.Module):\n",
    "    def __init__(self):\n",
    "        super().__init__()\n",
    "        self.layer1 = nn.Linear(8,12)\n",
    "        self.act1 = nn.ReLU()\n",
    "        self.layer2 = nn.Linear(12,8)\n",
    "        self.act2 = nn.ReLU()\n",
    "        self.layer3 = nn.Linear(8,1)\n",
    "        self.act3 = nn.Sigmoid()\n",
    "\n",
    "    def forward(self, x):\n",
    "        x = self.act3(self.layer3(self.act2(self.layer2(self.act1(self.layer1(x))))))"
   ]
  },
  {
   "cell_type": "code",
   "execution_count": 188,
   "id": "e1ad0693-6972-4f09-bb9f-ee280d8355ac",
   "metadata": {},
   "outputs": [
    {
     "data": {
      "text/plain": [
       "MyNeuralNet(\n",
       "  (layer1): Linear(in_features=8, out_features=12, bias=True)\n",
       "  (act1): ReLU()\n",
       "  (layer2): Linear(in_features=12, out_features=8, bias=True)\n",
       "  (act2): ReLU()\n",
       "  (layer3): Linear(in_features=8, out_features=1, bias=True)\n",
       "  (act3): Sigmoid()\n",
       ")"
      ]
     },
     "execution_count": 188,
     "metadata": {},
     "output_type": "execute_result"
    }
   ],
   "source": [
    "MyNeuralNet()"
   ]
  },
  {
   "cell_type": "markdown",
   "id": "4b9f98b2-7e68-45ea-89fa-15bee522adc5",
   "metadata": {},
   "source": [
    "## Inference"
   ]
  },
  {
   "cell_type": "markdown",
   "id": "dbbaf139-9145-4af8-878b-c35bcbd781c8",
   "metadata": {},
   "source": [
    "### Example"
   ]
  },
  {
   "cell_type": "code",
   "execution_count": 189,
   "id": "9418638b-96dd-4a35-8ac6-dd6640c521ae",
   "metadata": {},
   "outputs": [
    {
     "name": "stdout",
     "output_type": "stream",
     "text": [
      "tensor([  5.0000, 116.0000,  74.0000,   0.0000,   0.0000,  25.6000,   0.2010,\n",
      "         30.0000]) -> tensor([0.0689], grad_fn=<SelectBackward0>)\n"
     ]
    }
   ],
   "source": [
    "i = 5\n",
    "x_sample = x[i: i+1]\n",
    "y_pred = model(x_sample)\n",
    "print(f\"{x_sample[0]} -> {y_pred[0]}\")"
   ]
  },
  {
   "cell_type": "markdown",
   "id": "fd8b9f32-236d-4721-8b09-a6129a9fb967",
   "metadata": {},
   "source": [
    "A better way of running iniference by turning gradient computation off (we dont need gradient during inference)"
   ]
  },
  {
   "cell_type": "code",
   "execution_count": 190,
   "id": "e1996c65-ef5d-43f2-88a1-8fbb1ac1d2ad",
   "metadata": {},
   "outputs": [
    {
     "name": "stdout",
     "output_type": "stream",
     "text": [
      "tensor([  5.0000, 116.0000,  74.0000,   0.0000,   0.0000,  25.6000,   0.2010,\n",
      "         30.0000]) -> tensor([0.0689])\n"
     ]
    }
   ],
   "source": [
    "i = 5\n",
    "x_sample = x[i: i+1]\n",
    "model.eval()\n",
    "with torch.no_grad():\n",
    "    y_pred = model(x_sample)\n",
    "print(f\"{x_sample[0]} -> {y_pred[0]}\")"
   ]
  },
  {
   "cell_type": "markdown",
   "id": "326bbe48-586d-41d5-82c1-a8ab1f97607d",
   "metadata": {},
   "source": [
    "### Accuracy\n",
    "The model outputs a sigmoid value which is between 0 and 1. This can be interpreted into class prediction by rounding it the closest integer: The accuracy of the model can therefore be corrupted as follows :-"
   ]
  },
  {
   "cell_type": "code",
   "execution_count": 214,
   "id": "e6574f46-0583-4890-941c-298943381b83",
   "metadata": {},
   "outputs": [
    {
     "name": "stdout",
     "output_type": "stream",
     "text": [
      "Accuracy = 0.6510416865348816\n"
     ]
    }
   ],
   "source": [
    "model.eval()\n",
    "with torch.no_grad():\n",
    "    y_pred = model(x)\n",
    "\n",
    "accuracy = (y_pred.round() == y).float().mean()\n",
    "print(f\"Accuracy = {accuracy}\")"
   ]
  },
  {
   "cell_type": "markdown",
   "id": "9c237357-8e40-44e5-ba8f-1b824a5b669b",
   "metadata": {},
   "source": [
    "Construct a neural network with the following architecture\n",
    "Layer 1: input = 10 output: 15\n",
    "L1 activation: ReLU\n",
    "Layer 2: output = 25\n",
    "L2 activation: GeLU\n",
    "Layer 3: output = 10\n",
    "L3 activation: ReLU\n",
    "Layer 4: output = 3\n",
    "L$ activation: softmax"
   ]
  }
 ],
 "metadata": {
  "kernelspec": {
   "display_name": "Python 3 (ipykernel)",
   "language": "python",
   "name": "python3"
  },
  "language_info": {
   "codemirror_mode": {
    "name": "ipython",
    "version": 3
   },
   "file_extension": ".py",
   "mimetype": "text/x-python",
   "name": "python",
   "nbconvert_exporter": "python",
   "pygments_lexer": "ipython3",
   "version": "3.13.3"
  }
 },
 "nbformat": 4,
 "nbformat_minor": 5
}
