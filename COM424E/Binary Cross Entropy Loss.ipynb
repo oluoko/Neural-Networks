{
 "cells": [
  {
   "cell_type": "markdown",
   "id": "86eebebf-6589-42a9-981e-e6c90c7c2a28",
   "metadata": {},
   "source": [
    "## Understanding Binary Cross-Entropy Loss"
   ]
  },
  {
   "cell_type": "code",
   "execution_count": 11,
   "id": "2a13bfaa-4e7e-4183-bbbe-a6f471cd0f9a",
   "metadata": {},
   "outputs": [],
   "source": [
    "# Imports\n",
    "import numpy as np\n",
    "from sklearn.linear_model import LogisticRegression\n",
    "from math import log\n",
    "from sklearn.metrics import log_loss"
   ]
  },
  {
   "cell_type": "markdown",
   "id": "b96e0d67-6844-41df-bb04-428afab387da",
   "metadata": {},
   "source": [
    "Data"
   ]
  },
  {
   "cell_type": "code",
   "execution_count": 12,
   "id": "919f0865-8bd4-401a-85b1-ea4cc61a9888",
   "metadata": {},
   "outputs": [],
   "source": [
    "features = np.array([-1.8, -0.8, -0.5, -0.1, 0.5, 0.6, 0.9, 1.1,1.5,1.9])\n",
    "y_true = np.array([0,0,1,0,1,0,1,1,1,1])"
   ]
  },
  {
   "cell_type": "markdown",
   "id": "d1f23c26-48de-47f5-a0bf-9dfd3f787249",
   "metadata": {},
   "source": [
    "Let us fit our data to a model to get the probabilities for each data point.\n",
    "Logistic regression (uses sigmoid function)"
   ]
  },
  {
   "cell_type": "code",
   "execution_count": 13,
   "id": "589abbf2-13b8-415b-9702-9f8b513633a0",
   "metadata": {},
   "outputs": [],
   "source": [
    "model = LogisticRegression()\n",
    "model.fit(features.reshape(-1,1), y_true)\n",
    "y_pred = model.predict_proba(features.reshape(-1,1))[:, 1].ravel()"
   ]
  },
  {
   "cell_type": "code",
   "execution_count": 14,
   "id": "875553be-ddc4-4f69-8bf5-67cc2be7d42e",
   "metadata": {},
   "outputs": [],
   "source": [
    "avg_log_prob_negative = (-1)*(1/10)*(log(1-y_pred[0]) + log(1-y_pred[1]) + log(y_pred[2])\n",
    "                                     + log(1-y_pred[3]) + log(y_pred[4]) + log(1-y_pred[5])\n",
    "                                     + log(y_pred[6]) + log(y_pred[7]) + log(y_pred[8]) + \n",
    "                                     + log(y_pred[9])\n",
    "                                    )"
   ]
  },
  {
   "cell_type": "code",
   "execution_count": 15,
   "id": "b6275456-20fb-48eb-add1-72650538d1b3",
   "metadata": {},
   "outputs": [
    {
     "name": "stdout",
     "output_type": "stream",
     "text": [
      "Calculated negative average log of probabilities = 0.4594\n"
     ]
    }
   ],
   "source": [
    "print(\"Calculated negative average log of probabilities = %.4f\" %avg_log_prob_negative)"
   ]
  },
  {
   "cell_type": "markdown",
   "id": "ce69b1d2-8dc0-4e7e-a523-a46e5c2eaec0",
   "metadata": {},
   "source": [
    "Loss using the Log Loss from scikit learn package"
   ]
  },
  {
   "cell_type": "code",
   "execution_count": 16,
   "id": "9c777d0b-9668-4a9a-85e3-c0eb71f2f117",
   "metadata": {},
   "outputs": [
    {
     "name": "stdout",
     "output_type": "stream",
     "text": [
      "Log Loss using sklearn log_loss = 0.4594\n"
     ]
    }
   ],
   "source": [
    "loss = log_loss(y_true, y_pred)\n",
    "print('Log Loss using sklearn log_loss = %.4f' %loss)"
   ]
  },
  {
   "cell_type": "code",
   "execution_count": null,
   "id": "9a3f445b-8c15-49fc-b9c4-d9d1c7a47a9f",
   "metadata": {},
   "outputs": [],
   "source": []
  },
  {
   "cell_type": "code",
   "execution_count": null,
   "id": "6262f24e-9841-4e9e-ac37-ab0db3a0f319",
   "metadata": {},
   "outputs": [],
   "source": []
  },
  {
   "cell_type": "code",
   "execution_count": null,
   "id": "5c4ba804-f757-44ae-8f76-272d7debf93f",
   "metadata": {},
   "outputs": [],
   "source": []
  }
 ],
 "metadata": {
  "kernelspec": {
   "display_name": "Python 3 (ipykernel)",
   "language": "python",
   "name": "python3"
  },
  "language_info": {
   "codemirror_mode": {
    "name": "ipython",
    "version": 3
   },
   "file_extension": ".py",
   "mimetype": "text/x-python",
   "name": "python",
   "nbconvert_exporter": "python",
   "pygments_lexer": "ipython3",
   "version": "3.13.3"
  }
 },
 "nbformat": 4,
 "nbformat_minor": 5
}
