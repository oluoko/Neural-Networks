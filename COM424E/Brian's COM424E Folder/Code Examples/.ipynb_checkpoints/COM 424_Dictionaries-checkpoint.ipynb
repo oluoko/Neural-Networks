{
 "cells": [
  {
   "cell_type": "markdown",
   "id": "96a4977c",
   "metadata": {},
   "source": [
    "# Dictionaries"
   ]
  },
  {
   "cell_type": "code",
   "execution_count": 2,
   "id": "1a186628",
   "metadata": {},
   "outputs": [],
   "source": [
    "currencies = {\"Kenya\": \"KSH\", \"Uganda\":\"USH\", \"UK\":\"PND\", \"USA\": \"USD\", \"EU\":\"EURO\"}"
   ]
  },
  {
   "cell_type": "code",
   "execution_count": 5,
   "id": "7084e587",
   "metadata": {},
   "outputs": [
    {
     "data": {
      "text/plain": [
       "dict_keys(['Kenya', 'Uganda', 'UK', 'USA', 'EU'])"
      ]
     },
     "execution_count": 5,
     "metadata": {},
     "output_type": "execute_result"
    }
   ],
   "source": [
    "currencies.keys()"
   ]
  },
  {
   "cell_type": "code",
   "execution_count": 7,
   "id": "66fac0d3",
   "metadata": {},
   "outputs": [
    {
     "data": {
      "text/plain": [
       "dict_values(['KSH', 'USH', 'PND', 'USD', 'EURO'])"
      ]
     },
     "execution_count": 7,
     "metadata": {},
     "output_type": "execute_result"
    }
   ],
   "source": [
    "currencies.values()"
   ]
  },
  {
   "cell_type": "code",
   "execution_count": null,
   "id": "90fbcd2d",
   "metadata": {},
   "outputs": [],
   "source": []
  },
  {
   "cell_type": "code",
   "execution_count": null,
   "id": "978d3914",
   "metadata": {},
   "outputs": [],
   "source": [
    "dictionary called fruit_prices which stores banana=20, Mango=30, apple=35"
   ]
  },
  {
   "cell_type": "code",
   "execution_count": null,
   "id": "4636a3f2",
   "metadata": {},
   "outputs": [],
   "source": []
  },
  {
   "cell_type": "code",
   "execution_count": 8,
   "id": "e6196de1",
   "metadata": {},
   "outputs": [],
   "source": [
    "# You can also create a dictionary from a list\n"
   ]
  },
  {
   "cell_type": "code",
   "execution_count": 28,
   "id": "8ee516ac",
   "metadata": {},
   "outputs": [],
   "source": [
    "fruits_list= [\"mangos\", \"banana\", \"apple\", \"oranges\"]"
   ]
  },
  {
   "cell_type": "code",
   "execution_count": 29,
   "id": "4e74c67f",
   "metadata": {},
   "outputs": [],
   "source": [
    "fruit_prices =[30,20, 35, 25]"
   ]
  },
  {
   "cell_type": "code",
   "execution_count": 30,
   "id": "e75893f4",
   "metadata": {},
   "outputs": [],
   "source": [
    "# Use the key word zip and keyword dict"
   ]
  },
  {
   "cell_type": "code",
   "execution_count": 31,
   "id": "998f734d",
   "metadata": {},
   "outputs": [],
   "source": [
    "fruit_dict= dict(zip(fruits_list,fruit_prices))"
   ]
  },
  {
   "cell_type": "code",
   "execution_count": null,
   "id": "b83943cf",
   "metadata": {},
   "outputs": [],
   "source": []
  },
  {
   "cell_type": "code",
   "execution_count": 32,
   "id": "3f3dd324",
   "metadata": {},
   "outputs": [],
   "source": [
    "# adding an element to dictionary"
   ]
  },
  {
   "cell_type": "code",
   "execution_count": 33,
   "id": "774d858d",
   "metadata": {},
   "outputs": [
    {
     "data": {
      "text/plain": [
       "{'mangos': 30, 'banana': 20, 'apple': 35, 'oranges': 25}"
      ]
     },
     "execution_count": 33,
     "metadata": {},
     "output_type": "execute_result"
    }
   ],
   "source": [
    "fruit_dict"
   ]
  },
  {
   "cell_type": "code",
   "execution_count": 34,
   "id": "2e61ee5a",
   "metadata": {},
   "outputs": [],
   "source": [
    "fruit_dict[\"avocado\"]=5"
   ]
  },
  {
   "cell_type": "code",
   "execution_count": 35,
   "id": "b2b3f1e0",
   "metadata": {},
   "outputs": [
    {
     "data": {
      "text/plain": [
       "{'mangos': 30, 'banana': 20, 'apple': 35, 'oranges': 25, 'avocado': 5}"
      ]
     },
     "execution_count": 35,
     "metadata": {},
     "output_type": "execute_result"
    }
   ],
   "source": [
    "fruit_dict"
   ]
  },
  {
   "cell_type": "code",
   "execution_count": 36,
   "id": "4957db29",
   "metadata": {},
   "outputs": [],
   "source": [
    "# Delete an element from a dictionary. Use the dictionary.pop"
   ]
  },
  {
   "cell_type": "code",
   "execution_count": 38,
   "id": "a8284bb5",
   "metadata": {},
   "outputs": [
    {
     "data": {
      "text/plain": [
       "20"
      ]
     },
     "execution_count": 38,
     "metadata": {},
     "output_type": "execute_result"
    }
   ],
   "source": [
    "fruit_dict.pop(\"banana\")"
   ]
  },
  {
   "cell_type": "code",
   "execution_count": 39,
   "id": "5e682ff8",
   "metadata": {},
   "outputs": [
    {
     "data": {
      "text/plain": [
       "{'mangos': 30, 'apple': 35, 'oranges': 25, 'avocado': 5}"
      ]
     },
     "execution_count": 39,
     "metadata": {},
     "output_type": "execute_result"
    }
   ],
   "source": [
    "fruit_dict"
   ]
  },
  {
   "cell_type": "code",
   "execution_count": null,
   "id": "8340779c",
   "metadata": {},
   "outputs": [],
   "source": []
  },
  {
   "cell_type": "code",
   "execution_count": 40,
   "id": "b7b3deed",
   "metadata": {},
   "outputs": [],
   "source": [
    "# Merging two dictionaries option 1"
   ]
  },
  {
   "cell_type": "code",
   "execution_count": 41,
   "id": "7691312a",
   "metadata": {},
   "outputs": [],
   "source": [
    "dict1 = {'Ten': 10, 'Twenty': 20, 'Thirty': 30}\n",
    "dict2 = {'Thirty': 30, 'Fourty': 40, 'Fify': 50}"
   ]
  },
  {
   "cell_type": "code",
   "execution_count": 45,
   "id": "79804434",
   "metadata": {},
   "outputs": [],
   "source": [
    "dict3= {**dict1, **dict2}"
   ]
  },
  {
   "cell_type": "code",
   "execution_count": 46,
   "id": "e487beb2",
   "metadata": {},
   "outputs": [
    {
     "data": {
      "text/plain": [
       "{'Ten': 10, 'Twenty': 20, 'Thirty': 30, 'Fourty': 40, 'Fify': 50}"
      ]
     },
     "execution_count": 46,
     "metadata": {},
     "output_type": "execute_result"
    }
   ],
   "source": [
    "dict3"
   ]
  },
  {
   "cell_type": "code",
   "execution_count": 47,
   "id": "842f4884",
   "metadata": {},
   "outputs": [],
   "source": [
    "# Merging two dictionaries option 2"
   ]
  },
  {
   "cell_type": "code",
   "execution_count": 48,
   "id": "ca4e6def",
   "metadata": {},
   "outputs": [],
   "source": [
    "dict1_copy= dict1.copy()"
   ]
  },
  {
   "cell_type": "code",
   "execution_count": 49,
   "id": "142c9e77",
   "metadata": {},
   "outputs": [],
   "source": [
    "dict1_copy.update(dict2)"
   ]
  },
  {
   "cell_type": "code",
   "execution_count": 50,
   "id": "ae9f9013",
   "metadata": {},
   "outputs": [
    {
     "data": {
      "text/plain": [
       "{'Ten': 10, 'Twenty': 20, 'Thirty': 30, 'Fourty': 40, 'Fify': 50}"
      ]
     },
     "execution_count": 50,
     "metadata": {},
     "output_type": "execute_result"
    }
   ],
   "source": [
    "dict1_copy"
   ]
  },
  {
   "cell_type": "code",
   "execution_count": null,
   "id": "a1c8f8e1",
   "metadata": {},
   "outputs": [],
   "source": []
  }
 ],
 "metadata": {
  "kernelspec": {
   "display_name": "Python 3 (ipykernel)",
   "language": "python",
   "name": "python3"
  },
  "language_info": {
   "codemirror_mode": {
    "name": "ipython",
    "version": 3
   },
   "file_extension": ".py",
   "mimetype": "text/x-python",
   "name": "python",
   "nbconvert_exporter": "python",
   "pygments_lexer": "ipython3",
   "version": "3.9.18"
  }
 },
 "nbformat": 4,
 "nbformat_minor": 5
}
