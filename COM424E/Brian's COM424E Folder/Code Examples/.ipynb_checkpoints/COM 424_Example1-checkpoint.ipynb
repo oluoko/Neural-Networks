{
 "cells": [
  {
   "cell_type": "markdown",
   "id": "0c737e39",
   "metadata": {},
   "source": [
    "# System defined functions"
   ]
  },
  {
   "cell_type": "markdown",
   "id": "d8f971e0",
   "metadata": {},
   "source": [
    "# 1) print()"
   ]
  },
  {
   "cell_type": "code",
   "execution_count": 1,
   "id": "ae79ffdd",
   "metadata": {},
   "outputs": [
    {
     "name": "stdout",
     "output_type": "stream",
     "text": [
      "hello world\n"
     ]
    }
   ],
   "source": [
    "print(\"hello world\")"
   ]
  },
  {
   "cell_type": "markdown",
   "id": "f16afbf0",
   "metadata": {},
   "source": [
    "# 2) type()"
   ]
  },
  {
   "cell_type": "code",
   "execution_count": 2,
   "id": "50b62dbe",
   "metadata": {},
   "outputs": [
    {
     "data": {
      "text/plain": [
       "float"
      ]
     },
     "execution_count": 2,
     "metadata": {},
     "output_type": "execute_result"
    }
   ],
   "source": [
    "type(23.2)"
   ]
  },
  {
   "cell_type": "code",
   "execution_count": 3,
   "id": "cbc359be",
   "metadata": {},
   "outputs": [
    {
     "data": {
      "text/plain": [
       "str"
      ]
     },
     "execution_count": 3,
     "metadata": {},
     "output_type": "execute_result"
    }
   ],
   "source": [
    "type(\"Neural networks\")"
   ]
  },
  {
   "cell_type": "code",
   "execution_count": 4,
   "id": "f590c083",
   "metadata": {},
   "outputs": [
    {
     "ename": "NameError",
     "evalue": "name 'name' is not defined",
     "output_type": "error",
     "traceback": [
      "\u001b[0;31m---------------------------------------------------------------------------\u001b[0m",
      "\u001b[0;31mNameError\u001b[0m                                 Traceback (most recent call last)",
      "Cell \u001b[0;32mIn[4], line 1\u001b[0m\n\u001b[0;32m----> 1\u001b[0m \u001b[43mname\u001b[49m\n",
      "\u001b[0;31mNameError\u001b[0m: name 'name' is not defined"
     ]
    }
   ],
   "source": [
    "name"
   ]
  },
  {
   "cell_type": "markdown",
   "id": "98304cfd",
   "metadata": {},
   "source": [
    "# 3) input()"
   ]
  },
  {
   "cell_type": "code",
   "execution_count": null,
   "id": "ee5f40a7",
   "metadata": {},
   "outputs": [],
   "source": [
    "name = input(\"What is your name?\")"
   ]
  },
  {
   "cell_type": "code",
   "execution_count": null,
   "id": "8a913d3d",
   "metadata": {},
   "outputs": [],
   "source": [
    "name"
   ]
  },
  {
   "cell_type": "code",
   "execution_count": null,
   "id": "f52f6240",
   "metadata": {},
   "outputs": [],
   "source": [
    "age = input(\"enter your age\")"
   ]
  },
  {
   "cell_type": "code",
   "execution_count": null,
   "id": "8c152e23",
   "metadata": {},
   "outputs": [],
   "source": [
    "type(age)"
   ]
  },
  {
   "cell_type": "code",
   "execution_count": null,
   "id": "9c1e6c69",
   "metadata": {},
   "outputs": [],
   "source": [
    "age=int(age)"
   ]
  },
  {
   "cell_type": "code",
   "execution_count": null,
   "id": "32b43e48",
   "metadata": {},
   "outputs": [],
   "source": [
    "type(totalmark)"
   ]
  },
  {
   "cell_type": "code",
   "execution_count": null,
   "id": "c39ea4b4",
   "metadata": {},
   "outputs": [],
   "source": [
    "totalmark=0\n",
    "for i in range(1,5):\n",
    "    mark = int(input(\"enter the mark  \"))\n",
    "    totalmark=totalmark+mark\n",
    "averagescore=totalmark/4\n",
    "print(\"The average score for 4 students is :\" + str(averagescore))"
   ]
  },
  {
   "cell_type": "markdown",
   "id": "bd178bc3",
   "metadata": {},
   "source": [
    "# 4) String()"
   ]
  },
  {
   "cell_type": "code",
   "execution_count": 20,
   "id": "6b65b70e",
   "metadata": {},
   "outputs": [],
   "source": [
    "name=\"Gladys Maina\""
   ]
  },
  {
   "cell_type": "code",
   "execution_count": 21,
   "id": "a21fd7b6",
   "metadata": {},
   "outputs": [
    {
     "data": {
      "text/plain": [
       "'GLADYS MAINA'"
      ]
     },
     "execution_count": 21,
     "metadata": {},
     "output_type": "execute_result"
    }
   ],
   "source": [
    "name.upper()"
   ]
  },
  {
   "cell_type": "code",
   "execution_count": 22,
   "id": "23bdf6c6",
   "metadata": {},
   "outputs": [
    {
     "data": {
      "text/plain": [
       "'gladys maina'"
      ]
     },
     "execution_count": 22,
     "metadata": {},
     "output_type": "execute_result"
    }
   ],
   "source": [
    "name.lower()"
   ]
  },
  {
   "cell_type": "code",
   "execution_count": 23,
   "id": "7aad486e",
   "metadata": {},
   "outputs": [
    {
     "data": {
      "text/plain": [
       "'gLADYS mAINA'"
      ]
     },
     "execution_count": 23,
     "metadata": {},
     "output_type": "execute_result"
    }
   ],
   "source": [
    "name.swapcase() "
   ]
  },
  {
   "cell_type": "code",
   "execution_count": 24,
   "id": "fd8749dd",
   "metadata": {},
   "outputs": [
    {
     "data": {
      "text/plain": [
       "'Gladys maina'"
      ]
     },
     "execution_count": 24,
     "metadata": {},
     "output_type": "execute_result"
    }
   ],
   "source": [
    "name.capitalize() "
   ]
  },
  {
   "cell_type": "code",
   "execution_count": 29,
   "id": "91c5beb5",
   "metadata": {},
   "outputs": [
    {
     "data": {
      "text/plain": [
       "True"
      ]
     },
     "execution_count": 29,
     "metadata": {},
     "output_type": "execute_result"
    }
   ],
   "source": [
    "'a' in name"
   ]
  },
  {
   "cell_type": "markdown",
   "id": "c8d67bc8",
   "metadata": {},
   "source": [
    "# User defined functions\n",
    "\n",
    "User defined functions are made up of the follow. \n",
    "\n",
    "1) key word def\n",
    "\n",
    "2) Name of the function\n",
    "\n",
    "3) parenthesis ()\n",
    "\n",
    "4) parameters to receive i the function  (optional)-what the function will recieve/input\n",
    "\n",
    "5) Collon\n",
    "\n",
    "6) The body of the function. This must be indented \n",
    "\n",
    "7) The return (optional)-what the function will output"
   ]
  },
  {
   "cell_type": "code",
   "execution_count": null,
   "id": "07fbffd5",
   "metadata": {},
   "outputs": [],
   "source": []
  },
  {
   "cell_type": "code",
   "execution_count": 6,
   "id": "55d7dc22",
   "metadata": {},
   "outputs": [],
   "source": [
    "def ComputeAverage(math, eng):\n",
    "    avg=math+eng/2\n",
    "    return avg\n",
    "    \n",
    "    "
   ]
  },
  {
   "cell_type": "code",
   "execution_count": 9,
   "id": "dcca873a",
   "metadata": {},
   "outputs": [
    {
     "name": "stdout",
     "output_type": "stream",
     "text": [
      "121.5\n"
     ]
    }
   ],
   "source": [
    "myavg = ComputeAverage(99,45)\n",
    "print(myavg)"
   ]
  },
  {
   "cell_type": "code",
   "execution_count": null,
   "id": "e96f0221",
   "metadata": {},
   "outputs": [],
   "source": []
  },
  {
   "cell_type": "code",
   "execution_count": 17,
   "id": "d2836743",
   "metadata": {},
   "outputs": [],
   "source": [
    "def Agecalculator():\n",
    "    year = int(input(\"which year wer you born: \"))\n",
    "    age= 2024-year\n",
    "    #     print(\"Your age is : \"+ str(age) + \" years old\")\n",
    "    \n",
    "    return age\n",
    "    "
   ]
  },
  {
   "cell_type": "code",
   "execution_count": 18,
   "id": "43996061",
   "metadata": {},
   "outputs": [
    {
     "name": "stdout",
     "output_type": "stream",
     "text": [
      "which year wer you born: 1777\n"
     ]
    },
    {
     "data": {
      "text/plain": [
       "247"
      ]
     },
     "execution_count": 18,
     "metadata": {},
     "output_type": "execute_result"
    }
   ],
   "source": [
    "Agecalculator()"
   ]
  },
  {
   "cell_type": "code",
   "execution_count": null,
   "id": "16295887",
   "metadata": {},
   "outputs": [],
   "source": []
  },
  {
   "cell_type": "markdown",
   "id": "26bec028",
   "metadata": {},
   "source": [
    "# Numpy"
   ]
  },
  {
   "cell_type": "code",
   "execution_count": 31,
   "id": "4a707f19",
   "metadata": {},
   "outputs": [],
   "source": [
    "import numpy as np"
   ]
  },
  {
   "cell_type": "code",
   "execution_count": null,
   "id": "5daf9340",
   "metadata": {},
   "outputs": [],
   "source": [
    "# creating anumpy array"
   ]
  },
  {
   "cell_type": "code",
   "execution_count": 30,
   "id": "5becb9ca",
   "metadata": {},
   "outputs": [],
   "source": [
    "fruits=[\"mangos\", \"oranges\", \"bananas\"]"
   ]
  },
  {
   "cell_type": "code",
   "execution_count": 32,
   "id": "ba848a37",
   "metadata": {},
   "outputs": [],
   "source": [
    "np_fruits= np.array(fruits)"
   ]
  },
  {
   "cell_type": "code",
   "execution_count": 37,
   "id": "491138d4",
   "metadata": {},
   "outputs": [],
   "source": [
    "np_fruits= np.array([\"mangos\", \"oranges\", \"bananas\"])"
   ]
  },
  {
   "cell_type": "code",
   "execution_count": null,
   "id": "65bf5fc5",
   "metadata": {},
   "outputs": [],
   "source": []
  },
  {
   "cell_type": "code",
   "execution_count": null,
   "id": "97cc6090",
   "metadata": {},
   "outputs": [],
   "source": []
  },
  {
   "cell_type": "code",
   "execution_count": 35,
   "id": "e67c752b",
   "metadata": {},
   "outputs": [],
   "source": [
    "marks= [90,45,78] # create the lis first"
   ]
  },
  {
   "cell_type": "code",
   "execution_count": 36,
   "id": "246ac1a7",
   "metadata": {},
   "outputs": [],
   "source": [
    "np_marks= np.array(marks)# convert the list to numpy"
   ]
  },
  {
   "cell_type": "code",
   "execution_count": 38,
   "id": "5f8dd55b",
   "metadata": {},
   "outputs": [],
   "source": [
    "np_marks = np.array([90,45,78]) # the easiest way to create \n",
    "                            # numpy array is to directkyconvert the list to numpy within the brackest\n"
   ]
  },
  {
   "cell_type": "code",
   "execution_count": 40,
   "id": "86014b77",
   "metadata": {},
   "outputs": [
    {
     "data": {
      "text/plain": [
       "array([90, 45, 78])"
      ]
     },
     "execution_count": 40,
     "metadata": {},
     "output_type": "execute_result"
    }
   ],
   "source": [
    "np_marks"
   ]
  },
  {
   "cell_type": "code",
   "execution_count": 42,
   "id": "fccf55d8",
   "metadata": {},
   "outputs": [],
   "source": [
    "np_marks2 = np.array([[90,45,78], [45,87,88]])"
   ]
  },
  {
   "cell_type": "code",
   "execution_count": 43,
   "id": "005ca0be",
   "metadata": {},
   "outputs": [
    {
     "name": "stdout",
     "output_type": "stream",
     "text": [
      "[[90 45 78]\n",
      " [45 87 88]]\n"
     ]
    }
   ],
   "source": [
    "print(np_marks2)"
   ]
  },
  {
   "cell_type": "code",
   "execution_count": null,
   "id": "e2956224",
   "metadata": {},
   "outputs": [],
   "source": []
  },
  {
   "cell_type": "code",
   "execution_count": null,
   "id": "8d446733",
   "metadata": {},
   "outputs": [],
   "source": []
  },
  {
   "cell_type": "code",
   "execution_count": 44,
   "id": "5d5b0451",
   "metadata": {},
   "outputs": [],
   "source": [
    "# create a numpy array called classlist with three names of the students in that class\n"
   ]
  },
  {
   "cell_type": "code",
   "execution_count": null,
   "id": "16123528",
   "metadata": {},
   "outputs": [],
   "source": []
  },
  {
   "cell_type": "markdown",
   "id": "18230613",
   "metadata": {},
   "source": [
    "# Slicing of arrays"
   ]
  },
  {
   "cell_type": "code",
   "execution_count": 92,
   "id": "c3f0e514",
   "metadata": {},
   "outputs": [],
   "source": [
    "classlist = np.array([\"Wambua\", \"John\", \"sam\", \"mary\", \"Jacob\", \"Waema\", \"Njeri\", \"Kibet\",\"Sawoh\"])"
   ]
  },
  {
   "cell_type": "code",
   "execution_count": 48,
   "id": "290c6774",
   "metadata": {},
   "outputs": [
    {
     "data": {
      "text/plain": [
       "array(['Wambua', 'John', ' sam', 'mary', 'Jacob', ' Waema', ' Njeri',\n",
       "       'Kibet', 'Sawoh'], dtype='<U6')"
      ]
     },
     "execution_count": 48,
     "metadata": {},
     "output_type": "execute_result"
    }
   ],
   "source": [
    "classlist"
   ]
  },
  {
   "cell_type": "code",
   "execution_count": null,
   "id": "810bd6c4",
   "metadata": {},
   "outputs": [],
   "source": []
  },
  {
   "cell_type": "code",
   "execution_count": 59,
   "id": "12bfb2f5",
   "metadata": {},
   "outputs": [
    {
     "data": {
      "text/plain": [
       "array([' Njeri', 'Kibet', 'Sawoh'], dtype='<U6')"
      ]
     },
     "execution_count": 59,
     "metadata": {},
     "output_type": "execute_result"
    }
   ],
   "source": [
    "classlist[-3:]"
   ]
  },
  {
   "cell_type": "code",
   "execution_count": null,
   "id": "217973e5",
   "metadata": {},
   "outputs": [],
   "source": []
  },
  {
   "cell_type": "code",
   "execution_count": null,
   "id": "4bce659b",
   "metadata": {},
   "outputs": [],
   "source": []
  },
  {
   "cell_type": "code",
   "execution_count": 60,
   "id": "f22b4f0e",
   "metadata": {},
   "outputs": [],
   "source": [
    "my2Darray = np.array([[ -7, 0, 10, 20],\n",
    "[ -5, 1, 40, 200],\n",
    "[ -1, 1, 4, 30]])"
   ]
  },
  {
   "cell_type": "code",
   "execution_count": 61,
   "id": "803783bb",
   "metadata": {},
   "outputs": [
    {
     "name": "stdout",
     "output_type": "stream",
     "text": [
      "[[ -7   0  10  20]\n",
      " [ -5   1  40 200]\n",
      " [ -1   1   4  30]]\n"
     ]
    }
   ],
   "source": [
    "print(my2Darray)"
   ]
  },
  {
   "cell_type": "code",
   "execution_count": 68,
   "id": "fed85d89",
   "metadata": {},
   "outputs": [
    {
     "data": {
      "text/plain": [
       "array([[ -5,   1,  40, 200]])"
      ]
     },
     "execution_count": 68,
     "metadata": {},
     "output_type": "execute_result"
    }
   ],
   "source": [
    "my2Darray[1:2, :]"
   ]
  },
  {
   "cell_type": "code",
   "execution_count": null,
   "id": "d72d394c",
   "metadata": {},
   "outputs": [],
   "source": []
  },
  {
   "cell_type": "code",
   "execution_count": 72,
   "id": "563d8463",
   "metadata": {},
   "outputs": [
    {
     "data": {
      "text/plain": [
       "array(['Wambua', 'John', ' sam', 'mary', 'Jacob', ' Waema', ' Njeri',\n",
       "       'Kibet', 'Sawoh'], dtype='<U6')"
      ]
     },
     "execution_count": 72,
     "metadata": {},
     "output_type": "execute_result"
    }
   ],
   "source": [
    "classlist"
   ]
  },
  {
   "cell_type": "code",
   "execution_count": 83,
   "id": "78dc4ad4",
   "metadata": {},
   "outputs": [],
   "source": [
    "classlist2 = np.append(classlist, [\"Jerome\"])"
   ]
  },
  {
   "cell_type": "code",
   "execution_count": 84,
   "id": "3ec0567b",
   "metadata": {},
   "outputs": [
    {
     "data": {
      "text/plain": [
       "numpy.ndarray"
      ]
     },
     "execution_count": 84,
     "metadata": {},
     "output_type": "execute_result"
    }
   ],
   "source": [
    "type(classlist)"
   ]
  },
  {
   "cell_type": "code",
   "execution_count": 86,
   "id": "a2299045",
   "metadata": {},
   "outputs": [
    {
     "data": {
      "text/plain": [
       "array(['Wambua', 'John', ' sam', 'mary', 'Jacob', ' Waema', ' Njeri',\n",
       "       'Kibet', 'Sawoh', 'Jerome'], dtype='<U6')"
      ]
     },
     "execution_count": 86,
     "metadata": {},
     "output_type": "execute_result"
    }
   ],
   "source": [
    "classlist2"
   ]
  },
  {
   "cell_type": "code",
   "execution_count": null,
   "id": "c7e25a81",
   "metadata": {},
   "outputs": [],
   "source": [
    "fruits"
   ]
  },
  {
   "cell_type": "code",
   "execution_count": null,
   "id": "2d9af862",
   "metadata": {},
   "outputs": [],
   "source": [
    "\"apple\""
   ]
  },
  {
   "cell_type": "markdown",
   "id": "5442dca7",
   "metadata": {},
   "source": [
    "# append"
   ]
  },
  {
   "cell_type": "code",
   "execution_count": null,
   "id": "f915b208",
   "metadata": {},
   "outputs": [],
   "source": [
    "new_fruit = np.appaned(fruit, [\"apple\"])"
   ]
  },
  {
   "cell_type": "code",
   "execution_count": null,
   "id": "1d575748",
   "metadata": {},
   "outputs": [],
   "source": []
  },
  {
   "cell_type": "markdown",
   "id": "3bb7c6d4",
   "metadata": {},
   "source": [
    "# sort"
   ]
  },
  {
   "cell_type": "code",
   "execution_count": 93,
   "id": "090b80a5",
   "metadata": {},
   "outputs": [],
   "source": [
    "sorted_arr = np.sort(classlist)"
   ]
  },
  {
   "cell_type": "code",
   "execution_count": 94,
   "id": "eb88a45e",
   "metadata": {},
   "outputs": [
    {
     "data": {
      "text/plain": [
       "array(['Jacob', 'John', 'Kibet', 'Njeri', 'Sawoh', 'Waema', 'Wambua',\n",
       "       'mary', 'sam'], dtype='<U6')"
      ]
     },
     "execution_count": 94,
     "metadata": {},
     "output_type": "execute_result"
    }
   ],
   "source": [
    "sorted_arr"
   ]
  },
  {
   "cell_type": "code",
   "execution_count": null,
   "id": "2e3d229a",
   "metadata": {},
   "outputs": [],
   "source": []
  },
  {
   "cell_type": "code",
   "execution_count": 95,
   "id": "a470ac56",
   "metadata": {},
   "outputs": [],
   "source": [
    "prices = np.array([23,54,67,34,54,12,65,98,34,45])"
   ]
  },
  {
   "cell_type": "code",
   "execution_count": 96,
   "id": "c782fe8b",
   "metadata": {},
   "outputs": [
    {
     "data": {
      "text/plain": [
       "array([12, 23, 34, 34, 45, 54, 54, 65, 67, 98])"
      ]
     },
     "execution_count": 96,
     "metadata": {},
     "output_type": "execute_result"
    }
   ],
   "source": [
    "np.sort(prices)"
   ]
  },
  {
   "cell_type": "code",
   "execution_count": 102,
   "id": "e5f86c86",
   "metadata": {},
   "outputs": [
    {
     "data": {
      "text/plain": [
       "array([98, 67, 65, 54, 54, 45, 34, 34, 23, 12])"
      ]
     },
     "execution_count": 102,
     "metadata": {},
     "output_type": "execute_result"
    }
   ],
   "source": [
    "np.sort(prices)[::-1]"
   ]
  },
  {
   "cell_type": "code",
   "execution_count": null,
   "id": "a8e81cea",
   "metadata": {},
   "outputs": [],
   "source": []
  },
  {
   "cell_type": "markdown",
   "id": "a6ebad87",
   "metadata": {},
   "source": [
    "# reshape "
   ]
  },
  {
   "cell_type": "code",
   "execution_count": 103,
   "id": "7f1854b1",
   "metadata": {},
   "outputs": [],
   "source": [
    "new_prices = prices.reshape(2,5)"
   ]
  },
  {
   "cell_type": "code",
   "execution_count": 104,
   "id": "03095dbc",
   "metadata": {},
   "outputs": [
    {
     "data": {
      "text/plain": [
       "array([[23, 54, 67, 34, 54],\n",
       "       [12, 65, 98, 34, 45]])"
      ]
     },
     "execution_count": 104,
     "metadata": {},
     "output_type": "execute_result"
    }
   ],
   "source": [
    "new_prices"
   ]
  },
  {
   "cell_type": "code",
   "execution_count": null,
   "id": "b5203526",
   "metadata": {},
   "outputs": [],
   "source": []
  },
  {
   "cell_type": "code",
   "execution_count": 107,
   "id": "685ef6e0",
   "metadata": {},
   "outputs": [
    {
     "data": {
      "text/plain": [
       "48.6"
      ]
     },
     "execution_count": 107,
     "metadata": {},
     "output_type": "execute_result"
    }
   ],
   "source": [
    "np.mean(prices)"
   ]
  },
  {
   "cell_type": "code",
   "execution_count": null,
   "id": "1a186628",
   "metadata": {},
   "outputs": [],
   "source": []
  },
  {
   "cell_type": "code",
   "execution_count": null,
   "id": "a314eb6c",
   "metadata": {},
   "outputs": [],
   "source": []
  },
  {
   "cell_type": "code",
   "execution_count": null,
   "id": "e1b975b7",
   "metadata": {},
   "outputs": [],
   "source": []
  }
 ],
 "metadata": {
  "kernelspec": {
   "display_name": "Python 3 (ipykernel)",
   "language": "python",
   "name": "python3"
  },
  "language_info": {
   "codemirror_mode": {
    "name": "ipython",
    "version": 3
   },
   "file_extension": ".py",
   "mimetype": "text/x-python",
   "name": "python",
   "nbconvert_exporter": "python",
   "pygments_lexer": "ipython3",
   "version": "3.9.18"
  }
 },
 "nbformat": 4,
 "nbformat_minor": 5
}
