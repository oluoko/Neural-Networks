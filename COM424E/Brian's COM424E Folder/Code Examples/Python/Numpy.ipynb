{
 "cells": [
  {
   "cell_type": "markdown",
   "id": "5039e276-baed-4546-95a6-5426b0a2f08a",
   "metadata": {},
   "source": [
    "# Learning Numpy"
   ]
  },
  {
   "cell_type": "markdown",
   "id": "fa068d9f-c859-4836-b43b-527237c39cdb",
   "metadata": {
    "jp-MarkdownHeadingCollapsed": true
   },
   "source": [
    "## Creating Arrays"
   ]
  },
  {
   "cell_type": "code",
   "execution_count": 1,
   "id": "2a8bfa4e-df64-4cd1-ba0a-05c95db99a79",
   "metadata": {},
   "outputs": [],
   "source": [
    "# import numpy\n",
    "import numpy as np"
   ]
  },
  {
   "cell_type": "code",
   "execution_count": 4,
   "id": "d2592960-88d7-447f-8e77-4a7db0d2aee9",
   "metadata": {},
   "outputs": [
    {
     "name": "stdout",
     "output_type": "stream",
     "text": [
      "[10 20 30]\n"
     ]
    }
   ],
   "source": [
    "# creating a numpy array\n",
    "\n",
    "array1 = np.array([10,20,30])\n",
    "\n",
    "print(array1)"
   ]
  },
  {
   "cell_type": "code",
   "execution_count": 6,
   "id": "f71a362d-406c-4bdd-b053-6cffdd8a126e",
   "metadata": {},
   "outputs": [
    {
     "name": "stdout",
     "output_type": "stream",
     "text": [
      "['5' '-7.4' 'a' '7.2']\n"
     ]
    }
   ],
   "source": [
    "# creating a 1-D array \n",
    "\n",
    "array2 = np.array([5,-7.4, 'a', 7.2])\n",
    "\n",
    "print(array2)\n",
    "\n",
    "# Observe that since there is a string value in the list, \n",
    "# all integer and float values have been promoted to \n",
    "# string, while converting the list to array."
   ]
  },
  {
   "cell_type": "code",
   "execution_count": 7,
   "id": "1d1e912e-4efd-4f58-908f-eaf0f26c21f6",
   "metadata": {},
   "outputs": [
    {
     "name": "stdout",
     "output_type": "stream",
     "text": [
      "[[ 2.4   3.  ]\n",
      " [ 4.91  7.  ]\n",
      " [ 0.   -1.  ]]\n"
     ]
    }
   ],
   "source": [
    "# creatin a 2-D array\n",
    "\n",
    "array3 = np.array([[2.4,3], [4.91, 7], [0, -1]])\n",
    "\n",
    "print(array3)"
   ]
  },
  {
   "cell_type": "markdown",
   "id": "631e0e7d-722b-4d99-8ebc-91965ac4c4d5",
   "metadata": {
    "jp-MarkdownHeadingCollapsed": true
   },
   "source": [
    "## Slicing Arrays"
   ]
  },
  {
   "cell_type": "code",
   "execution_count": 18,
   "id": "f2ee7830-65b5-46c1-ab4c-ff66421fa22d",
   "metadata": {},
   "outputs": [
    {
     "name": "stdout",
     "output_type": "stream",
     "text": [
      "[10 14]\n",
      "[22 18 14 10  6  2 -2]\n"
     ]
    }
   ],
   "source": [
    "# Define which part of the array to be sliced by specifying\n",
    "# the start and end index values using [start : end] along\n",
    "# with the array name\n",
    "\n",
    "array1 = np.array([-2, 2, 6, 10, 14, 18, 22])\n",
    "sliced_array1 = array1[3:5]\n",
    "print(sliced_array1)\n",
    "\n",
    "\n",
    "# reverse the array\n",
    "sliced_array1 = array1[::-1]\n",
    "print(sliced_array1)"
   ]
  },
  {
   "cell_type": "markdown",
   "id": "8b302dec-5537-4aef-8ce0-035b804113d4",
   "metadata": {
    "jp-MarkdownHeadingCollapsed": true
   },
   "source": [
    "### Slicing 2-D arrays"
   ]
  },
  {
   "cell_type": "code",
   "execution_count": 21,
   "id": "137491f0-de5c-4446-951a-0e6eb16cf21d",
   "metadata": {},
   "outputs": [
    {
     "name": "stdout",
     "output_type": "stream",
     "text": [
      "[[  7   0  10  20]\n",
      " [ -5   1  40 200]\n",
      " [ -1   1   4  30]]\n"
     ]
    }
   ],
   "source": [
    "first2dArray = np.array([[7,0,10,20], [-5,1,40,200], [-1,1,4,30]])\n",
    "print(first2dArray)"
   ]
  },
  {
   "cell_type": "code",
   "execution_count": 22,
   "id": "613c79e8-acb8-43d3-87cb-0ce8136d599b",
   "metadata": {},
   "outputs": [
    {
     "name": "stdout",
     "output_type": "stream",
     "text": [
      "[10 40  4]\n"
     ]
    }
   ],
   "source": [
    "# Access all the elements in the 3rd column\n",
    "print(first2dArray[0:3,2])"
   ]
  },
  {
   "cell_type": "code",
   "execution_count": 23,
   "id": "ea525e46-81cd-4917-b87a-4cd714bcfdc0",
   "metadata": {},
   "outputs": [
    {
     "name": "stdout",
     "output_type": "stream",
     "text": [
      "[[-5  1]\n",
      " [-1  1]]\n"
     ]
    }
   ],
   "source": [
    "# access elements of the 2nd and 3rd row from 1st and \n",
    "# 2nd column\n",
    "print(first2dArray[1:3, 0:2])"
   ]
  },
  {
   "cell_type": "code",
   "execution_count": 31,
   "id": "e0f76e1c-0b0a-4557-91d9-25e53f2f985f",
   "metadata": {},
   "outputs": [
    {
     "name": "stdout",
     "output_type": "stream",
     "text": [
      "[ -5   1  40 200]\n"
     ]
    }
   ],
   "source": [
    "# If row indices are not specified, it means all the \n",
    "# rows are to be considered. Likewise, if column\n",
    "# indices are not specified, all the columns are to \n",
    "# be considered.\n",
    "\n",
    "print(first2dArray[1])"
   ]
  },
  {
   "cell_type": "markdown",
   "id": "b5a452d9-bc46-46c6-9583-be3434a825f8",
   "metadata": {
    "jp-MarkdownHeadingCollapsed": true
   },
   "source": [
    "## Numpy Append"
   ]
  },
  {
   "cell_type": "code",
   "execution_count": 32,
   "id": "bcd111f5-d450-42c4-b26c-5b3caac9f1b5",
   "metadata": {},
   "outputs": [
    {
     "name": "stdout",
     "output_type": "stream",
     "text": [
      "[[  7   0  10  20]\n",
      " [ -5   1  40 200]\n",
      " [ -1   1   4  30]\n",
      " [  2   7   8   2]]\n"
     ]
    }
   ],
   "source": [
    "# To add a new row to an existing array, ensure that the \n",
    "# number of columns matches that of the existing array\n",
    "\n",
    "newRow2dArray = np.append(first2dArray, [[2,7,8,2]], axis=0)\n",
    "print(newRow2dArray)"
   ]
  },
  {
   "cell_type": "code",
   "execution_count": 33,
   "id": "2b8a0a7a-f615-4504-a3b9-7d972065e091",
   "metadata": {},
   "outputs": [
    {
     "name": "stdout",
     "output_type": "stream",
     "text": [
      "[[  7   0  10  20   2]\n",
      " [ -5   1  40 200   7]\n",
      " [ -1   1   4  30   8]]\n"
     ]
    }
   ],
   "source": [
    "# To add a new column to an existing array, ensure that the \n",
    "# number of rows matches that of the existing array\n",
    "\n",
    "newColumnArray = np.append(first2dArray, [[2], [7], [8]], axis = 1)\n",
    "print(newColumnArray)"
   ]
  },
  {
   "cell_type": "markdown",
   "id": "526b0a05-cea0-40f3-b022-ed97ae603db3",
   "metadata": {
    "jp-MarkdownHeadingCollapsed": true
   },
   "source": [
    "## Numpy Sort"
   ]
  },
  {
   "cell_type": "code",
   "execution_count": 35,
   "id": "2b49c74d-8083-42a9-94d7-b112fe6e4aec",
   "metadata": {},
   "outputs": [
    {
     "name": "stdout",
     "output_type": "stream",
     "text": [
      "[   3   23   63   64   93 3234]\n"
     ]
    }
   ],
   "source": [
    "\n",
    "array4 = np.array([3234,23,63,64,93,3])\n",
    "array4_sorted = np.sort(array4)\n",
    "\n",
    "print(array4_sorted)"
   ]
  },
  {
   "cell_type": "code",
   "execution_count": 36,
   "id": "c27343d4-bd8b-4291-ae69-bfcbd7b43b57",
   "metadata": {},
   "outputs": [
    {
     "name": "stdout",
     "output_type": "stream",
     "text": [
      "[3234   93   64   63   23    3]\n"
     ]
    }
   ],
   "source": [
    "# to sort in descending order, we use the reverse slicing [::-1]\n",
    "array4_sorted_reversed = np.sort(array4)[::-1]\n",
    "\n",
    "print(array4_sorted_reversed)"
   ]
  },
  {
   "cell_type": "markdown",
   "id": "ef551ed1-4258-4d3b-a010-b269af41575c",
   "metadata": {},
   "source": [
    "## Reshaping Arrays"
   ]
  },
  {
   "cell_type": "code",
   "execution_count": null,
   "id": "79c85c00-e093-401e-bd5d-0db21bbe6eb8",
   "metadata": {},
   "outputs": [],
   "source": []
  }
 ],
 "metadata": {
  "kernelspec": {
   "display_name": "Python 3 (ipykernel)",
   "language": "python",
   "name": "python3"
  },
  "language_info": {
   "codemirror_mode": {
    "name": "ipython",
    "version": 3
   },
   "file_extension": ".py",
   "mimetype": "text/x-python",
   "name": "python",
   "nbconvert_exporter": "python",
   "pygments_lexer": "ipython3",
   "version": "3.13.2"
  }
 },
 "nbformat": 4,
 "nbformat_minor": 5
}
