{
 "cells": [
  {
   "cell_type": "code",
   "execution_count": 2,
   "id": "c4a8ec3b-6ec3-4a18-9ad9-aad7494b57b8",
   "metadata": {},
   "outputs": [],
   "source": [
    "import numpy as np\n",
    "import matplotlib.pyplot as plt"
   ]
  },
  {
   "cell_type": "code",
   "execution_count": 3,
   "id": "1f580780-f1ea-444d-b119-ebe5fa9c0114",
   "metadata": {},
   "outputs": [],
   "source": [
    "weights1=np.array([6,3.5,-3.5,-6,-3.5,3.6,6,0]) \n",
    "biases1=np.array([0,-0.42,1.35,3.69,2.44,-2.9,-5.3,0]) \n",
    "weights2=np.array([-1,-1,-1,-1,-1,-1,-1,0])\n",
    "biases2=np.array([0.7,0.27,0.3,1.37,0.27,0.27,0.7,1])\n",
    "weights3=np.array([-1,-1,-1,-1,-1,-1,-1,1.94])"
   ]
  },
  {
   "cell_type": "code",
   "execution_count": 5,
   "id": "d10bc1a5-c060-4554-ae65-2d4c60f1814c",
   "metadata": {},
   "outputs": [],
   "source": [
    "# Generate x values\n",
    "x = np.linspace(0, 1, 100)  # 100 points from 0 to 1\n",
    "\n",
    "# Calculate y values\n",
    "y = np.sin(2*np.pi*x)"
   ]
  },
  {
   "cell_type": "code",
   "execution_count": 6,
   "id": "d3b90e05-9aff-45de-a692-077bbce91795",
   "metadata": {},
   "outputs": [],
   "source": [
    "class Layer_Dense:\n",
    "    def __init__(self, inputs, weights, biases):\n",
    "        self.inputs = inputs\n",
    "        self.weights = weights\n",
    "        self.biases = biases\n",
    "    def forward\n",
    "        self.output = self.inputs*self.weights + self.biases\n",
    "\n",
    "class Activation_ReLU:\n",
    "    def forward(self, inputs):\n",
    "        self.output = np.maximum(0, inputs)\n",
    "\n",
    "class Activation_Linear:\n",
    "    def forward(self, inputs):\n",
    "        self.output = inputs"
   ]
  },
  {
   "cell_type": "code",
   "execution_count": 7,
   "id": "cf7b19c2-a98c-47d8-8d48-e4a76a4081d9",
   "metadata": {},
   "outputs": [
    {
     "ename": "ValueError",
     "evalue": "operands could not be broadcast together with shapes (100,) (8,) ",
     "output_type": "error",
     "traceback": [
      "\u001b[31m---------------------------------------------------------------------------\u001b[39m",
      "\u001b[31mValueError\u001b[39m                                Traceback (most recent call last)",
      "\u001b[36mCell\u001b[39m\u001b[36m \u001b[39m\u001b[32mIn[7]\u001b[39m\u001b[32m, line 1\u001b[39m\n\u001b[32m----> \u001b[39m\u001b[32m1\u001b[39m layer1 = \u001b[43mLayer_Dense\u001b[49m\u001b[43m(\u001b[49m\u001b[43mx\u001b[49m\u001b[43m,\u001b[49m\u001b[43m \u001b[49m\u001b[43mweights1\u001b[49m\u001b[43m,\u001b[49m\u001b[43m \u001b[49m\u001b[43mbiases1\u001b[49m\u001b[43m)\u001b[49m\n\u001b[32m      2\u001b[39m \u001b[38;5;28mprint\u001b[39m(layer1.output)\n",
      "\u001b[36mCell\u001b[39m\u001b[36m \u001b[39m\u001b[32mIn[6]\u001b[39m\u001b[32m, line 6\u001b[39m, in \u001b[36mLayer_Dense.__init__\u001b[39m\u001b[34m(self, inputs, weights, biases)\u001b[39m\n\u001b[32m      4\u001b[39m \u001b[38;5;28mself\u001b[39m.weights = weights\n\u001b[32m      5\u001b[39m \u001b[38;5;28mself\u001b[39m.biases = biases\n\u001b[32m----> \u001b[39m\u001b[32m6\u001b[39m \u001b[38;5;28mself\u001b[39m.output = \u001b[38;5;28;43mself\u001b[39;49m\u001b[43m.\u001b[49m\u001b[43minputs\u001b[49m\u001b[43m*\u001b[49m\u001b[38;5;28;43mself\u001b[39;49m\u001b[43m.\u001b[49m\u001b[43mweights\u001b[49m + \u001b[38;5;28mself\u001b[39m.biases\n",
      "\u001b[31mValueError\u001b[39m: operands could not be broadcast together with shapes (100,) (8,) "
     ]
    }
   ],
   "source": [
    "layer1 = Layer_Dense(x, weights1, biases1)\n",
    "print(layer1.output)"
   ]
  },
  {
   "cell_type": "code",
   "execution_count": null,
   "id": "160e5a2a-5a73-49c3-9500-bb6f434d8fcc",
   "metadata": {},
   "outputs": [],
   "source": []
  }
 ],
 "metadata": {
  "kernelspec": {
   "display_name": "Python 3 (ipykernel)",
   "language": "python",
   "name": "python3"
  },
  "language_info": {
   "codemirror_mode": {
    "name": "ipython",
    "version": 3
   },
   "file_extension": ".py",
   "mimetype": "text/x-python",
   "name": "python",
   "nbconvert_exporter": "python",
   "pygments_lexer": "ipython3",
   "version": "3.13.3"
  }
 },
 "nbformat": 4,
 "nbformat_minor": 5
}
