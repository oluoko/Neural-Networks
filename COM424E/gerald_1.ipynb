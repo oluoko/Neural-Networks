{
 "cells": [
  {
   "cell_type": "code",
   "execution_count": 3,
   "id": "646a0a97-7a09-4698-93d8-39f5963f2a23",
   "metadata": {},
   "outputs": [],
   "source": [
    "import numpy as np\n",
    "import nnfs\n",
    "from nnfs.datasets import spiral_data\n",
    "nnfs.init()"
   ]
  },
  {
   "cell_type": "code",
   "execution_count": 21,
   "id": "49891adf-18ee-474e-8c0f-52191afb3ab6",
   "metadata": {},
   "outputs": [
    {
     "name": "stdout",
     "output_type": "stream",
     "text": [
      "[[0.         0.         0.        ]\n",
      " [0.         0.00079887 0.00100914]\n",
      " [0.         0.         0.00218498]\n",
      " [0.         0.00061934 0.0035448 ]\n",
      " [0.         0.00025029 0.00476798]] \n",
      "\n",
      "[[0.33333334 0.33333334 0.33333334]\n",
      " [0.3333726  0.33329317 0.33333418]\n",
      " [0.33337    0.3332807  0.33334923]\n",
      " [0.33341014 0.3332357  0.3333541 ]\n",
      " [0.33342037 0.33321363 0.33336604]]\n"
     ]
    }
   ],
   "source": [
    "class Layer_Dense:\n",
    "  def __init__(self, n_inputs, n_neurons):\n",
    "        self.weights = 0.10 * np.random.randn(n_inputs, n_neurons)\n",
    "        self.biases = np.zeros((1, n_neurons))\n",
    "  def forward(self, inputs):\n",
    "      self.output = np.dot(inputs, self.weights) + self.biases\n",
    "\n",
    "class Activation_ReLU:\n",
    "  def forward(self, inputs):\n",
    "    self.output = np.maximum(0, inputs)\n",
    "\n",
    "class Activation_Softmax:\n",
    "  def forward(self, inputs):\n",
    "    exp_values = np.exp(inputs - np.max(inputs, axis=1, keepdims=True))\n",
    "    probablities = exp_values / np.sum(exp_values, axis=1, keepdims=True)\n",
    "      \n",
    "    self.output = probablities\n",
    "\n",
    "X, y = spiral_data(100, 3)\n",
    "\n",
    "dense1 = Layer_Dense(2, 3)\n",
    "activation1 = Activation_ReLU()\n",
    "\n",
    "dense2 = Layer_Dense(3, 3)\n",
    "activation2 = Activation_Softmax()\n",
    "\n",
    "dense1.forward(X)\n",
    "activation1.forward(dense1.output)\n",
    "print(activation1.output[:5],\"\\n\\n\")\n",
    "dense2.forward(activation1.output)\n",
    "activation2.forward(dense2.output)\n",
    "print(activation2.output[:5])"
   ]
  },
  {
   "cell_type": "code",
   "execution_count": 24,
   "id": "2281ac65-d552-41aa-9fd0-231451406ece",
   "metadata": {},
   "outputs": [
    {
     "data": {
      "text/plain": [
       "array([[0.0320586 , 0.08714432, 0.23688282, 0.64391426]])"
      ]
     },
     "execution_count": 24,
     "metadata": {},
     "output_type": "execute_result"
    }
   ],
   "source": [
    "activation2.forward([[4,5,6, 7]])\n",
    "activation2.output"
   ]
  },
  {
   "cell_type": "code",
   "execution_count": 23,
   "id": "17229d85-6f9d-446b-900f-f65604bb4c75",
   "metadata": {},
   "outputs": [
    {
     "data": {
      "text/plain": [
       "array([[0.0320586 , 0.08714432, 0.23688282, 0.64391426]])"
      ]
     },
     "execution_count": 23,
     "metadata": {},
     "output_type": "execute_result"
    }
   ],
   "source": [
    "inputs2 = [[2, 3, 4, 5]]\n",
    "activation2.forward(inputs2)\n",
    "activation2.output"
   ]
  },
  {
   "cell_type": "code",
   "execution_count": null,
   "id": "1e4c8b9e-c8ca-4deb-a62b-fa461aab472a",
   "metadata": {},
   "outputs": [],
   "source": [
    "E = 2.718828\n",
    "exp_values ="
   ]
  },
  {
   "cell_type": "code",
   "execution_count": null,
   "id": "70f48085-2204-4335-8718-38866c0a6f29",
   "metadata": {},
   "outputs": [],
   "source": [
    "exp_values = np.exp(inputs)"
   ]
  }
 ],
 "metadata": {
  "kernelspec": {
   "display_name": "Python 3 (ipykernel)",
   "language": "python",
   "name": "python3"
  },
  "language_info": {
   "codemirror_mode": {
    "name": "ipython",
    "version": 3
   },
   "file_extension": ".py",
   "mimetype": "text/x-python",
   "name": "python",
   "nbconvert_exporter": "python",
   "pygments_lexer": "ipython3",
   "version": "3.13.3"
  }
 },
 "nbformat": 4,
 "nbformat_minor": 5
}
