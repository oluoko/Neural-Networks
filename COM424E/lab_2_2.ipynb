{
 "cells": [
  {
   "cell_type": "code",
   "execution_count": 1,
   "id": "b95478b5-a973-42fa-a297-314ab07abcee",
   "metadata": {},
   "outputs": [],
   "source": [
    "import numpy as np"
   ]
  },
  {
   "cell_type": "code",
   "execution_count": 2,
   "id": "5cf6ea7a-d434-4ad8-adc8-24cd1613ea0c",
   "metadata": {},
   "outputs": [],
   "source": [
    "inputs = [\n",
    "    [8, 3, 9],\n",
    "    [9, 4, 2],\n",
    "    [4, 7, 4]\n",
    "]\n",
    "\n",
    "layer1_weights = [\n",
    "    [0.5, 0.2, 0.4],\n",
    "    [0.3, 0.8, 0.4], \n",
    "    [0.1, 0.8, 0.9],\n",
    "    [0.3, 0.7, 0.1]\n",
    "]\n",
    "layer1_biases = [0.2, 0.5, 0.3, 0.3]"
   ]
  },
  {
   "cell_type": "code",
   "execution_count": 3,
   "id": "fe345130-dbd0-4990-8932-4f487fbb978a",
   "metadata": {},
   "outputs": [],
   "source": [
    "layer2_weights = [\n",
    "    [0.1, 0.2, 0.8, 0.4],\n",
    "    [0.6, 0.7, 0.4, 0.3],\n",
    "    [0.1, 0.2, 0.8, 0.7]\n",
    "]\n",
    "\n",
    "layer2_biases = [0.6, 0.9, 0.8]"
   ]
  },
  {
   "cell_type": "code",
   "execution_count": 4,
   "id": "9650a1bd-1332-45a2-b468-9a287119f888",
   "metadata": {},
   "outputs": [],
   "source": [
    "output_layer_weights = [\n",
    "    [0.5, 0.8, 0.6],\n",
    "    [0.2, 0.1, 0.7]\n",
    "]"
   ]
  },
  {
   "cell_type": "code",
   "execution_count": 5,
   "id": "c59765bf-3fd2-471c-be96-5531028c28a2",
   "metadata": {},
   "outputs": [
    {
     "name": "stdout",
     "output_type": "stream",
     "text": [
      "[[ 8.4  8.9 11.6  5.7]\n",
      " [ 6.3  7.2  6.2  6. ]\n",
      " [ 5.2  8.9  9.9  6.8]]\n"
     ]
    }
   ],
   "source": [
    "layer1_outputs = np.dot(inputs, np.array(layer1_weights).T) + layer1_biases\n",
    "print(layer1_outputs)"
   ]
  },
  {
   "cell_type": "code",
   "execution_count": 6,
   "id": "c005cb90-6c4b-4547-b9be-82a7106a3866",
   "metadata": {},
   "outputs": [
    {
     "name": "stdout",
     "output_type": "stream",
     "text": [
      "[[14.78 18.52 16.69]\n",
      " [10.03 14.   12.03]\n",
      " [13.54 16.25 15.78]]\n"
     ]
    }
   ],
   "source": [
    "layer2_outputs = np.dot(layer1_outputs, np.array(layer2_weights).T) + layer2_biases\n",
    "print(layer2_outputs)"
   ]
  },
  {
   "cell_type": "code",
   "execution_count": 7,
   "id": "e7237085-74f9-443a-a9bf-37e80b2629eb",
   "metadata": {},
   "outputs": [
    {
     "name": "stdout",
     "output_type": "stream",
     "text": [
      "[[32.22  16.491]\n",
      " [23.433 11.827]\n",
      " [29.238 15.379]]\n"
     ]
    }
   ],
   "source": [
    "output = np.dot(layer2_outputs, np.array(output_layer_weights).T)\n",
    "print(output)"
   ]
  },
  {
   "cell_type": "code",
   "execution_count": 16,
   "id": "c328623f-e2e4-4f5b-a887-70ff81c4807d",
   "metadata": {},
   "outputs": [
    {
     "name": "stdout",
     "output_type": "stream",
     "text": [
      "[[ 8.4  8.9 11.6  5.7]\n",
      " [ 6.3  7.2  6.2  6. ]\n",
      " [ 5.2  8.9  9.9  6.8]]\n"
     ]
    }
   ],
   "source": [
    "layer_1_outputs = np.matmul(np.array(inputs), np.array(layer1_weights).T) + np.array(layer1_biases)\n",
    "print(layer_1_outputs)"
   ]
  },
  {
   "cell_type": "code",
   "execution_count": 17,
   "id": "429d4d01-b189-45b1-8b92-6f4397bdba96",
   "metadata": {},
   "outputs": [
    {
     "name": "stdout",
     "output_type": "stream",
     "text": [
      "[[14.78 18.52 16.69]\n",
      " [10.03 14.   12.03]\n",
      " [13.54 16.25 15.78]]\n"
     ]
    }
   ],
   "source": [
    "layer_2_outputs = np.matmul(np.array(layer_1_outputs), np.array(layer2_weights).T) + np.array(layer2_biases)\n",
    "print(layer_2_outputs)"
   ]
  },
  {
   "cell_type": "code",
   "execution_count": 19,
   "id": "d9381593-4148-4be4-8506-3c68e93544b0",
   "metadata": {},
   "outputs": [
    {
     "name": "stdout",
     "output_type": "stream",
     "text": [
      "[[32.22  16.491]\n",
      " [23.433 11.827]\n",
      " [29.238 15.379]]\n"
     ]
    }
   ],
   "source": [
    "outputs = np.matmul(np.array(layer_2_outputs), np.array(output_layer_weights).T)\n",
    "print(outputs)"
   ]
  },
  {
   "cell_type": "code",
   "execution_count": 20,
   "id": "3a6359d3-b0fc-4901-b123-5af661d03855",
   "metadata": {},
   "outputs": [
    {
     "name": "stdout",
     "output_type": "stream",
     "text": [
      "[[ True  True]\n",
      " [ True  True]\n",
      " [ True  True]]\n"
     ]
    }
   ],
   "source": [
    "print(output == outputs)"
   ]
  },
  {
   "cell_type": "code",
   "execution_count": 21,
   "id": "dac0bae4-107e-44d9-a3a7-f47ba636a8c3",
   "metadata": {},
   "outputs": [
    {
     "name": "stdout",
     "output_type": "stream",
     "text": [
      "[[ 8.4  8.9 11.6  5.7]\n",
      " [ 6.3  7.2  6.2  6. ]\n",
      " [ 5.2  8.9  9.9  6.8]]\n"
     ]
    }
   ],
   "source": [
    "layer_11_outputs = (np.array(inputs) @ np.array(layer1_weights).T) + np.array(layer1_biases)\n",
    "print(layer_11_outputs)"
   ]
  },
  {
   "cell_type": "code",
   "execution_count": 23,
   "id": "bd1dcd80-b1e2-4802-b255-95357de4079f",
   "metadata": {},
   "outputs": [
    {
     "name": "stdout",
     "output_type": "stream",
     "text": [
      "[[14.78 18.52 16.69]\n",
      " [10.03 14.   12.03]\n",
      " [13.54 16.25 15.78]]\n"
     ]
    }
   ],
   "source": [
    "layer_22_outputs = (np.array(layer_1_outputs) @ np.array(layer2_weights).T) + np.array(layer2_biases)\n",
    "print(layer_22_outputs)"
   ]
  },
  {
   "cell_type": "code",
   "execution_count": 24,
   "id": "68366a99-f1de-4868-98d7-57b57bee085e",
   "metadata": {},
   "outputs": [
    {
     "name": "stdout",
     "output_type": "stream",
     "text": [
      "[[32.22  16.491]\n",
      " [23.433 11.827]\n",
      " [29.238 15.379]]\n"
     ]
    }
   ],
   "source": [
    "output = (layer2_outputs @ np.array(output_layer_weights).T)\n",
    "print(output)"
   ]
  }
 ],
 "metadata": {
  "kernelspec": {
   "display_name": "Python 3 (ipykernel)",
   "language": "python",
   "name": "python3"
  },
  "language_info": {
   "codemirror_mode": {
    "name": "ipython",
    "version": 3
   },
   "file_extension": ".py",
   "mimetype": "text/x-python",
   "name": "python",
   "nbconvert_exporter": "python",
   "pygments_lexer": "ipython3",
   "version": "3.13.3"
  }
 },
 "nbformat": 4,
 "nbformat_minor": 5
}
