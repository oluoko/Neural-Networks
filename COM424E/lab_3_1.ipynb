{
 "cells": [
  {
   "cell_type": "code",
   "execution_count": 1,
   "id": "aefa9269-0755-46ce-b8d4-e939dee97a08",
   "metadata": {},
   "outputs": [],
   "source": [
    "import numpy as np"
   ]
  },
  {
   "cell_type": "code",
   "execution_count": 17,
   "id": "1adf5cf0-8168-4b53-adc8-eab929a7b33a",
   "metadata": {},
   "outputs": [],
   "source": [
    "class Neuron_Layer:\n",
    "    def __init__(self, inputs, weights, biases=0):      \n",
    "        self.output = inputs@weights.T + biases\n",
    "        print(self.output)"
   ]
  },
  {
   "cell_type": "code",
   "execution_count": 18,
   "id": "b1382f5d-595d-4de9-9b88-e7626c3cc9cc",
   "metadata": {},
   "outputs": [],
   "source": [
    "# inputs layer"
   ]
  },
  {
   "cell_type": "code",
   "execution_count": 19,
   "id": "1e617eb1-b125-4d45-803d-2e8917a09608",
   "metadata": {},
   "outputs": [],
   "source": [
    "inputs1 = np.array([\n",
    "    [8, 3, 9],\n",
    "    [9, 4, 2],\n",
    "    [4, 7, 4]\n",
    "])\n",
    "weights1 = np.array([\n",
    "    [0.5, 0.2, 0.4],\n",
    "    [0.3, 0.8, 0.4], \n",
    "    [0.1, 0.8, 0.9],\n",
    "    [0.3, 0.7, 0.1]\n",
    "])\n",
    "biases1 = np.array([0.2, 0.5, 0.3, 0.3])"
   ]
  },
  {
   "cell_type": "code",
   "execution_count": 24,
   "id": "7aecfeb8-c8be-4d2b-a9d3-fa42c1b28e61",
   "metadata": {},
   "outputs": [
    {
     "name": "stdout",
     "output_type": "stream",
     "text": [
      "[[ 8.4  8.9 11.6  5.7]\n",
      " [ 6.3  7.2  6.2  6. ]\n",
      " [ 5.2  8.9  9.9  6.8]]\n"
     ]
    }
   ],
   "source": [
    "layer1 = Neuron_Layer(inputs1, weights1, biases1)"
   ]
  },
  {
   "cell_type": "code",
   "execution_count": 25,
   "id": "8f3e203f-83b6-4551-8900-70ca22855e17",
   "metadata": {},
   "outputs": [],
   "source": [
    "inputs2 = layer1.output\n",
    "weights2 = np.array([\n",
    "    [0.1, 0.2, 0.8, 0.4],\n",
    "    [0.6, 0.7, 0.4, 0.3],\n",
    "    [0.1, 0.2, 0.8, 0.7]\n",
    "])\n",
    "biases2 = ([0.6, 0.9, 0.8])"
   ]
  },
  {
   "cell_type": "code",
   "execution_count": 26,
   "id": "5799e48c-8a3c-48ec-acf4-b0d552e06f8a",
   "metadata": {},
   "outputs": [
    {
     "name": "stdout",
     "output_type": "stream",
     "text": [
      "[[14.78 18.52 16.69]\n",
      " [10.03 14.   12.03]\n",
      " [13.54 16.25 15.78]]\n"
     ]
    }
   ],
   "source": [
    "layer2 = Neuron_Layer(inputs2, weights2, biases2)"
   ]
  },
  {
   "cell_type": "code",
   "execution_count": 27,
   "id": "ab31a5f5-92cc-4016-9b8b-1b891717f906",
   "metadata": {},
   "outputs": [],
   "source": [
    "inputs3 = layer2.output\n",
    "output_weight = np.array([\n",
    "    [0.5, 0.8, 0.6],\n",
    "    [0.2, 0.1, 0.7]\n",
    "])"
   ]
  },
  {
   "cell_type": "code",
   "execution_count": 29,
   "id": "d2f10842-300f-4ab0-94b1-7120762033dd",
   "metadata": {},
   "outputs": [
    {
     "name": "stdout",
     "output_type": "stream",
     "text": [
      "[[32.22  16.491]\n",
      " [23.433 11.827]\n",
      " [29.238 15.379]]\n"
     ]
    }
   ],
   "source": [
    "output_layer = Neuron_Layer(inputs3, output_weight)"
   ]
  }
 ],
 "metadata": {
  "kernelspec": {
   "display_name": "Python 3 (ipykernel)",
   "language": "python",
   "name": "python3"
  },
  "language_info": {
   "codemirror_mode": {
    "name": "ipython",
    "version": 3
   },
   "file_extension": ".py",
   "mimetype": "text/x-python",
   "name": "python",
   "nbconvert_exporter": "python",
   "pygments_lexer": "ipython3",
   "version": "3.13.3"
  }
 },
 "nbformat": 4,
 "nbformat_minor": 5
}
