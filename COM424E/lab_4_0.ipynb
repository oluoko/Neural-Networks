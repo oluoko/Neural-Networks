{
 "cells": [
  {
   "cell_type": "markdown",
   "id": "6c2b1073-701c-47df-aaf7-d534f2bf4903",
   "metadata": {
    "jp-MarkdownHeadingCollapsed": true
   },
   "source": [
    "# ReLU Activation Function Code "
   ]
  },
  {
   "cell_type": "code",
   "execution_count": 1,
   "id": "8d72bbd2-2d25-44c4-8db1-eff84b2aedd9",
   "metadata": {},
   "outputs": [
    {
     "name": "stdout",
     "output_type": "stream",
     "text": [
      "[0, 2, 0, 3.3, 0, 1.1, 2.2, 0]\n"
     ]
    }
   ],
   "source": [
    "inputs = [0,2, -1, 3.3, -2.7, 1.1, 2.2, -100]\n",
    "output = []\n",
    "for i in inputs:\n",
    "    if i > 0:\n",
    "        output.append(i)\n",
    "    else:\n",
    "        output.append(0)\n",
    "\n",
    "print(output)"
   ]
  },
  {
   "cell_type": "markdown",
   "id": "3e00e798-4368-4d79-8e11-4b369e6ff8fe",
   "metadata": {},
   "source": [
    "### This can be written more simply, as we just need to take the largest of two values 0 neuron value"
   ]
  },
  {
   "cell_type": "code",
   "execution_count": 2,
   "id": "4f026c32-0e95-4b82-b89f-4e74c2a962d6",
   "metadata": {},
   "outputs": [
    {
     "name": "stdout",
     "output_type": "stream",
     "text": [
      "[0, 2, 0, 3.3, 0, 1.1, 2.2, 0]\n"
     ]
    }
   ],
   "source": [
    "inputs = [0,2, -1, 3.3, -2.7, 1.1, 2.2, -100]\n",
    "output = []\n",
    "\n",
    "for i in inputs:\n",
    "    output.append(max(0, i))\n",
    "\n",
    "print(output)"
   ]
  },
  {
   "cell_type": "code",
   "execution_count": 3,
   "id": "438a0c38-253f-4b3c-91c1-eee9a747ff53",
   "metadata": {},
   "outputs": [
    {
     "name": "stdout",
     "output_type": "stream",
     "text": [
      "[0.  2.  0.  3.3 0.  1.1 2.2 0. ]\n"
     ]
    }
   ],
   "source": [
    "import numpy as np\n",
    "inputs = [0,2, -1, 3.3, -2.7, 1.1, 2.2, -100]\n",
    "output = np.maximum(0, inputs)\n",
    "print(output)"
   ]
  },
  {
   "cell_type": "markdown",
   "id": "7f7e1e4d-be5c-4ce0-80aa-87b2e94adf37",
   "metadata": {},
   "source": [
    "# Softmax Activation Function"
   ]
  },
  {
   "cell_type": "code",
   "execution_count": null,
   "id": "78e71e7e-0acc-4206-b870-08db20439e7a",
   "metadata": {},
   "outputs": [],
   "source": []
  }
 ],
 "metadata": {
  "kernelspec": {
   "display_name": "Python 3 (ipykernel)",
   "language": "python",
   "name": "python3"
  },
  "language_info": {
   "codemirror_mode": {
    "name": "ipython",
    "version": 3
   },
   "file_extension": ".py",
   "mimetype": "text/x-python",
   "name": "python",
   "nbconvert_exporter": "python",
   "pygments_lexer": "ipython3",
   "version": "3.13.3"
  }
 },
 "nbformat": 4,
 "nbformat_minor": 5
}
