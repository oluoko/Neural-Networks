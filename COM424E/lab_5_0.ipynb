{
 "cells": [
  {
   "cell_type": "code",
   "execution_count": 2,
   "id": "646a0a97-7a09-4698-93d8-39f5963f2a23",
   "metadata": {},
   "outputs": [],
   "source": [
    "import numpy as np\n",
    "import nnfs\n",
    "from nnfs.datasets import spiral_data\n",
    "nnfs.init()"
   ]
  },
  {
   "cell_type": "code",
   "execution_count": 3,
   "id": "49891adf-18ee-474e-8c0f-52191afb3ab6",
   "metadata": {},
   "outputs": [
    {
     "name": "stdout",
     "output_type": "stream",
     "text": [
      "[[ 0.          0.          0.        ]\n",
      " [-0.00104752  0.00113954 -0.00047984]\n",
      " [-0.00274148  0.00317292 -0.00086922]\n",
      " [-0.00421884  0.00526663 -0.00055913]\n",
      " [-0.00577077  0.00714014 -0.0008943 ]]\n",
      "[[0.         0.         0.        ]\n",
      " [0.         0.00113954 0.        ]\n",
      " [0.         0.00317292 0.        ]\n",
      " [0.         0.00526663 0.        ]\n",
      " [0.         0.00714014 0.        ]] \n",
      "\n",
      "\n",
      "[[0.33333334 0.33333334 0.33333334]\n",
      " [0.33331734 0.3333183  0.33336434]\n",
      " [0.3332888  0.33329153 0.33341965]\n",
      " [0.33325943 0.33326396 0.33347666]\n",
      " [0.33323312 0.33323926 0.33352762]]\n"
     ]
    }
   ],
   "source": [
    "class Layer_Dense:\n",
    "  def __init__(self, n_inputs, n_neurons):\n",
    "        self.weights = 0.10 * np.random.randn(n_inputs, n_neurons)\n",
    "        self.biases = np.zeros((1, n_neurons))\n",
    "  def forward(self, inputs):\n",
    "      self.output = np.dot(inputs, self.weights) + self.biases\n",
    "\n",
    "class Activation_ReLU:\n",
    "  def forward(self, inputs):\n",
    "    self.output = np.maximum(0, inputs)\n",
    "\n",
    "class Activation_Softmax:\n",
    "  def forward(self, inputs):\n",
    "    exp_values = np.exp(inputs - np.max(inputs, axis=1, keepdims=True))\n",
    "    probablities = exp_values / np.sum(exp_values, axis=1, keepdims=True)\n",
    "      \n",
    "    self.output = probablities\n",
    "\n",
    "X, y = spiral_data(100, 3)\n",
    "\n",
    "dense1 = Layer_Dense(2, 3)\n",
    "activation1 = Activation_ReLU()\n",
    "\n",
    "dense2 = Layer_Dense(3, 3)\n",
    "activation2 = Activation_Softmax()\n",
    "\n",
    "dense1.forward(X)\n",
    "print(dense1.output[:5])\n",
    "activation1.forward(dense1.output)\n",
    "print(activation1.output[:5],\"\\n\\n\")\n",
    "dense2.forward(activation1.output)\n",
    "activation2.forward(dense2.output)\n",
    "print(activation2.output[:5])"
   ]
  },
  {
   "cell_type": "code",
   "execution_count": 47,
   "id": "2281ac65-d552-41aa-9fd0-231451406ece",
   "metadata": {},
   "outputs": [
    {
     "data": {
      "text/plain": [
       "array([[0.0320586 , 0.08714432, 0.23688282, 0.64391426]])"
      ]
     },
     "execution_count": 47,
     "metadata": {},
     "output_type": "execute_result"
    }
   ],
   "source": [
    "activation2.forward([[4,5,6, 7]])\n",
    "activation2.output"
   ]
  },
  {
   "cell_type": "code",
   "execution_count": 48,
   "id": "17229d85-6f9d-446b-900f-f65604bb4c75",
   "metadata": {},
   "outputs": [
    {
     "data": {
      "text/plain": [
       "array([[0.0320586 , 0.08714432, 0.23688282, 0.64391426]])"
      ]
     },
     "execution_count": 48,
     "metadata": {},
     "output_type": "execute_result"
    }
   ],
   "source": [
    "inputs2 = [[2, 3, 4, 5]]\n",
    "activation2.forward(inputs2)\n",
    "activation2.output"
   ]
  },
  {
   "cell_type": "code",
   "execution_count": 50,
   "id": "70f48085-2204-4335-8718-38866c0a6f29",
   "metadata": {},
   "outputs": [],
   "source": [
    "exp_values = np.exp(inputs)"
   ]
  },
  {
   "cell_type": "code",
   "execution_count": 51,
   "id": "28a9f3be-e3e5-4685-ad04-43004f913712",
   "metadata": {},
   "outputs": [
    {
     "name": "stdout",
     "output_type": "stream",
     "text": [
      "[  54.59815003  148.4131591   403.42879349 1096.63315843]\n"
     ]
    }
   ],
   "source": [
    "print(exp_values)"
   ]
  },
  {
   "cell_type": "code",
   "execution_count": 81,
   "id": "adade7fa-58d2-4036-99b8-143eb357a0d2",
   "metadata": {},
   "outputs": [
    {
     "name": "stdout",
     "output_type": "stream",
     "text": [
      "[ 4.5  6.2  5.5 29. ]\n"
     ]
    }
   ],
   "source": [
    "# Write code to comute the softmax scores for the following array\n",
    "py_array = [4.5, 6.2, 5.5, 29]\n",
    "np_array = np.array(py_array)\n",
    "np_array_4 = np_array -  4\n",
    "print(np_array)"
   ]
  },
  {
   "cell_type": "code",
   "execution_count": 82,
   "id": "f37d1973-b4f3-407d-8fd5-1591e2f61f5c",
   "metadata": {},
   "outputs": [],
   "source": [
    "np_array_expo = np.exp(np_array_4)"
   ]
  },
  {
   "cell_type": "code",
   "execution_count": 83,
   "id": "1afb090d-53a3-4e0f-9f56-61f916a929ed",
   "metadata": {},
   "outputs": [
    {
     "name": "stdout",
     "output_type": "stream",
     "text": [
      "[1.64872127e+00 9.02501350e+00 4.48168907e+00 7.20048993e+10]\n"
     ]
    }
   ],
   "source": [
    "print(np_array_expo)"
   ]
  },
  {
   "cell_type": "code",
   "execution_count": 84,
   "id": "bbd362f8-bfad-4841-b2ea-e01fabf2d24e",
   "metadata": {},
   "outputs": [],
   "source": [
    "n_a_exp_sum = np.sum(np_array_expo)"
   ]
  },
  {
   "cell_type": "code",
   "execution_count": 85,
   "id": "7eac6012-efb5-4720-9612-7175a5754bd2",
   "metadata": {},
   "outputs": [
    {
     "name": "stdout",
     "output_type": "stream",
     "text": [
      "72004899352.5413\n"
     ]
    }
   ],
   "source": [
    "print(n_a_exp_sum)"
   ]
  },
  {
   "cell_type": "code",
   "execution_count": 86,
   "id": "908db745-38dc-4ec6-b15e-cc73af351938",
   "metadata": {},
   "outputs": [],
   "source": [
    "x = np_array_expo/n_a_exp_sum"
   ]
  },
  {
   "cell_type": "code",
   "execution_count": 87,
   "id": "451982ef-8375-4f4a-aa46-53d5f30e2d88",
   "metadata": {},
   "outputs": [
    {
     "name": "stdout",
     "output_type": "stream",
     "text": [
      "[2.28973485e-11 1.25338881e-10 6.22414462e-11 1.00000000e+00]\n"
     ]
    }
   ],
   "source": [
    "print(x)"
   ]
  },
  {
   "cell_type": "code",
   "execution_count": 88,
   "id": "f1131f33-19da-473f-a723-e8f65c0e6454",
   "metadata": {},
   "outputs": [
    {
     "name": "stdout",
     "output_type": "stream",
     "text": [
      "0.9999999999999999\n"
     ]
    }
   ],
   "source": [
    "sum_x = np.sum(x)\n",
    "print(sum_x)"
   ]
  },
  {
   "cell_type": "code",
   "execution_count": 89,
   "id": "86fda8ec-4584-4dd1-920c-d93be286fdd5",
   "metadata": {},
   "outputs": [],
   "source": [
    "# [2.28973485e-11 1.25338881e-10 6.22414462e-11 1.00000000e+00]"
   ]
  },
  {
   "cell_type": "code",
   "execution_count": null,
   "id": "5c364db6-1a10-4f4d-b0de-722804c212eb",
   "metadata": {},
   "outputs": [],
   "source": []
  },
  {
   "cell_type": "code",
   "execution_count": null,
   "id": "9b70b992-abb9-4b44-b053-17a328445579",
   "metadata": {},
   "outputs": [],
   "source": []
  }
 ],
 "metadata": {
  "kernelspec": {
   "display_name": "Python 3 (ipykernel)",
   "language": "python",
   "name": "python3"
  },
  "language_info": {
   "codemirror_mode": {
    "name": "ipython",
    "version": 3
   },
   "file_extension": ".py",
   "mimetype": "text/x-python",
   "name": "python",
   "nbconvert_exporter": "python",
   "pygments_lexer": "ipython3",
   "version": "3.13.3"
  }
 },
 "nbformat": 4,
 "nbformat_minor": 5
}
