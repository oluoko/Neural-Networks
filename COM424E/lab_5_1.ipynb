{
 "cells": [
  {
   "cell_type": "markdown",
   "id": "4acb5c8a-ecdd-4850-8aa2-6312d5870f4c",
   "metadata": {},
   "source": [
    "### Implementation of Mean Square Error(MSE) or L2 Loss"
   ]
  },
  {
   "cell_type": "code",
   "execution_count": 21,
   "id": "73dc4759-deba-4dcb-a1b8-433085ab4d2a",
   "metadata": {},
   "outputs": [],
   "source": [
    "def mean_squared_error(actual:list, predicted:list)-> float:\n",
    "    # ensure both list are of equal length\n",
    "    if len(actual) != len(predicted):\n",
    "        raise ValueError(\"The Lenght of the actual and predicted lists must be the same\")\n",
    "        \n",
    "    squared_diffs = [(act - pred)**2 for act, pred in zip(actual, predicted)]\n",
    "    # calculate the mean of the squared differences\n",
    "    mse = sum(squared_diffs) /len(actual)\n",
    "    return mse"
   ]
  },
  {
   "cell_type": "markdown",
   "id": "60ea7afe-7fd3-4dd3-83a4-5b2ed549f876",
   "metadata": {},
   "source": [
    "#### Example usage"
   ]
  },
  {
   "cell_type": "code",
   "execution_count": 22,
   "id": "b2f15999-eaae-482c-8a4d-d430f56279d9",
   "metadata": {},
   "outputs": [],
   "source": [
    "# Actual values\n",
    "y_true = [1, 6.2, 7.6, 8, 12, 14.3]"
   ]
  },
  {
   "cell_type": "code",
   "execution_count": 23,
   "id": "1098b09c-df8e-4075-9e88-1391bcad5192",
   "metadata": {},
   "outputs": [],
   "source": [
    "# Predicted values\n",
    "y_pred = [1, 7, 5, 6, 10, 11]"
   ]
  },
  {
   "cell_type": "code",
   "execution_count": 24,
   "id": "95515686-0c52-45c1-bae2-983938f8f944",
   "metadata": {},
   "outputs": [
    {
     "name": "stdout",
     "output_type": "stream",
     "text": [
      "4.381666666666667\n"
     ]
    }
   ],
   "source": [
    "# Calculate MSE value\n",
    "mse_value = mean_squared_error(y_true, y_pred)\n",
    "print(mse_value)"
   ]
  },
  {
   "cell_type": "code",
   "execution_count": null,
   "id": "d584319e-e2b5-4f65-a2ae-2f4363c042b9",
   "metadata": {},
   "outputs": [],
   "source": [
    "# List comprehension\n",
    "# Dictionary Comprehension"
   ]
  },
  {
   "cell_type": "code",
   "execution_count": null,
   "id": "be56f006-269d-411a-b83e-3038bed4524e",
   "metadata": {},
   "outputs": [],
   "source": [
    "# x y=sin2*pi*x"
   ]
  }
 ],
 "metadata": {
  "kernelspec": {
   "display_name": "Python 3 (ipykernel)",
   "language": "python",
   "name": "python3"
  },
  "language_info": {
   "codemirror_mode": {
    "name": "ipython",
    "version": 3
   },
   "file_extension": ".py",
   "mimetype": "text/x-python",
   "name": "python",
   "nbconvert_exporter": "python",
   "pygments_lexer": "ipython3",
   "version": "3.13.3"
  }
 },
 "nbformat": 4,
 "nbformat_minor": 5
}
