{
 "cells": [
  {
   "cell_type": "markdown",
   "id": "e4bad69c-957e-46a9-ab7e-14a4f3fc2a68",
   "metadata": {},
   "source": [
    "## Loss Functions"
   ]
  },
  {
   "cell_type": "code",
   "execution_count": 10,
   "id": "ccc67ccb-dc68-4999-ab35-947b1b28026c",
   "metadata": {},
   "outputs": [],
   "source": [
    "# Imports \n",
    "\n",
    "import math"
   ]
  },
  {
   "cell_type": "markdown",
   "id": "f3afd539-1a00-4baf-904d-6090093986c4",
   "metadata": {},
   "source": [
    "### Mean Squared Error"
   ]
  },
  {
   "cell_type": "code",
   "execution_count": 11,
   "id": "50c8437e-e306-4b7e-bf67-b82eebbde2c5",
   "metadata": {},
   "outputs": [],
   "source": [
    "def mean_squared_error(actual:list, predicted:list) -> float:\n",
    "    \"\"\"\n",
    "    Calculate the Mean Squared Error between actual and predicted values\n",
    "    :param actual: list, actual values\n",
    "    :param predicted: list ,predicted values\n",
    "    :return: float, the calculated MSE\n",
    "    \"\"\"\n",
    "    # Ensure the length of the two lists are the same\n",
    "    if len(actual) != len(predicted):\n",
    "        raise ValueError(\"The length of actual values and predicted values must be the same\")\n",
    "    # Calculate the squared differences\n",
    "    # (y ᵢ - ȳ)²\n",
    "    squared_diffs = [(act - pred) ** 2 for act, pred in zip(actual, predicted)]\n",
    "    # Calculate the mean of the squared differences\n",
    "    mse = sum(squared_diffs) / len(actual)\n",
    "    return mse"
   ]
  },
  {
   "cell_type": "code",
   "execution_count": 8,
   "id": "5c7e5b72-7993-49bb-a929-73c858cc600f",
   "metadata": {},
   "outputs": [],
   "source": [
    "# Example usage:\n",
    "# actual values\n",
    "y_true = [1, 2, 3, 4, 5]\n",
    "\n",
    "# predicted values\n",
    "y_pred = [1.1, 2.2, 2.9, 4.1, 4.9]"
   ]
  },
  {
   "cell_type": "markdown",
   "id": "746959b0-1d47-4e0c-ae3b-d0b7f259a49f",
   "metadata": {},
   "source": [
    "### Mean Absolute Error(MAE)"
   ]
  },
  {
   "cell_type": "code",
   "execution_count": 1,
   "id": "5c1f65e2-648b-4525-94ed-f667ad3b3823",
   "metadata": {},
   "outputs": [],
   "source": [
    "def mean_absolute_error(actual:list, predicted:list) -> float:\n",
    "    \"\"\"\n",
    "    Calculate the Mean Absolute Error between actual and predicted values\n",
    "    \n",
    "    :param actual: list, actual values\n",
    "    :param predicted: list, predicted values\n",
    "    :return: float, the calculated MAE\n",
    "    \"\"\"\n",
    "    # Ensure the length of the two lists are the same\n",
    "    if len(actual) != len(predicted):\n",
    "        raise ValueError(\"The length of actual values and predicted values must be the same\")\n",
    "\n",
    "    # Calculate the absolute differences\n",
    "    absolute_diffs = [abs(act - pred) for act, pred in zip(actual, predicted)]\n",
    "    \n",
    "    # Calculate the mean of the absolute differences\n",
    "    mae = sum(absolute_diffs) / len(actual)\n",
    "    return mae"
   ]
  },
  {
   "cell_type": "code",
   "execution_count": 2,
   "id": "abc310ee-aff5-468d-9412-487b3a58b80e",
   "metadata": {},
   "outputs": [],
   "source": [
    "# Example usage:\n",
    "# Actual values\n",
    "y_true = [3, -0.5, 2,7]\n",
    "# Predicted values\n",
    "y_pred = [2.5, 0.0, 2, 8]"
   ]
  },
  {
   "cell_type": "code",
   "execution_count": 3,
   "id": "6ad1d741-c6d8-42d4-ae8e-fd84a628eed7",
   "metadata": {},
   "outputs": [
    {
     "name": "stdout",
     "output_type": "stream",
     "text": [
      "0.5\n"
     ]
    }
   ],
   "source": [
    "# Calculate MAE\n",
    "mae_value = mean_absolute_error(y_true, y_pred)\n",
    "print(mae_value)"
   ]
  },
  {
   "cell_type": "markdown",
   "id": "224418ee-f55d-4826-aa7a-45c0d776ba4e",
   "metadata": {},
   "source": [
    "### Cross-Entropy Loss"
   ]
  },
  {
   "cell_type": "code",
   "execution_count": 5,
   "id": "76143f77-42ab-4dcf-9f76-53ea256daf88",
   "metadata": {},
   "outputs": [],
   "source": [
    "softmax_output = [0.7, 0.1, 0.2]\n",
    "target_output = [1, 0, 0]\n",
    "\n",
    "loss = -(math.log(softmax_output[0])*target_output[0] + math.log(softmax_output[1])*target_output[1] + math.log(softmax_output[2])*target_output[2])"
   ]
  },
  {
   "cell_type": "code",
   "execution_count": 6,
   "id": "dace11e1-a3eb-4334-8bda-90e0676f6b3b",
   "metadata": {},
   "outputs": [
    {
     "name": "stdout",
     "output_type": "stream",
     "text": [
      "0.35667494393873245\n"
     ]
    }
   ],
   "source": [
    "print(loss)"
   ]
  },
  {
   "cell_type": "code",
   "execution_count": null,
   "id": "61e7e522-30e0-4467-8b47-4e573a134be1",
   "metadata": {},
   "outputs": [],
   "source": []
  }
 ],
 "metadata": {
  "kernelspec": {
   "display_name": "Python 3 (ipykernel)",
   "language": "python",
   "name": "python3"
  },
  "language_info": {
   "codemirror_mode": {
    "name": "ipython",
    "version": 3
   },
   "file_extension": ".py",
   "mimetype": "text/x-python",
   "name": "python",
   "nbconvert_exporter": "python",
   "pygments_lexer": "ipython3",
   "version": "3.13.3"
  }
 },
 "nbformat": 4,
 "nbformat_minor": 5
}
