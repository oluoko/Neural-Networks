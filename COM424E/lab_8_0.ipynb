{
 "cells": [
  {
   "cell_type": "code",
   "execution_count": 1,
   "id": "e1cf0049-dc9b-42de-998d-17d1b55cac28",
   "metadata": {},
   "outputs": [],
   "source": [
    "import torch"
   ]
  },
  {
   "cell_type": "markdown",
   "id": "f816f040-41e7-4559-a7ef-e25be093130c",
   "metadata": {},
   "source": [
    "## Tensors"
   ]
  },
  {
   "cell_type": "markdown",
   "id": "3dfe8939-bf90-465e-961a-a9eb91a39114",
   "metadata": {},
   "source": [
    "### Scalar"
   ]
  },
  {
   "cell_type": "code",
   "execution_count": 3,
   "id": "28c1f47b-c8b1-45a9-955e-be101aff0882",
   "metadata": {},
   "outputs": [
    {
     "data": {
      "text/plain": [
       "torch.Size([])"
      ]
     },
     "execution_count": 3,
     "metadata": {},
     "output_type": "execute_result"
    }
   ],
   "source": [
    "# A Holds a single scalar value\n",
    "a = torch.tensor(3.0)\n",
    "a.shape"
   ]
  },
  {
   "cell_type": "markdown",
   "id": "491ab5e3-abb6-4ee4-b7b0-56fe674e786f",
   "metadata": {},
   "source": [
    "### Vector"
   ]
  },
  {
   "cell_type": "code",
   "execution_count": 4,
   "id": "b617e469-dd48-4bbb-80c7-5618533c31fb",
   "metadata": {},
   "outputs": [
    {
     "data": {
      "text/plain": [
       "torch.Size([4])"
      ]
     },
     "execution_count": 4,
     "metadata": {},
     "output_type": "execute_result"
    }
   ],
   "source": [
    "# Holds a number of values in a list-like format of 1-dimesion\n",
    "b = torch.tensor([3.2,4.5,6.4,3.3])\n",
    "b.shape"
   ]
  },
  {
   "cell_type": "markdown",
   "id": "e5589167-9693-432e-8809-5784f227becb",
   "metadata": {},
   "source": [
    "### Matrix "
   ]
  },
  {
   "cell_type": "code",
   "execution_count": 9,
   "id": "0cc6f03c-f4f5-4371-a82c-b660f453de52",
   "metadata": {},
   "outputs": [
    {
     "data": {
      "text/plain": [
       "torch.Size([4, 3])"
      ]
     },
     "execution_count": 9,
     "metadata": {},
     "output_type": "execute_result"
    }
   ],
   "source": [
    "# Has the shape of a 2-dimensional aray\n",
    "c = torch.tensor([[4.0,3.2,5.6], [3.3, 4.8, 9.0], [60.5,20.3, 44.5], [42.3, 66.1, 0.6]])\n",
    "c.shape"
   ]
  },
  {
   "cell_type": "markdown",
   "id": "106a230c-a371-4945-ac4a-b29a5bb248de",
   "metadata": {},
   "source": [
    "### Tensor"
   ]
  },
  {
   "cell_type": "code",
   "execution_count": 10,
   "id": "e4eefe3e-5a15-4898-9c8f-727049b37f35",
   "metadata": {},
   "outputs": [
    {
     "data": {
      "text/plain": [
       "torch.Size([2, 2, 3])"
      ]
     },
     "execution_count": 10,
     "metadata": {},
     "output_type": "execute_result"
    }
   ],
   "source": [
    "# A rank n tensor (n>2) e.g 3D, 4D ...(nD e.t.c)\n",
    "d = torch.tensor([[[3.0,1.1, 3.2],[4.4,3.3,2.5]], [[44.5,6,4.4], [6.1,32.2,4]]])\n",
    "d.shape"
   ]
  },
  {
   "cell_type": "code",
   "execution_count": 11,
   "id": "fba8c71f-a2a0-42a5-9c84-302be36a19eb",
   "metadata": {},
   "outputs": [
    {
     "name": "stdout",
     "output_type": "stream",
     "text": [
      "N shape torch.Size([2, 2, 4, 2])\n",
      "tensor([[[[-0.6343,  0.3840],\n",
      "          [ 1.6304, -0.8249],\n",
      "          [ 0.4925,  0.0853],\n",
      "          [ 2.0578, -1.1322]],\n",
      "\n",
      "         [[ 2.4679, -0.7362],\n",
      "          [ 1.5129,  1.1671],\n",
      "          [ 0.4070, -0.2831],\n",
      "          [-0.1039, -0.4682]]],\n",
      "\n",
      "\n",
      "        [[[ 0.2292,  0.4997],\n",
      "          [-3.7987, -0.3142],\n",
      "          [ 0.9792,  1.5376],\n",
      "          [-0.3235,  0.1918]],\n",
      "\n",
      "         [[ 1.0711, -1.3334],\n",
      "          [-1.2034,  1.4929],\n",
      "          [ 1.1174, -0.6807],\n",
      "          [ 0.7394,  2.1025]]]])\n"
     ]
    }
   ],
   "source": [
    "n = torch.randn([2,2,4,2])\n",
    "print(f\"N shape {n.shape}\")\n",
    "print(n)"
   ]
  },
  {
   "cell_type": "code",
   "execution_count": 13,
   "id": "40ef4869-2b71-4b49-a33f-6420ebb989d4",
   "metadata": {},
   "outputs": [
    {
     "name": "stdout",
     "output_type": "stream",
     "text": [
      "tensor([[[[-6.3431e-01,  3.8399e-01],\n",
      "          [ 1.6304e+00, -8.2488e-01],\n",
      "          [ 4.9250e-01,  8.5330e-02],\n",
      "          [ 2.0578e+00, -1.1322e+00]],\n",
      "\n",
      "         [[ 2.4679e+00, -7.3621e-01],\n",
      "          [ 1.5129e+00,  1.1671e+00],\n",
      "          [ 4.0703e-01, -2.8309e-01],\n",
      "          [-1.0391e-01,  1.0000e+02]]],\n",
      "\n",
      "\n",
      "        [[[ 2.2918e-01,  4.9973e-01],\n",
      "          [-3.7987e+00, -3.1420e-01],\n",
      "          [ 9.7915e-01,  1.5376e+00],\n",
      "          [-3.2349e-01,  1.9180e-01]],\n",
      "\n",
      "         [[ 1.0711e+00, -1.3334e+00],\n",
      "          [-1.2034e+00,  1.4929e+00],\n",
      "          [ 1.1174e+00, -6.8074e-01],\n",
      "          [ 7.3942e-01,  2.1025e+00]]]])\n"
     ]
    }
   ],
   "source": [
    "n[0][1][3][1] = 100\n",
    "print(n)"
   ]
  },
  {
   "cell_type": "markdown",
   "id": "0df2b9e1-b80c-4c42-a106-0ff82fa7f719",
   "metadata": {},
   "source": [
    "## Storing Gradients"
   ]
  },
  {
   "cell_type": "markdown",
   "id": "e45037ac-fd0d-44c0-ac1d-003bd2c3f397",
   "metadata": {},
   "source": [
    "### Example 1:"
   ]
  },
  {
   "cell_type": "code",
   "execution_count": 146,
   "id": "5e5cceb5-6058-4c6a-8685-6c59176b8848",
   "metadata": {},
   "outputs": [],
   "source": [
    "import torch.nn as nn\n",
    "from torchviz import make_dot\n",
    "import numpy as np\n",
    "import torch.optim as optim\n",
    "import pandas as pd"
   ]
  },
  {
   "cell_type": "code",
   "execution_count": 74,
   "id": "f3936b22-3ecf-4d4e-8280-61fbd584c421",
   "metadata": {},
   "outputs": [
    {
     "name": "stdout",
     "output_type": "stream",
     "text": [
      "tensor(3.1400, requires_grad=True)\n"
     ]
    }
   ],
   "source": [
    "a = torch.tensor(3.14, requires_grad=True)\n",
    "print(a)"
   ]
  },
  {
   "cell_type": "code",
   "execution_count": 75,
   "id": "6d087082-5773-4b5e-a0e8-8f2215a18956",
   "metadata": {},
   "outputs": [
    {
     "name": "stdout",
     "output_type": "stream",
     "text": [
      "tensor([1., 2., 3.])\n"
     ]
    }
   ],
   "source": [
    "b = torch.tensor([1.0,2.0,3.0])\n",
    "print(b)"
   ]
  },
  {
   "cell_type": "markdown",
   "id": "1ecb90ae-d269-4a4c-b1a5-edfb4b8e962b",
   "metadata": {},
   "source": [
    "### Example 2:"
   ]
  },
  {
   "cell_type": "code",
   "execution_count": 76,
   "id": "6ab69a34-b623-4e9e-aedd-fefcc7cb73a3",
   "metadata": {},
   "outputs": [
    {
     "name": "stdout",
     "output_type": "stream",
     "text": [
      "Prediction z: tensor([1.9000], grad_fn=<AddBackward0>)\n",
      "dL/dw: -0.5599997639656067\n",
      "dL/db: -0.39999985694885254\n"
     ]
    },
    {
     "data": {
      "image/svg+xml": [
       "<?xml version=\"1.0\" encoding=\"UTF-8\" standalone=\"no\"?>\n",
       "<!DOCTYPE svg PUBLIC \"-//W3C//DTD SVG 1.1//EN\"\n",
       " \"http://www.w3.org/Graphics/SVG/1.1/DTD/svg11.dtd\">\n",
       "<!-- Generated by graphviz version 2.42.4 (0)\n",
       " -->\n",
       "<!-- Pages: 1 -->\n",
       "<svg width=\"222pt\" height=\"448pt\"\n",
       " viewBox=\"0.00 0.00 222.00 448.00\" xmlns=\"http://www.w3.org/2000/svg\" xmlns:xlink=\"http://www.w3.org/1999/xlink\">\n",
       "<g id=\"graph0\" class=\"graph\" transform=\"scale(1 1) rotate(0) translate(4 444)\">\n",
       "<polygon fill=\"white\" stroke=\"transparent\" points=\"-4,4 -4,-444 218,-444 218,4 -4,4\"/>\n",
       "<!-- 139847517362112 -->\n",
       "<g id=\"node1\" class=\"node\">\n",
       "<title>139847517362112</title>\n",
       "<polygon fill=\"#caff70\" stroke=\"black\" points=\"133.5,-31 79.5,-31 79.5,0 133.5,0 133.5,-31\"/>\n",
       "<text text-anchor=\"middle\" x=\"106.5\" y=\"-7\" font-family=\"monospace\" font-size=\"10.00\"> ()</text>\n",
       "</g>\n",
       "<!-- 139847517081168 -->\n",
       "<g id=\"node2\" class=\"node\">\n",
       "<title>139847517081168</title>\n",
       "<polygon fill=\"lightgrey\" stroke=\"black\" points=\"151,-86 62,-86 62,-67 151,-67 151,-86\"/>\n",
       "<text text-anchor=\"middle\" x=\"106.5\" y=\"-74\" font-family=\"monospace\" font-size=\"10.00\">SumBackward0</text>\n",
       "</g>\n",
       "<!-- 139847517081168&#45;&gt;139847517362112 -->\n",
       "<g id=\"edge9\" class=\"edge\">\n",
       "<title>139847517081168&#45;&gt;139847517362112</title>\n",
       "<path fill=\"none\" stroke=\"black\" d=\"M106.5,-66.79C106.5,-60.07 106.5,-50.4 106.5,-41.34\"/>\n",
       "<polygon fill=\"black\" stroke=\"black\" points=\"110,-41.19 106.5,-31.19 103,-41.19 110,-41.19\"/>\n",
       "</g>\n",
       "<!-- 139847517088656 -->\n",
       "<g id=\"node3\" class=\"node\">\n",
       "<title>139847517088656</title>\n",
       "<polygon fill=\"lightgrey\" stroke=\"black\" points=\"151,-141 62,-141 62,-122 151,-122 151,-141\"/>\n",
       "<text text-anchor=\"middle\" x=\"106.5\" y=\"-129\" font-family=\"monospace\" font-size=\"10.00\">PowBackward0</text>\n",
       "</g>\n",
       "<!-- 139847517088656&#45;&gt;139847517081168 -->\n",
       "<g id=\"edge1\" class=\"edge\">\n",
       "<title>139847517088656&#45;&gt;139847517081168</title>\n",
       "<path fill=\"none\" stroke=\"black\" d=\"M106.5,-121.75C106.5,-114.8 106.5,-104.85 106.5,-96.13\"/>\n",
       "<polygon fill=\"black\" stroke=\"black\" points=\"110,-96.09 106.5,-86.09 103,-96.09 110,-96.09\"/>\n",
       "</g>\n",
       "<!-- 139847517089616 -->\n",
       "<g id=\"node4\" class=\"node\">\n",
       "<title>139847517089616</title>\n",
       "<polygon fill=\"lightgrey\" stroke=\"black\" points=\"151,-196 62,-196 62,-177 151,-177 151,-196\"/>\n",
       "<text text-anchor=\"middle\" x=\"106.5\" y=\"-184\" font-family=\"monospace\" font-size=\"10.00\">SubBackward0</text>\n",
       "</g>\n",
       "<!-- 139847517089616&#45;&gt;139847517088656 -->\n",
       "<g id=\"edge2\" class=\"edge\">\n",
       "<title>139847517089616&#45;&gt;139847517088656</title>\n",
       "<path fill=\"none\" stroke=\"black\" d=\"M106.5,-176.75C106.5,-169.8 106.5,-159.85 106.5,-151.13\"/>\n",
       "<polygon fill=\"black\" stroke=\"black\" points=\"110,-151.09 106.5,-141.09 103,-151.09 110,-151.09\"/>\n",
       "</g>\n",
       "<!-- 139847517092064 -->\n",
       "<g id=\"node5\" class=\"node\">\n",
       "<title>139847517092064</title>\n",
       "<polygon fill=\"lightgrey\" stroke=\"black\" points=\"151,-251 62,-251 62,-232 151,-232 151,-251\"/>\n",
       "<text text-anchor=\"middle\" x=\"106.5\" y=\"-239\" font-family=\"monospace\" font-size=\"10.00\">AddBackward0</text>\n",
       "</g>\n",
       "<!-- 139847517092064&#45;&gt;139847517089616 -->\n",
       "<g id=\"edge3\" class=\"edge\">\n",
       "<title>139847517092064&#45;&gt;139847517089616</title>\n",
       "<path fill=\"none\" stroke=\"black\" d=\"M106.5,-231.75C106.5,-224.8 106.5,-214.85 106.5,-206.13\"/>\n",
       "<polygon fill=\"black\" stroke=\"black\" points=\"110,-206.09 106.5,-196.09 103,-206.09 110,-206.09\"/>\n",
       "</g>\n",
       "<!-- 139847517091344 -->\n",
       "<g id=\"node6\" class=\"node\">\n",
       "<title>139847517091344</title>\n",
       "<polygon fill=\"lightgrey\" stroke=\"black\" points=\"95,-306 6,-306 6,-287 95,-287 95,-306\"/>\n",
       "<text text-anchor=\"middle\" x=\"50.5\" y=\"-294\" font-family=\"monospace\" font-size=\"10.00\">MulBackward0</text>\n",
       "</g>\n",
       "<!-- 139847517091344&#45;&gt;139847517092064 -->\n",
       "<g id=\"edge4\" class=\"edge\">\n",
       "<title>139847517091344&#45;&gt;139847517092064</title>\n",
       "<path fill=\"none\" stroke=\"black\" d=\"M59.5,-286.98C67.69,-279.23 80.01,-267.58 89.97,-258.14\"/>\n",
       "<polygon fill=\"black\" stroke=\"black\" points=\"92.48,-260.59 97.34,-251.17 87.67,-255.5 92.48,-260.59\"/>\n",
       "</g>\n",
       "<!-- 139847517080784 -->\n",
       "<g id=\"node7\" class=\"node\">\n",
       "<title>139847517080784</title>\n",
       "<polygon fill=\"lightgrey\" stroke=\"black\" points=\"101,-367 0,-367 0,-348 101,-348 101,-367\"/>\n",
       "<text text-anchor=\"middle\" x=\"50.5\" y=\"-355\" font-family=\"monospace\" font-size=\"10.00\">AccumulateGrad</text>\n",
       "</g>\n",
       "<!-- 139847517080784&#45;&gt;139847517091344 -->\n",
       "<g id=\"edge5\" class=\"edge\">\n",
       "<title>139847517080784&#45;&gt;139847517091344</title>\n",
       "<path fill=\"none\" stroke=\"black\" d=\"M50.5,-347.79C50.5,-339.6 50.5,-327.06 50.5,-316.55\"/>\n",
       "<polygon fill=\"black\" stroke=\"black\" points=\"54,-316.24 50.5,-306.24 47,-316.24 54,-316.24\"/>\n",
       "</g>\n",
       "<!-- 139847517365392 -->\n",
       "<g id=\"node8\" class=\"node\">\n",
       "<title>139847517365392</title>\n",
       "<polygon fill=\"lightblue\" stroke=\"black\" points=\"77.5,-440 23.5,-440 23.5,-409 77.5,-409 77.5,-440\"/>\n",
       "<text text-anchor=\"middle\" x=\"50.5\" y=\"-416\" font-family=\"monospace\" font-size=\"10.00\"> ()</text>\n",
       "</g>\n",
       "<!-- 139847517365392&#45;&gt;139847517080784 -->\n",
       "<g id=\"edge6\" class=\"edge\">\n",
       "<title>139847517365392&#45;&gt;139847517080784</title>\n",
       "<path fill=\"none\" stroke=\"black\" d=\"M50.5,-408.75C50.5,-399.39 50.5,-387.19 50.5,-377.16\"/>\n",
       "<polygon fill=\"black\" stroke=\"black\" points=\"54,-377.02 50.5,-367.02 47,-377.02 54,-377.02\"/>\n",
       "</g>\n",
       "<!-- 139847517079584 -->\n",
       "<g id=\"node9\" class=\"node\">\n",
       "<title>139847517079584</title>\n",
       "<polygon fill=\"lightgrey\" stroke=\"black\" points=\"214,-306 113,-306 113,-287 214,-287 214,-306\"/>\n",
       "<text text-anchor=\"middle\" x=\"163.5\" y=\"-294\" font-family=\"monospace\" font-size=\"10.00\">AccumulateGrad</text>\n",
       "</g>\n",
       "<!-- 139847517079584&#45;&gt;139847517092064 -->\n",
       "<g id=\"edge7\" class=\"edge\">\n",
       "<title>139847517079584&#45;&gt;139847517092064</title>\n",
       "<path fill=\"none\" stroke=\"black\" d=\"M154.34,-286.98C146,-279.23 133.47,-267.58 123.32,-258.14\"/>\n",
       "<polygon fill=\"black\" stroke=\"black\" points=\"125.53,-255.42 115.82,-251.17 120.76,-260.54 125.53,-255.42\"/>\n",
       "</g>\n",
       "<!-- 139847517365792 -->\n",
       "<g id=\"node10\" class=\"node\">\n",
       "<title>139847517365792</title>\n",
       "<polygon fill=\"lightblue\" stroke=\"black\" points=\"190.5,-373 136.5,-373 136.5,-342 190.5,-342 190.5,-373\"/>\n",
       "<text text-anchor=\"middle\" x=\"163.5\" y=\"-349\" font-family=\"monospace\" font-size=\"10.00\"> ()</text>\n",
       "</g>\n",
       "<!-- 139847517365792&#45;&gt;139847517079584 -->\n",
       "<g id=\"edge8\" class=\"edge\">\n",
       "<title>139847517365792&#45;&gt;139847517079584</title>\n",
       "<path fill=\"none\" stroke=\"black\" d=\"M163.5,-341.92C163.5,-334.22 163.5,-324.69 163.5,-316.43\"/>\n",
       "<polygon fill=\"black\" stroke=\"black\" points=\"167,-316.25 163.5,-306.25 160,-316.25 167,-316.25\"/>\n",
       "</g>\n",
       "</g>\n",
       "</svg>\n"
      ],
      "text/plain": [
       "<graphviz.graphs.Digraph at 0x7f30c9b8c270>"
      ]
     },
     "execution_count": 76,
     "metadata": {},
     "output_type": "execute_result"
    }
   ],
   "source": [
    "w = torch.tensor(1.0, requires_grad=True)\n",
    "b = torch.tensor(0.5, requires_grad=True)\n",
    "x = torch.tensor([1.4])\n",
    "y = torch.tensor([2.1])\n",
    "z = torch.add(torch.mul(w,x), b)\n",
    "print(f\"Prediction z: {z}\")\n",
    "loss = (y - z).pow(2).sum()\n",
    "loss.backward()\n",
    "print(f\"dL/dw: {w.grad}\")\n",
    "print(f\"dL/db: {b.grad}\")\n",
    "make_dot(loss)"
   ]
  },
  {
   "cell_type": "code",
   "execution_count": 77,
   "id": "de39b4d4-c5a6-47e9-8ec4-17f41bc94a45",
   "metadata": {},
   "outputs": [
    {
     "name": "stdout",
     "output_type": "stream",
     "text": [
      "W: 1.0, b: 0.5\n"
     ]
    }
   ],
   "source": [
    "print(f\"W: {w}, b: {b}\")"
   ]
  },
  {
   "cell_type": "code",
   "execution_count": 78,
   "id": "c0301d6c-ab3b-4bed-8243-a065a8e0bba2",
   "metadata": {},
   "outputs": [
    {
     "name": "stdout",
     "output_type": "stream",
     "text": [
      "W: 1.0005600452423096, b: 0.5004000067710876\n",
      "Current loss: 0.03999997302889824\n",
      "Updated loss: 0.039527732878923416\n",
      "Prediction z: tensor([1.9012])\n"
     ]
    }
   ],
   "source": [
    "lr = 0.001\n",
    "with torch.no_grad():\n",
    "    w = w - lr*w.grad # new w value after backpass\n",
    "    b = b - lr*b.grad # new b value after backpass\n",
    "    print(f\"W: {w}, b: {b}\")\n",
    "\n",
    "# Print current loss\n",
    "print(f\"Current loss: {loss}\")\n",
    "# calculate and print loss after update\n",
    "\n",
    "z = torch.add(torch.mul(w,x), b)\n",
    "loss = (y - z).pow(2).sum()\n",
    "print(f\"Updated loss: {loss}\")\n",
    "print(f\"Prediction z: {z}\")\n"
   ]
  },
  {
   "cell_type": "code",
   "execution_count": 79,
   "id": "7a290985-19a5-4bac-9859-7b07441a46c8",
   "metadata": {},
   "outputs": [
    {
     "data": {
      "image/svg+xml": [
       "<?xml version=\"1.0\" encoding=\"UTF-8\" standalone=\"no\"?>\n",
       "<!DOCTYPE svg PUBLIC \"-//W3C//DTD SVG 1.1//EN\"\n",
       " \"http://www.w3.org/Graphics/SVG/1.1/DTD/svg11.dtd\">\n",
       "<!-- Generated by graphviz version 2.42.4 (0)\n",
       " -->\n",
       "<!-- Pages: 1 -->\n",
       "<svg width=\"62pt\" height=\"39pt\"\n",
       " viewBox=\"0.00 0.00 62.00 39.00\" xmlns=\"http://www.w3.org/2000/svg\" xmlns:xlink=\"http://www.w3.org/1999/xlink\">\n",
       "<g id=\"graph0\" class=\"graph\" transform=\"scale(1 1) rotate(0) translate(4 35)\">\n",
       "<polygon fill=\"white\" stroke=\"transparent\" points=\"-4,4 -4,-35 58,-35 58,4 -4,4\"/>\n",
       "<!-- 139847517363072 -->\n",
       "<g id=\"node1\" class=\"node\">\n",
       "<title>139847517363072</title>\n",
       "<polygon fill=\"#caff70\" stroke=\"black\" points=\"54,-31 0,-31 0,0 54,0 54,-31\"/>\n",
       "<text text-anchor=\"middle\" x=\"27\" y=\"-7\" font-family=\"monospace\" font-size=\"10.00\"> ()</text>\n",
       "</g>\n",
       "</g>\n",
       "</svg>\n"
      ],
      "text/plain": [
       "<graphviz.graphs.Digraph at 0x7f30c9b8d040>"
      ]
     },
     "execution_count": 79,
     "metadata": {},
     "output_type": "execute_result"
    }
   ],
   "source": [
    "make_dot(loss)"
   ]
  }
 ],
 "metadata": {
  "kernelspec": {
   "display_name": "Python 3 (ipykernel)",
   "language": "python",
   "name": "python3"
  },
  "language_info": {
   "codemirror_mode": {
    "name": "ipython",
    "version": 3
   },
   "file_extension": ".py",
   "mimetype": "text/x-python",
   "name": "python",
   "nbconvert_exporter": "python",
   "pygments_lexer": "ipython3",
   "version": "3.13.5"
  }
 },
 "nbformat": 4,
 "nbformat_minor": 5
}
