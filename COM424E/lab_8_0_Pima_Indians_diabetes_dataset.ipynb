{
 "cells": [
  {
   "cell_type": "markdown",
   "id": "3c37bafb-fa0e-406f-98df-941a0fbcbfc9",
   "metadata": {},
   "source": [
    "## Pima Indians diabetes dataset"
   ]
  },
  {
   "cell_type": "code",
   "execution_count": 2,
   "id": "f1086f1d-a646-4605-b383-4e5250d23432",
   "metadata": {},
   "outputs": [
    {
     "ename": "ImportError",
     "evalue": "/home/brian/anaconda3/envs/COM424E/lib/python3.13/site-packages/torch/../../../libtorch_python.so: undefined symbol: _ZN5torch3jit5fuser6onednn9fuseGraphERSt10shared_ptrINS0_5GraphEE",
     "output_type": "error",
     "traceback": [
      "\u001b[31m---------------------------------------------------------------------------\u001b[39m",
      "\u001b[31mImportError\u001b[39m                               Traceback (most recent call last)",
      "\u001b[36mCell\u001b[39m\u001b[36m \u001b[39m\u001b[32mIn[2]\u001b[39m\u001b[32m, line 1\u001b[39m\n\u001b[32m----> \u001b[39m\u001b[32m1\u001b[39m \u001b[38;5;28;01mimport\u001b[39;00m\u001b[38;5;250m \u001b[39m\u001b[34;01mtorch\u001b[39;00m\u001b[34;01m.\u001b[39;00m\u001b[34;01mnn\u001b[39;00m\u001b[38;5;250m \u001b[39m\u001b[38;5;28;01mas\u001b[39;00m\u001b[38;5;250m \u001b[39m\u001b[34;01mnn\u001b[39;00m\n\u001b[32m      2\u001b[39m \u001b[38;5;28;01mfrom\u001b[39;00m\u001b[38;5;250m \u001b[39m\u001b[34;01mtorchviz\u001b[39;00m\u001b[38;5;250m \u001b[39m\u001b[38;5;28;01mimport\u001b[39;00m make_dot\n\u001b[32m      3\u001b[39m \u001b[38;5;28;01mimport\u001b[39;00m\u001b[38;5;250m \u001b[39m\u001b[34;01mnumpy\u001b[39;00m\u001b[38;5;250m \u001b[39m\u001b[38;5;28;01mas\u001b[39;00m\u001b[38;5;250m \u001b[39m\u001b[34;01mnp\u001b[39;00m\n",
      "\u001b[36mFile \u001b[39m\u001b[32m~/anaconda3/envs/COM424E/lib/python3.13/site-packages/torch/__init__.py:367\u001b[39m\n\u001b[32m    365\u001b[39m     \u001b[38;5;28;01mif\u001b[39;00m USE_GLOBAL_DEPS:\n\u001b[32m    366\u001b[39m         _load_global_deps()\n\u001b[32m--> \u001b[39m\u001b[32m367\u001b[39m     \u001b[38;5;28;01mfrom\u001b[39;00m\u001b[38;5;250m \u001b[39m\u001b[34;01mtorch\u001b[39;00m\u001b[34;01m.\u001b[39;00m\u001b[34;01m_C\u001b[39;00m\u001b[38;5;250m \u001b[39m\u001b[38;5;28;01mimport\u001b[39;00m *  \u001b[38;5;66;03m# noqa: F403\u001b[39;00m\n\u001b[32m    370\u001b[39m \u001b[38;5;28;01mclass\u001b[39;00m\u001b[38;5;250m \u001b[39m\u001b[34;01mSymInt\u001b[39;00m:\n\u001b[32m    371\u001b[39m \u001b[38;5;250m    \u001b[39m\u001b[33;03m\"\"\"\u001b[39;00m\n\u001b[32m    372\u001b[39m \u001b[33;03m    Like an int (including magic methods), but redirects all operations on the\u001b[39;00m\n\u001b[32m    373\u001b[39m \u001b[33;03m    wrapped node. This is used in particular to symbolically record operations\u001b[39;00m\n\u001b[32m    374\u001b[39m \u001b[33;03m    in the symbolic shape workflow.\u001b[39;00m\n\u001b[32m    375\u001b[39m \u001b[33;03m    \"\"\"\u001b[39;00m\n",
      "\u001b[31mImportError\u001b[39m: /home/brian/anaconda3/envs/COM424E/lib/python3.13/site-packages/torch/../../../libtorch_python.so: undefined symbol: _ZN5torch3jit5fuser6onednn9fuseGraphERSt10shared_ptrINS0_5GraphEE"
     ]
    }
   ],
   "source": [
    "import torch.nn as nn\n",
    "from torchviz import make_dot\n",
    "import numpy as np\n",
    "import torch.optim as optim\n",
    "import pandas as pd"
   ]
  },
  {
   "cell_type": "code",
   "execution_count": 4,
   "id": "2c26720b-46cf-4186-aeae-855859c7b8ec",
   "metadata": {},
   "outputs": [],
   "source": [
    "# Run this to get the pima-indians-diabetes.data.csv file\n",
    "#!wget https://raw.githubusercontent.com/jbrownlee/Datasets/master/pima-indians-diabetes.data.csv"
   ]
  },
  {
   "cell_type": "code",
   "execution_count": null,
   "id": "a8d4027f-6e7a-4927-bff2-2c6dae192371",
   "metadata": {},
   "outputs": [],
   "source": [
    "numpy_dataset = np.loadtxt('pima-indians-diabetes.data.csv', delimiter=\",\")\n",
    "print(f\"numpy_dataset shape: {numpy_dataset.shape}\")\n",
    "print(numpy_dataset)\n",
    "pandas_dataset = pd.read_csv('pima-indians-diabetes.data.csv')\n",
    "print(f\"pandas_dataset shape: {pandas_dataset.shape}\")\n",
    "print(pandas_dataset)"
   ]
  },
  {
   "cell_type": "code",
   "execution_count": null,
   "id": "0d8b2749-b3b4-4258-a011-b240327c5927",
   "metadata": {},
   "outputs": [],
   "source": [
    "x = numpy_dataset[:,0:8]\n",
    "y = numpy_dataset[:,8]"
   ]
  },
  {
   "cell_type": "code",
   "execution_count": null,
   "id": "fe2ac045-df45-4c54-a050-08d95d155f29",
   "metadata": {},
   "outputs": [],
   "source": [
    "x = torch.tensor(x, dtype=torch.float32)\n",
    "y = torch.tensor(y, dtype=torch.float32).reshape(-1,1)"
   ]
  },
  {
   "cell_type": "code",
   "execution_count": null,
   "id": "a946cf91-91d1-495b-82b9-1a89e0b055ce",
   "metadata": {},
   "outputs": [],
   "source": [
    "model = nn.Sequential(\n",
    "    nn.Linear(8,24),\n",
    "    nn.ReLU(),\n",
    "    nn.Linear(24,24),\n",
    "    nn.ReLU(),\n",
    "    nn.Linear(24,24),\n",
    "    nn.ReLU(),\n",
    "    nn.Linear(24,24),\n",
    "    nn.ReLU(),\n",
    "    nn.Linear(24,24),\n",
    "    nn.ReLU(),\n",
    "    nn.Linear(24,24),\n",
    "    nn.ReLU(),\n",
    "    nn.Linear(24,24),\n",
    "    nn.ReLU(),\n",
    "    nn.Linear(24,24),\n",
    "    nn.ReLU(),\n",
    "    nn.Linear(24,24),\n",
    "    nn.ReLU(),\n",
    "    nn.Linear(24,8),\n",
    "    nn.ReLU(),\n",
    "    nn.Linear(8,1),\n",
    "    nn.Sigmoid()\n",
    ")"
   ]
  },
  {
   "cell_type": "code",
   "execution_count": null,
   "id": "3bea0cae-c40b-4d08-9eb1-4bd6ef96f7d2",
   "metadata": {},
   "outputs": [],
   "source": [
    "# optimizer = optim.Adam(model.parameters(), lr=0.01)\n",
    "optimizer = optim.SGD(model.parameters(), lr=0.001)"
   ]
  },
  {
   "cell_type": "code",
   "execution_count": null,
   "id": "41dfb9d4-db13-436c-ab9f-0e88dfbfafa8",
   "metadata": {},
   "outputs": [],
   "source": [
    "loss_fn = nn.BCELoss()"
   ]
  },
  {
   "cell_type": "code",
   "execution_count": null,
   "id": "79d58dfc-540e-4c1c-9447-820aef0c1194",
   "metadata": {},
   "outputs": [],
   "source": [
    "n_epochs = 200\n",
    "batch_size = 10"
   ]
  },
  {
   "cell_type": "code",
   "execution_count": null,
   "id": "c09eb9ce-2f0b-48e5-bb94-a0d35cb6be48",
   "metadata": {},
   "outputs": [],
   "source": [
    "for epoch in range(n_epochs):\n",
    "    for i in range(0, len(x), batch_size):\n",
    "        x_batch = x[i:i+batch_size]\n",
    "        y_pred = model(x_batch)\n",
    "        y_batch = y[i:i+batch_size]\n",
    "        loss = loss_fn(y_pred, y_batch)\n",
    "        optimizer.zero_grad()\n",
    "        loss.backward()\n",
    "        optimizer.step()\n",
    "    print(f\"Finished epoch {epoch}, latest loss {loss}\")"
   ]
  },
  {
   "cell_type": "markdown",
   "id": "089c9dbc-05e7-4488-aacb-5ffc93324955",
   "metadata": {},
   "source": [
    "## Another way of defining the model"
   ]
  },
  {
   "cell_type": "code",
   "execution_count": null,
   "id": "4497cc15-a801-4742-b630-bd371f7b2192",
   "metadata": {},
   "outputs": [],
   "source": [
    "class MyNeuralNet(nn.Module):\n",
    "    def __init__(self):\n",
    "        super().__init__()\n",
    "        self.layer1 = nn.Linear(8,12)\n",
    "        self.act1 = nn.ReLU()\n",
    "        self.layer2 = nn.Linear(12,8)\n",
    "        self.act2 = nn.ReLU()\n",
    "        self.layer3 = nn.Linear(8,1)\n",
    "        self.act3 = nn.Sigmoid()\n",
    "\n",
    "    def forward(self, x):\n",
    "        x = self.act3(self.layer3(self.act2(self.layer2(self.act1(self.layer1(x))))))"
   ]
  },
  {
   "cell_type": "code",
   "execution_count": 3,
   "id": "c5dc200c-a89a-451f-bc10-5fb6999be662",
   "metadata": {},
   "outputs": [
    {
     "ename": "NameError",
     "evalue": "name 'MyNeuralNet' is not defined",
     "output_type": "error",
     "traceback": [
      "\u001b[31m---------------------------------------------------------------------------\u001b[39m",
      "\u001b[31mNameError\u001b[39m                                 Traceback (most recent call last)",
      "\u001b[36mCell\u001b[39m\u001b[36m \u001b[39m\u001b[32mIn[3]\u001b[39m\u001b[32m, line 1\u001b[39m\n\u001b[32m----> \u001b[39m\u001b[32m1\u001b[39m MyNeuralNet()\n",
      "\u001b[31mNameError\u001b[39m: name 'MyNeuralNet' is not defined"
     ]
    }
   ],
   "source": [
    "MyNeuralNet()"
   ]
  },
  {
   "cell_type": "markdown",
   "id": "6273ee28-49bb-43fe-b423-d838439800e3",
   "metadata": {},
   "source": [
    "## Inference"
   ]
  },
  {
   "cell_type": "markdown",
   "id": "3b1b114e-2249-4d02-8042-83ec94c4b02b",
   "metadata": {},
   "source": [
    "### Example"
   ]
  },
  {
   "cell_type": "code",
   "execution_count": null,
   "id": "3b4bc1cc-d09d-4809-a7e7-80e1bbf8d1d8",
   "metadata": {},
   "outputs": [],
   "source": [
    "i = 5\n",
    "x_sample = x[i: i+1]\n",
    "y_pred = model(x_sample)\n",
    "print(f\"{x_sample[0]} -> {y_pred[0]}\")"
   ]
  },
  {
   "cell_type": "markdown",
   "id": "2f5c73dc-2704-41a5-8a0f-d2c4c0cc9a73",
   "metadata": {},
   "source": [
    "A better way of running iniference by turning gradient computation off (we dont need gradient during inference)"
   ]
  },
  {
   "cell_type": "code",
   "execution_count": null,
   "id": "4d54fdaa-1795-47a8-aa66-6b57b73ddc27",
   "metadata": {},
   "outputs": [],
   "source": [
    "i = 5\n",
    "x_sample = x[i: i+1]\n",
    "model.eval()\n",
    "with torch.no_grad():\n",
    "    y_pred = model(x_sample)\n",
    "print(f\"{x_sample[0]} -> {y_pred[0]}\")"
   ]
  },
  {
   "cell_type": "markdown",
   "id": "f5ae9a9c-29e4-4495-a58a-8ecdfb36bf1a",
   "metadata": {},
   "source": [
    "### Accuracy\n",
    "The model outputs a sigmoid value which is between 0 and 1. This can be interpreted into class prediction by rounding it the closest integer: The accuracy of the model can therefore be corrupted as follows :-"
   ]
  },
  {
   "cell_type": "code",
   "execution_count": null,
   "id": "773358f7-ec73-42f4-bffa-26d9a990338f",
   "metadata": {},
   "outputs": [],
   "source": [
    "model.eval()\n",
    "with torch.no_grad():\n",
    "    y_pred = model(x)\n",
    "\n",
    "accuracy = (y_pred.round() == y).float().mean()\n",
    "print(f\"Accuracy = {accuracy}\")"
   ]
  },
  {
   "cell_type": "markdown",
   "id": "dacb7c9a-b3c9-4809-8c49-a2dc3ec39bf6",
   "metadata": {},
   "source": [
    "Construct a neural network with the following architecture\n",
    "Layer 1: input = 10 output: 15\n",
    "L1 activation: ReLU\n",
    "Layer 2: output = 25\n",
    "L2 activation: GeLU\n",
    "Layer 3: output = 10\n",
    "L3 activation: ReLU\n",
    "Layer 4: output = 3\n",
    "L$ activation: softmax"
   ]
  }
 ],
 "metadata": {
  "kernelspec": {
   "display_name": "Python 3 (ipykernel)",
   "language": "python",
   "name": "python3"
  },
  "language_info": {
   "codemirror_mode": {
    "name": "ipython",
    "version": 3
   },
   "file_extension": ".py",
   "mimetype": "text/x-python",
   "name": "python",
   "nbconvert_exporter": "python",
   "pygments_lexer": "ipython3",
   "version": "3.13.5"
  }
 },
 "nbformat": 4,
 "nbformat_minor": 5
}
