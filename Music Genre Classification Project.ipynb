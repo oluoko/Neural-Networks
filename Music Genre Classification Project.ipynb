{
 "cells": [
  {
   "cell_type": "code",
   "execution_count": null,
   "id": "ada47789-716a-4ee2-ae17-73ab1356338b",
   "metadata": {},
   "outputs": [],
   "source": [
    "!git-commit \"Music Genre\""
   ]
  },
  {
   "cell_type": "markdown",
   "id": "a4606c43-10f4-4285-b68f-003b92766f5f",
   "metadata": {},
   "source": [
    "# Music Genre Classification using Audio Features\n",
    "\n",
    "### Uses these libraries `torch`, `pandas`, `scipy`, `evaluate`, `numpy`, `sklearn` and `datasets`"
   ]
  },
  {
   "cell_type": "markdown",
   "id": "f9cfc753-7bcd-46d1-9a01-cadbb988f7e2",
   "metadata": {},
   "source": [
    "### 1. Import the libraries"
   ]
  },
  {
   "cell_type": "code",
   "execution_count": 3,
   "id": "d797c0fe-61b6-4f09-a643-241805b14abe",
   "metadata": {},
   "outputs": [
    {
     "ename": "ModuleNotFoundError",
     "evalue": "No module named 'matplotlib'",
     "output_type": "error",
     "traceback": [
      "\u001b[31m---------------------------------------------------------------------------\u001b[39m",
      "\u001b[31mModuleNotFoundError\u001b[39m                       Traceback (most recent call last)",
      "\u001b[36mCell\u001b[39m\u001b[36m \u001b[39m\u001b[32mIn[3]\u001b[39m\u001b[32m, line 16\u001b[39m\n\u001b[32m     14\u001b[39m \u001b[38;5;28;01mimport\u001b[39;00m\u001b[38;5;250m \u001b[39m\u001b[34;01mevaluate\u001b[39;00m\n\u001b[32m     15\u001b[39m \u001b[38;5;28;01mfrom\u001b[39;00m\u001b[38;5;250m \u001b[39m\u001b[34;01mdatasets\u001b[39;00m\u001b[38;5;250m \u001b[39m\u001b[38;5;28;01mimport\u001b[39;00m load_dataset\n\u001b[32m---> \u001b[39m\u001b[32m16\u001b[39m \u001b[38;5;28;01mimport\u001b[39;00m\u001b[38;5;250m \u001b[39m\u001b[34;01mmatplotlib\u001b[39;00m\u001b[34;01m.\u001b[39;00m\u001b[34;01mpyplot\u001b[39;00m\u001b[38;5;250m \u001b[39m\u001b[38;5;28;01mas\u001b[39;00m\u001b[38;5;250m \u001b[39m\u001b[34;01mplt\u001b[39;00m\n\u001b[32m     17\u001b[39m \u001b[38;5;28;01mimport\u001b[39;00m\u001b[38;5;250m \u001b[39m\u001b[34;01mseaborn\u001b[39;00m\u001b[38;5;250m \u001b[39m\u001b[38;5;28;01mas\u001b[39;00m\u001b[38;5;250m \u001b[39m\u001b[34;01msns\u001b[39;00m\n\u001b[32m     18\u001b[39m \u001b[38;5;28;01mimport\u001b[39;00m\u001b[38;5;250m \u001b[39m\u001b[34;01mwarnings\u001b[39;00m\n",
      "\u001b[31mModuleNotFoundError\u001b[39m: No module named 'matplotlib'"
     ]
    }
   ],
   "source": [
    "import torch\n",
    "import torch.nn as nn\n",
    "import torch.optim as optim\n",
    "from torch.utils.data import Dataset, DataLoader\n",
    "\n",
    "import pandas as pd\n",
    "import numpy as np\n",
    "import scipy.stats as stats\n",
    "from sklearn.preprocessing import StandardScaler\n",
    "from sklearn.model_selection import train_test_split\n",
    "from sklearn.metrics import confusion_matrix, classification_report\n",
    "from sklearn.pipeline import Pipeline\n",
    "\n",
    "import evaluate\n",
    "from datasets import load_dataset\n",
    "import matplotlib.pyplot as plt\n",
    "import seaborn as sns\n",
    "import warnings\n",
    "warnings.filterwarnings('ignore')"
   ]
  },
  {
   "cell_type": "code",
   "execution_count": 4,
   "id": "ea8c95ed-630c-4bfd-8d90-38642ed71d12",
   "metadata": {},
   "outputs": [
    {
     "name": "stdout",
     "output_type": "stream",
     "text": [
      "\u001b[33mWARNING: Retrying (Retry(total=4, connect=None, read=None, redirect=None, status=None)) after connection broken by 'NewConnectionError('<pip._vendor.urllib3.connection.HTTPSConnection object at 0x7f6cc9469160>: Failed to establish a new connection: [Errno -2] Name or service not known')': /simple/matplotlib/\u001b[0m\u001b[33m\n",
      "\u001b[33mWARNING: Retrying (Retry(total=3, connect=None, read=None, redirect=None, status=None)) after connection broken by 'NewConnectionError('<pip._vendor.urllib3.connection.HTTPSConnection object at 0x7f6cc95a65d0>: Failed to establish a new connection: [Errno -2] Name or service not known')': /simple/matplotlib/\u001b[0m\u001b[33m\n",
      "\u001b[33mWARNING: Retrying (Retry(total=2, connect=None, read=None, redirect=None, status=None)) after connection broken by 'NewConnectionError('<pip._vendor.urllib3.connection.HTTPSConnection object at 0x7f6cc95a6850>: Failed to establish a new connection: [Errno -2] Name or service not known')': /simple/matplotlib/\u001b[0m\u001b[33m\n",
      "\u001b[33mWARNING: Retrying (Retry(total=1, connect=None, read=None, redirect=None, status=None)) after connection broken by 'NewConnectionError('<pip._vendor.urllib3.connection.HTTPSConnection object at 0x7f6cc95a6ad0>: Failed to establish a new connection: [Errno -2] Name or service not known')': /simple/matplotlib/\u001b[0m\u001b[33m\n",
      "\u001b[33mWARNING: Retrying (Retry(total=0, connect=None, read=None, redirect=None, status=None)) after connection broken by 'NewConnectionError('<pip._vendor.urllib3.connection.HTTPSConnection object at 0x7f6cc95a6d50>: Failed to establish a new connection: [Errno -2] Name or service not known')': /simple/matplotlib/\u001b[0m\u001b[33m\n",
      "\u001b[31mERROR: Could not find a version that satisfies the requirement matplotlib (from versions: none)\u001b[0m\u001b[31m\n",
      "\u001b[31mERROR: No matching distribution found for matplotlib\u001b[0m\u001b[31m\n",
      "\u001b[0m"
     ]
    }
   ],
   "source": [
    "!pip install matplotlib"
   ]
  },
  {
   "cell_type": "markdown",
   "id": "d13ac656-c76f-4255-a902-00fb116f9e9b",
   "metadata": {},
   "source": [
    "### 2. Load the GTZAN dataset from Hugging Face "
   ]
  },
  {
   "cell_type": "code",
   "execution_count": null,
   "id": "6107695f-afd7-486e-b20b-553fdc5cea1f",
   "metadata": {},
   "outputs": [],
   "source": [
    "print(\"Loading dataset...\")\n",
    "dataset = load_dataset(\"marsyas/gtzan\", \"audio\")"
   ]
  },
  {
   "cell_type": "markdown",
   "id": "c3ade868-8b38-47d8-90ca-b374ae554c0b",
   "metadata": {},
   "source": [
    "#### Get audio features using librosa"
   ]
  },
  {
   "cell_type": "code",
   "execution_count": null,
   "id": "4de4ca9d-5875-4abf-bc94-e9ecb0399573",
   "metadata": {},
   "outputs": [],
   "source": [
    "def extract_features(audio_array, sample_rate):\n",
    "    # Import librosa here to avoid conflicts\n",
    "    import librosa\n",
    "    \n",
    "    # Extract various audio features\n",
    "    # Mel-frequency cepstral coefficients\n",
    "    mfccs = librosa.feature.mfcc(y=audio_array, sr=sample_rate, n_mfcc=13)\n",
    "    \n",
    "    # Spectral features\n",
    "    spectral_centroid = librosa.feature.spectral_centroid(y=audio_array, sr=sample_rate)[0]\n",
    "    spectral_bandwidth = librosa.feature.spectral_bandwidth(y=audio_array, sr=sample_rate)[0]\n",
    "    spectral_rolloff = librosa.feature.spectral_rolloff(y=audio_array, sr=sample_rate)[0]\n",
    "    \n",
    "    # Rhythm features\n",
    "    tempo, _ = librosa.beat.beat_track(y=audio_array, sr=sample_rate)\n",
    "    \n",
    "    # Zero crossing rate\n",
    "    zero_crossing_rate = librosa.feature.zero_crossing_rate(audio_array)[0]\n",
    "    \n",
    "    # Compute statistics for each feature\n",
    "    features = {}\n",
    "    \n",
    "    # MFCC stats\n",
    "    for i in range(mfccs.shape[0]):\n",
    "        features[f'mfcc{i+1}_mean'] = np.mean(mfccs[i])\n",
    "        features[f'mfcc{i+1}_std'] = np.std(mfccs[i])\n",
    "        features[f'mfcc{i+1}_skew'] = stats.skew(mfccs[i])\n",
    "        features[f'mfcc{i+1}_kurtosis'] = stats.kurtosis(mfccs[i])\n",
    "    \n",
    "    # Other features stats\n",
    "    for name, feature in [\n",
    "        ('spectral_centroid', spectral_centroid),\n",
    "        ('spectral_bandwidth', spectral_bandwidth), \n",
    "        ('spectral_rolloff', spectral_rolloff),\n",
    "        ('zero_crossing_rate', zero_crossing_rate)\n",
    "    ]:\n",
    "        features[f'{name}_mean'] = np.mean(feature)\n",
    "        features[f'{name}_std'] = np.std(feature)\n",
    "        features[f'{name}_skew'] = stats.skew(feature)\n",
    "        features[f'{name}_kurtosis'] = stats.kurtosis(feature)\n",
    "    \n",
    "    # Add tempo\n",
    "    features['tempo'] = tempo\n",
    "    \n",
    "    return features"
   ]
  },
  {
   "cell_type": "markdown",
   "id": "3121c0b0-4b86-4f48-98b6-ee896434742c",
   "metadata": {},
   "source": [
    "#### Process audio files and extract features"
   ]
  },
  {
   "cell_type": "code",
   "execution_count": null,
   "id": "a18ad677-5517-4a0e-8519-ea8f0ef61e5f",
   "metadata": {},
   "outputs": [],
   "source": [
    "def process_dataset(dataset_split):\n",
    "    features_list = []\n",
    "    labels = []\n",
    "    \n",
    "    for item in dataset_split:\n",
    "        audio = item['audio']\n",
    "        audio_array = audio['array']\n",
    "        sample_rate = audio['sampling_rate']\n",
    "        genre = item['genre']\n",
    "        \n",
    "        # Extract features\n",
    "        features = extract_features(audio_array, sample_rate)\n",
    "        features_list.append(features)\n",
    "        labels.append(genre)\n",
    "    \n",
    "    # Convert to DataFrame\n",
    "    df = pd.DataFrame(features_list)\n",
    "    \n",
    "    return df, labels"
   ]
  },
  {
   "cell_type": "markdown",
   "id": "fe74751f-a62c-4d12-b2ce-42fae2168ffc",
   "metadata": {},
   "source": [
    "#### Process a smaller subset for quick demonstration (adjust as needed)"
   ]
  },
  {
   "cell_type": "code",
   "execution_count": null,
   "id": "ddab7e84-e518-433b-bd36-17a9892544be",
   "metadata": {},
   "outputs": [],
   "source": [
    "print(\"Extracting audio features (this may take a while)...\")\n",
    "train_size = 800  # Adjust based on your computational resources\n",
    "test_size = 100"
   ]
  },
  {
   "cell_type": "markdown",
   "id": "e4c6e462-62bd-4841-9188-cd2b396a1ac0",
   "metadata": {},
   "source": [
    "#### Randomly sample from the dataset"
   ]
  },
  {
   "cell_type": "code",
   "execution_count": null,
   "id": "884c397e-9b33-4b50-b337-57bffc7159bb",
   "metadata": {},
   "outputs": [],
   "source": [
    "train_indices = np.random.choice(range(len(dataset['train'])), train_size, replace=False)\n",
    "test_indices = np.random.choice(range(len(dataset['test'])), test_size, replace=False)\n",
    "\n",
    "train_subset = [dataset['train'][i] for i in train_indices]\n",
    "test_subset = [dataset['test'][i] for i in test_indices]"
   ]
  },
  {
   "cell_type": "markdown",
   "id": "c5a1fc55-fc8a-40a4-aa73-60bc036b3da9",
   "metadata": {},
   "source": [
    "#### Extract features"
   ]
  },
  {
   "cell_type": "markdown",
   "id": "8953d922-c1b3-4b4e-93ce-4b0e6be1f0b9",
   "metadata": {},
   "source": [
    "### Further improvements you could make:\n",
    "\n",
    "- Implement k-fold cross-validation\n",
    "- Try different neural network architectures\n",
    "- Implement early stopping\n",
    "- Explore feature importance\n",
    "- Add data augmentation techniques\n",
    "- Implement transfer learning using pretrained audio models"
   ]
  },
  {
   "cell_type": "code",
   "execution_count": null,
   "id": "915f5008-404b-450e-9cbe-72857a57b85c",
   "metadata": {},
   "outputs": [],
   "source": []
  }
 ],
 "metadata": {
  "kernelspec": {
   "display_name": "Python 3 (ipykernel)",
   "language": "python",
   "name": "python3"
  },
  "language_info": {
   "codemirror_mode": {
    "name": "ipython",
    "version": 3
   },
   "file_extension": ".py",
   "mimetype": "text/x-python",
   "name": "python",
   "nbconvert_exporter": "python",
   "pygments_lexer": "ipython3",
   "version": "3.13.2"
  }
 },
 "nbformat": 4,
 "nbformat_minor": 5
}
